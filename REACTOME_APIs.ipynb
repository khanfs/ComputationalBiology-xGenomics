{
  "nbformat": 4,
  "nbformat_minor": 0,
  "metadata": {
    "colab": {
      "name": "REACTOME-APIs.ipynb",
      "provenance": [],
      "authorship_tag": "ABX9TyPL1AZ8PxiriMP1nvr2w9qa",
      "include_colab_link": true
    },
    "kernelspec": {
      "name": "python3",
      "display_name": "Python 3"
    },
    "language_info": {
      "name": "python"
    }
  },
  "cells": [
    {
      "cell_type": "markdown",
      "metadata": {
        "id": "view-in-github",
        "colab_type": "text"
      },
      "source": [
        "<a href=\"https://colab.research.google.com/github/khanfs/ComputationalBiology-xGenomics/blob/main/REACTOME_APIs.ipynb\" target=\"_parent\"><img src=\"https://colab.research.google.com/assets/colab-badge.svg\" alt=\"Open In Colab\"/></a>"
      ]
    },
    {
      "cell_type": "markdown",
      "source": [
        "# **Reactome API**\n",
        "\n",
        "REACTOME is an open-source, open access, manually curated and peer-reviewed pathway database. Provides bioinformatics tools for the visualization, interpretation and analysis of pathway knowledge.\n",
        "\n",
        "Interaction, reaction and pathway data are provided as downloadable flat, Neo4j GraphDB, MySQL, BioPAX, SBML and PSI-MITAB files and are also accessible through our Web Services APIs. Software and instructions for local installation of the Reactome database, website, and data entry tools are also available to support independent pathway curation.\n",
        "\n",
        "**Resources**:\n",
        "\n",
        "* [Reactome Python Package](https://github.com/reactome/reactome2py)"
      ],
      "metadata": {
        "id": "idJTnt2RzgHd"
      }
    },
    {
      "cell_type": "code",
      "execution_count": 1,
      "metadata": {
        "colab": {
          "base_uri": "https://localhost:8080/"
        },
        "id": "1OT6mA8XjIme",
        "outputId": "f8aab5fd-9ee2-4ab0-cc77-a619df3a55ff"
      },
      "outputs": [
        {
          "output_type": "stream",
          "name": "stdout",
          "text": [
            "Looking in indexes: https://pypi.org/simple, https://us-python.pkg.dev/colab-wheels/public/simple/\n",
            "Collecting reactome2py\n",
            "  Downloading reactome2py-3.0.0-py3-none-any.whl (26 kB)\n",
            "Collecting json5>=0.8.4\n",
            "  Downloading json5-0.9.8.tar.gz (22 kB)\n",
            "Requirement already satisfied: pandas>=0.24.2 in /usr/local/lib/python3.7/dist-packages (from reactome2py) (1.3.5)\n",
            "Requirement already satisfied: requests in /usr/local/lib/python3.7/dist-packages (from reactome2py) (2.23.0)\n",
            "Requirement already satisfied: python-dateutil>=2.7.3 in /usr/local/lib/python3.7/dist-packages (from pandas>=0.24.2->reactome2py) (2.8.2)\n",
            "Requirement already satisfied: pytz>=2017.3 in /usr/local/lib/python3.7/dist-packages (from pandas>=0.24.2->reactome2py) (2022.1)\n",
            "Requirement already satisfied: numpy>=1.17.3 in /usr/local/lib/python3.7/dist-packages (from pandas>=0.24.2->reactome2py) (1.21.6)\n",
            "Requirement already satisfied: six>=1.5 in /usr/local/lib/python3.7/dist-packages (from python-dateutil>=2.7.3->pandas>=0.24.2->reactome2py) (1.15.0)\n",
            "Requirement already satisfied: urllib3!=1.25.0,!=1.25.1,<1.26,>=1.21.1 in /usr/local/lib/python3.7/dist-packages (from requests->reactome2py) (1.24.3)\n",
            "Requirement already satisfied: certifi>=2017.4.17 in /usr/local/lib/python3.7/dist-packages (from requests->reactome2py) (2022.6.15)\n",
            "Requirement already satisfied: idna<3,>=2.5 in /usr/local/lib/python3.7/dist-packages (from requests->reactome2py) (2.10)\n",
            "Requirement already satisfied: chardet<4,>=3.0.2 in /usr/local/lib/python3.7/dist-packages (from requests->reactome2py) (3.0.4)\n",
            "Building wheels for collected packages: json5\n",
            "  Building wheel for json5 (setup.py) ... \u001b[?25l\u001b[?25hdone\n",
            "  Created wheel for json5: filename=json5-0.9.8-py2.py3-none-any.whl size=18604 sha256=8f3d1742418d7155c85a09a7e6800afb6b5c39ec440a3e20d61a5436956c620f\n",
            "  Stored in directory: /root/.cache/pip/wheels/ac/9b/de/6e4fd8f159d3dfa42c42ceddf2184fda29ea7fb1e8f5f8371c\n",
            "Successfully built json5\n",
            "Installing collected packages: json5, reactome2py\n",
            "Successfully installed json5-0.9.8 reactome2py-3.0.0\n"
          ]
        }
      ],
      "source": [
        "! pip install reactome2py"
      ]
    },
    {
      "cell_type": "markdown",
      "source": [
        "##**Example: Assessing pathways and drug targets in Cyclic Multiplexed-Immunofluorescence (cmIF) image biomarkers** \n",
        "\n",
        "Immunotherapy harnesses the power of the adaptive immune system and has revolutionized the field of oncotherapy, as novel therapeutic strategies have been introduced into clinical use. The development of immune checkpoint inhibitors has led to durable control of disease in a subset of advanced cancer patients, such as those with melanoma and non-small cell lung cancer. However, predicting patient responses to therapy remains a major challenge, due to the remarkable genomic, epigenetic, and microenvironmental heterogeneity present in each tumor. \n",
        "\n",
        "\n",
        "**Reference**: Eng J, Thibault G, Luoh SW, Gray JW, Chang YH, Chin K. Cyclic Multiplexed-Immunofluorescence (cmIF), a Highly Multiplexed Method for Single-Cell Analysis. Methods Mol Biol. 2020;2055:521-562. [doi: 10.1007/978-1-4939-9773-2_24](https://pubmed.ncbi.nlm.nih.gov/31502168/). PMID: 31502168.\n",
        "\n",
        "###**1. After mapping proteins to gene names, we wrangle the matrix into a dictionary where each image section would hold the biomarkers as its values.** "
      ],
      "metadata": {
        "id": "bWd8axv4zpzt"
      }
    },
    {
      "cell_type": "code",
      "source": [
        "import reactome2py"
      ],
      "metadata": {
        "id": "78SgsrsfjzP0"
      },
      "execution_count": 2,
      "outputs": []
    },
    {
      "cell_type": "code",
      "source": [
        "from reactome2py import analysis, content, utils\n",
        "from collections import defaultdict\n",
        "from itertools import chain\n",
        "from operator import methodcaller\n",
        "import pandas as pd"
      ],
      "metadata": {
        "id": "HwQ1-2KUj9S8"
      },
      "execution_count": 3,
      "outputs": []
    },
    {
      "cell_type": "code",
      "source": [
        "path = \"/content/marker_matrix_gene.csv\""
      ],
      "metadata": {
        "id": "fliXRQ0Eq_qi"
      },
      "execution_count": 4,
      "outputs": []
    },
    {
      "cell_type": "code",
      "source": [
        "df = pd.read_csv(path, index_col=0)\n",
        "df = df.apply(lambda x : x.str.split(\",\"), axis=0)\n",
        "row_dict = df.T.to_dict('records')\n",
        "\n",
        "def imggenes2dict(row_dict):\n",
        "    dd = defaultdict(list)\n",
        "    dict_items = map(methodcaller('items'), row_dict)\n",
        "    \n",
        "    for k, v in chain.from_iterable(dict_items):\n",
        "        dd[k].extend(v)\n",
        "    \n",
        "    img_dict = dict(dd)\n",
        "    return(img_dict)\n",
        "\n",
        "img_dict = imggenes2dict(row_dict)"
      ],
      "metadata": {
        "id": "k0M2iQPqr1cR"
      },
      "execution_count": 5,
      "outputs": []
    },
    {
      "cell_type": "markdown",
      "source": [
        "###**2. Now we can pass the biomarkers to fetch all possible reactome pathways available for each image segment.** "
      ],
      "metadata": {
        "id": "8v4zJnIo1PRk"
      }
    },
    {
      "cell_type": "code",
      "source": [
        "result = [analysis.identifiers(ids=\",\".join(d)) for d in img_dict.values()]\n",
        "tokens = [r['summary']['token'] for r in result]\n",
        "\n",
        "\n",
        "def get_pathways(t):\n",
        "    token_result = analysis.token(token=t, species='Homo sapiens', page_size='-1', page='-1', sort_by='ENTITIES_FDR', \n",
        "                                  order='ASC', resource='TOTAL', p_value='1', include_disease=True, \n",
        "                                  min_entities=None, max_entities=None)\n",
        "    l = [p['name'] for p in token_result['pathways']]\n",
        "    l.sort() \n",
        "    return(l)\n",
        "\n",
        "pathways = [get_pathways(t) for t in tokens]\n",
        "pathways[1]"
      ],
      "metadata": {
        "colab": {
          "base_uri": "https://localhost:8080/"
        },
        "id": "J4gomXI1vFVz",
        "outputId": "40743f09-281b-44d6-e6e1-bed6a641aef1"
      },
      "execution_count": 6,
      "outputs": [
        {
          "output_type": "execute_result",
          "data": {
            "text/plain": [
              "['Adaptive Immune System',\n",
              " 'Base Excision Repair',\n",
              " 'Cell Cycle',\n",
              " 'Cell Cycle, Mitotic',\n",
              " 'Chromosome Maintenance',\n",
              " 'Costimulation by the CD28 family',\n",
              " 'DNA Damage Bypass',\n",
              " 'DNA Double-Strand Break Repair',\n",
              " 'DNA Repair',\n",
              " 'DNA Replication',\n",
              " 'DNA strand elongation',\n",
              " 'Disease',\n",
              " 'Dual Incision in GG-NER',\n",
              " 'Dual incision in TC-NER',\n",
              " 'E3 ubiquitin ligases ubiquitinate target proteins',\n",
              " 'Extension of Telomeres',\n",
              " 'G0 and Early G1',\n",
              " 'G1/S Transition',\n",
              " 'G1/S-Specific Transcription',\n",
              " 'Gap-filling DNA repair synthesis and ligation in GG-NER',\n",
              " 'Gap-filling DNA repair synthesis and ligation in TC-NER',\n",
              " 'Gene expression (Transcription)',\n",
              " 'Generic Transcription Pathway',\n",
              " 'Global Genome Nucleotide Excision Repair (GG-NER)',\n",
              " 'HDR through Homologous Recombination (HRR)',\n",
              " 'HDR through Homologous Recombination (HRR) or Single Strand Annealing (SSA)',\n",
              " 'Homology Directed Repair',\n",
              " 'Immune System',\n",
              " 'Infectious disease',\n",
              " 'Innate Immune System',\n",
              " 'Lagging Strand Synthesis',\n",
              " 'Leading Strand Synthesis',\n",
              " 'Metabolism of proteins',\n",
              " 'Mismatch Repair',\n",
              " 'Mismatch repair (MMR) directed by MSH2:MSH3 (MutSbeta)',\n",
              " 'Mismatch repair (MMR) directed by MSH2:MSH6 (MutSalpha)',\n",
              " 'Mitotic G1 phase and G1/S transition',\n",
              " 'Neutrophil degranulation',\n",
              " 'Nucleotide Excision Repair',\n",
              " 'PCNA-Dependent Long Patch Base Excision Repair',\n",
              " 'PD-1 signaling',\n",
              " 'Polymerase switching',\n",
              " 'Polymerase switching on the C-strand of the telomere',\n",
              " 'Post-translational protein modification',\n",
              " 'Potential therapeutics for SARS',\n",
              " 'Processive synthesis on the C-strand of the telomere',\n",
              " 'Processive synthesis on the lagging strand',\n",
              " 'Protein ubiquitination',\n",
              " 'RNA Polymerase II Transcription',\n",
              " 'Recognition of DNA damage by PCNA-containing replication complex',\n",
              " 'Removal of the Flap Intermediate',\n",
              " 'Removal of the Flap Intermediate from the C-strand',\n",
              " 'Resolution of AP sites via the multiple-nucleotide patch replacement pathway',\n",
              " 'Resolution of Abasic Sites (AP sites)',\n",
              " 'S Phase',\n",
              " 'SARS-CoV Infections',\n",
              " 'SUMO E3 ligases SUMOylate target proteins',\n",
              " 'SUMOylation',\n",
              " 'SUMOylation of DNA replication proteins',\n",
              " 'Synthesis of DNA',\n",
              " 'TP53 Regulates Transcription of Cell Cycle Genes',\n",
              " 'TP53 Regulates Transcription of Genes Involved in G2 Cell Cycle Arrest',\n",
              " 'Telomere C-strand (Lagging Strand) Synthesis',\n",
              " 'Telomere Maintenance',\n",
              " 'Termination of translesion DNA synthesis',\n",
              " 'Transcription of E2F targets under negative control by DREAM complex',\n",
              " 'Transcription-Coupled Nucleotide Excision Repair (TC-NER)',\n",
              " 'Transcriptional Regulation by TP53',\n",
              " 'Translesion Synthesis by POLH',\n",
              " 'Translesion synthesis by POLI',\n",
              " 'Translesion synthesis by POLK',\n",
              " 'Translesion synthesis by REV1',\n",
              " 'Translesion synthesis by Y family DNA polymerases bypasses lesions on DNA template']"
            ]
          },
          "metadata": {},
          "execution_count": 6
        }
      ]
    },
    {
      "cell_type": "markdown",
      "source": [
        "###**3. Given the biomarkers, we can also fetch all available drug targets from Drug Central.**"
      ],
      "metadata": {
        "id": "ky3nIesKzcrN"
      }
    },
    {
      "cell_type": "code",
      "source": [
        "result_drug_targets = [utils.genelist_drug_target(ids=\",\".join(d), source=\"drugcentral\") for d in img_dict.values()]\n",
        "result_drug_targets[1]"
      ],
      "metadata": {
        "id": "NAKxadCTvRCZ"
      },
      "execution_count": 8,
      "outputs": []
    }
  ]
}
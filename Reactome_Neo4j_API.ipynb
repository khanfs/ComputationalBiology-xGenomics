{
  "nbformat": 4,
  "nbformat_minor": 0,
  "metadata": {
    "colab": {
      "name": "Reactome-Neo4j-API.ipynb",
      "provenance": [],
      "authorship_tag": "ABX9TyNslsU7hwXx3SwVWaOOonX+",
      "include_colab_link": true
    },
    "kernelspec": {
      "name": "python3",
      "display_name": "Python 3"
    },
    "language_info": {
      "name": "python"
    }
  },
  "cells": [
    {
      "cell_type": "markdown",
      "metadata": {
        "id": "view-in-github",
        "colab_type": "text"
      },
      "source": [
        "<a href=\"https://colab.research.google.com/github/khanfs/ComputationalBiology-xGenomics/blob/main/Reactome_Neo4j_API.ipynb\" target=\"_parent\"><img src=\"https://colab.research.google.com/assets/colab-badge.svg\" alt=\"Open In Colab\"/></a>"
      ]
    },
    {
      "cell_type": "markdown",
      "source": [
        "#**Reactome-Neo4j API**\n",
        "\n",
        "The Reactome Graph Database models the Reactome knowledgebase as an interconnected graph database.\n",
        "\n",
        "**Resources**:\n",
        "\n",
        "* [GitHub Reactome-Neo4j](https://github.com/dvklopfenstein/ReactomePy/tree/main/notebooks/tutorial)\n",
        "* [Developer Zone](https://reactome.org/dev/graph-database)\n",
        "\n",
        "[***Note***](https://github.com/neo4j/neo4j-python-driver/issues/509): *we can't connect to localhost from Google Colab, because the localhost for the notebook is completely different to our local machine IP; solution is to create a [virtual machine](https://cloud.google.com/learn/what-is-a-virtual-machine) (VM), or use a [Neo4j Sandbox](https://neo4j.com/sandbox/) version.*"
      ],
      "metadata": {
        "id": "9Qlo2eCS5irj"
      }
    },
    {
      "cell_type": "code",
      "source": [
        "! pip install neo4j"
      ],
      "metadata": {
        "colab": {
          "base_uri": "https://localhost:8080/"
        },
        "id": "sYI6_SgVN5UY",
        "outputId": "27288bcd-64ca-42bd-b787-11059257b2a9"
      },
      "execution_count": 1,
      "outputs": [
        {
          "output_type": "stream",
          "name": "stdout",
          "text": [
            "Looking in indexes: https://pypi.org/simple, https://us-python.pkg.dev/colab-wheels/public/simple/\n",
            "Collecting neo4j\n",
            "  Downloading neo4j-4.4.4.tar.gz (90 kB)\n",
            "\u001b[K     |████████████████████████████████| 90 kB 7.8 MB/s \n",
            "\u001b[?25hRequirement already satisfied: pytz in /usr/local/lib/python3.7/dist-packages (from neo4j) (2022.1)\n",
            "Building wheels for collected packages: neo4j\n",
            "  Building wheel for neo4j (setup.py) ... \u001b[?25l\u001b[?25hdone\n",
            "  Created wheel for neo4j: filename=neo4j-4.4.4-py3-none-any.whl size=116554 sha256=a9ced8b1ef325fa2ddc433f44688eac9be444fb70095eab924f63432de9068a3\n",
            "  Stored in directory: /root/.cache/pip/wheels/cf/c9/60/dab99fdca0093b46a9c9f5d5b99317c9d323c97d2f5af24e23\n",
            "Successfully built neo4j\n",
            "Installing collected packages: neo4j\n",
            "Successfully installed neo4j-4.4.4\n"
          ]
        }
      ]
    },
    {
      "cell_type": "markdown",
      "source": [
        "###**1. Connect to Neo4j loaded with the Reactome Knowledgebase**"
      ],
      "metadata": {
        "id": "VmFUNrO5XWFq"
      }
    },
    {
      "cell_type": "code",
      "source": [
        "from neo4j import GraphDatabase"
      ],
      "metadata": {
        "id": "h1_h7GbKSeta"
      },
      "execution_count": 2,
      "outputs": []
    },
    {
      "cell_type": "code",
      "source": [
        "neo4j_url = 'bolt://localhost:7687'\n",
        "neo4j_usr = 'neo4j'\n",
        "neo4j_password = 'myneo4j_password'\n",
        "\n",
        "gdbdr = GraphDatabase.driver(neo4j_url, auth=(neo4j_usr, neo4j_password)) "
      ],
      "metadata": {
        "id": "kMH-au3wS_GK"
      },
      "execution_count": 12,
      "outputs": []
    },
    {
      "cell_type": "markdown",
      "source": [
        "###**2. Query: Get the Pathway Antigen processing-Cross presentation with identifier R-HSA-1236975**"
      ],
      "metadata": {
        "id": "QY2G-KVYYnVv"
      }
    },
    {
      "cell_type": "code",
      "source": [
        "query = 'MATCH (pathway:Pathway{stId:\"R-HSA-1236975\"}) RETURN pathway'\n",
        "\n",
        "with gdbdr.session() as session:\n",
        "    for rec in session.run(query).data():\n",
        "        for key, val in rec['pathway'].items():\n",
        "            print(\"    {KEY:11} {VAL}\".format(KEY=key, VAL=val))"
      ],
      "metadata": {
        "id": "H5AQt5aIY9C6"
      },
      "execution_count": null,
      "outputs": []
    }
  ]
}
{
  "nbformat": 4,
  "nbformat_minor": 0,
  "metadata": {
    "colab": {
      "name": "PDB-APIs.ipynb",
      "provenance": [],
      "collapsed_sections": [],
      "authorship_tag": "ABX9TyPjFCxcGyKZ/CXuPvvF8Qp7",
      "include_colab_link": true
    },
    "kernelspec": {
      "name": "python3",
      "display_name": "Python 3"
    },
    "language_info": {
      "name": "python"
    }
  },
  "cells": [
    {
      "cell_type": "markdown",
      "metadata": {
        "id": "view-in-github",
        "colab_type": "text"
      },
      "source": [
        "<a href=\"https://colab.research.google.com/github/khanfs/ComputationalBiology-xGenomics/blob/main/PDB_APIs.ipynb\" target=\"_parent\"><img src=\"https://colab.research.google.com/assets/colab-badge.svg\" alt=\"Open In Colab\"/></a>"
      ]
    },
    {
      "cell_type": "markdown",
      "source": [
        "# **Protein Data Bank APIs**\n",
        "PyPDB and Biotite packages provide Protein Data Bank (PDB) APIs. Outlined is code to install them and examples of querying the PDB - using Biotite to filter structures by given criteria and PyPDB to download metadata and structural files. \n",
        "### **Research Collaboratory for Structural Bioinformatics PDB**\n",
        "The [RCSB Protein Data Bank](https://www.rcsb.org/) is a structural biology database consisting of 3D structures of proteins, nucleic acids and [complex assemblies](https://www.ebi.ac.uk/QuickGO/term/GO:0034622). Experiments comprising *X-ray crystallography*, the de facto method for decades, *nuclear magnetic resonance (NMR)*, and *cryo-electron microscopy (cryo-EM)* generate structural data. cryo-EM is rapidly replacing X-ray crystallography, which is over a century old. PDB contains over **160,000 protein structures**. Each entry contains:\n",
        "\n",
        "1. 3D coordinates of the atoms and the bonds connecting these atoms for proteins, ligand, cofactors, water molecules, and ions\n",
        "2. 3D visualisations of the protein structures, with ligand interactions if available\n",
        "3. meta-information on the structural data, e.g.'s, the PDB ID, the authors, the deposition date, the structural determination method used\n",
        "4. structural quality metrics - structural resolution - it measures the collected data quality, which has the unit Å (Angstrom); the lower the value, the higher the quality of the structure.\n",
        "\n",
        "**Resources:**\n",
        "* [PDB Meta-information list of fields for chemicals](https://search.rcsb.org/chemical-search-attributes.html)\n",
        "* [PDB Meta-information list of fields for structures](https://search.rcsb.org/structure-search-attributes.html) \n",
        "\n",
        "**References:**\n",
        "* Rose, P. W., Prlić, A., Altunkaya, A., Bi, C., Bradley, A. R., Christie, C. H., Costanzo, L. D., Duarte, J. M., Dutta, S., Feng, Z., Green, R. K., Goodsell, D. S., Hudson, B., Kalro, T., Lowe, R., Peisach, E., Randle, C., Rose, A. S., Shao, C., Tao, Y. P., … Burley, S. K. (2017). The RCSB protein data bank: integrative view of protein, gene and 3D structural information. Nucleic acids research, 45(D1), D271–D281. [https://doi.org/10.1093/nar/gkw1000](https://www.ncbi.nlm.nih.gov/pmc/articles/PMC5210513/)\n",
        "* Berman, H. M., Westbrook, J., Feng, Z., Gilliland, G., Bhat, T. N., Weissig, H., Shindyalov, I. N., & Bourne, P. E. (2000). The Protein Data Bank. Nucleic acids research, 28(1), 235–242. [https://doi.org/10.1093/nar/28.1.235](https://www.ncbi.nlm.nih.gov/pmc/articles/PMC102472/)"
      ],
      "metadata": {
        "id": "RWJUqZSUtn6O"
      }
    },
    {
      "cell_type": "code",
      "execution_count": 1,
      "metadata": {
        "id": "OG803SFstkfe"
      },
      "outputs": [],
      "source": [
        "# Install Conda environment\n",
        "! pip install -q condacolab"
      ]
    },
    {
      "cell_type": "code",
      "source": [
        "import condacolab\n",
        "condacolab.install()"
      ],
      "metadata": {
        "colab": {
          "base_uri": "https://localhost:8080/"
        },
        "id": "ttZwLFwKt6R-",
        "outputId": "916f6c6d-8309-43fc-edb4-1729a9d5e63e"
      },
      "execution_count": 1,
      "outputs": [
        {
          "output_type": "stream",
          "name": "stdout",
          "text": [
            "✨🍰✨ Everything looks OK!\n"
          ]
        }
      ]
    },
    {
      "cell_type": "code",
      "source": [
        "import pandas as pd\n",
        "import matplotlib as mpl\n",
        "import matplotlib.pyplot as plt\n",
        "import numpy as np"
      ],
      "metadata": {
        "id": "SfHXPEyK4nbh"
      },
      "execution_count": 2,
      "outputs": []
    },
    {
      "cell_type": "markdown",
      "source": [
        "# **1. PyPDB**\n",
        "PyPDB can search the PDB by keyword, author, publication date and experimental method, as well as by specific sequence motifs. For individual PDB IDs, retrievable information ranges from metadata (date of posting, authors, etc.) to the full. pdb data file stored with an entry. Standard information such as gene ontology, ligand information and protein family information can be accessed. PyPDB can also perform BLAST searches (Gilpin, 2016). The Python package pypdb offers an interface for the PDB to not only query for PDB IDs but also to download associated metadata and structural files. \n",
        "\n",
        "**Resources:**\n",
        "\n",
        "* [Primary PyPDB functions](https://academic.oup.com/view-large/35641249)\n",
        "* [Functions for searching the RCSB PDB for lists of PDB IDs](https://github.com/williamgilpin/pypdb/blob/master/pypdb/pypdb.py)\n",
        "\n",
        "**References:**\n",
        "\n",
        "*  William Gilpin, PyPDB: a Python API for the Protein Data Bank, Bioinformatics, Volume 32, Issue 1, 1 January 2016, Pages 159–160, [https://doi.org/10.1093/bioinformatics/btv543](https://academic.oup.com/bioinformatics/article/32/1/159/1743800) "
      ],
      "metadata": {
        "id": "VLykQL8uuOfF"
      }
    },
    {
      "cell_type": "code",
      "source": [
        "# Install PyPDB \n",
        "! pip install pypdb"
      ],
      "metadata": {
        "colab": {
          "base_uri": "https://localhost:8080/"
        },
        "id": "ye5F2MdduG-F",
        "outputId": "cff49b2d-e0a8-4728-8335-ac05eb11ded6"
      },
      "execution_count": 3,
      "outputs": [
        {
          "output_type": "stream",
          "name": "stdout",
          "text": [
            "Looking in indexes: https://pypi.org/simple, https://us-python.pkg.dev/colab-wheels/public/simple/\n",
            "Collecting pypdb\n",
            "  Downloading pypdb-2.1-py3-none-any.whl (34 kB)\n",
            "Requirement already satisfied: requests in /usr/local/lib/python3.7/site-packages (from pypdb) (2.25.1)\n",
            "Requirement already satisfied: urllib3<1.27,>=1.21.1 in /usr/local/lib/python3.7/site-packages (from requests->pypdb) (1.26.3)\n",
            "Requirement already satisfied: idna<3,>=2.5 in /usr/local/lib/python3.7/site-packages (from requests->pypdb) (2.10)\n",
            "Requirement already satisfied: certifi>=2017.4.17 in /usr/local/lib/python3.7/site-packages (from requests->pypdb) (2020.12.5)\n",
            "Requirement already satisfied: chardet<5,>=3.0.2 in /usr/local/lib/python3.7/site-packages (from requests->pypdb) (4.0.0)\n",
            "Installing collected packages: pypdb\n",
            "Successfully installed pypdb-2.1\n"
          ]
        }
      ]
    },
    {
      "cell_type": "code",
      "source": [
        "! pytest"
      ],
      "metadata": {
        "colab": {
          "base_uri": "https://localhost:8080/"
        },
        "id": "AAtlJByTuVRh",
        "outputId": "d938f370-c6e8-4b64-e474-a54c48ac9cbf"
      },
      "execution_count": 4,
      "outputs": [
        {
          "output_type": "stream",
          "name": "stdout",
          "text": [
            "\u001b[1m============================= test session starts ==============================\u001b[0m\n",
            "platform linux -- Python 3.7.13, pytest-3.6.4, py-1.11.0, pluggy-0.7.1\n",
            "rootdir: /content, inifile:\n",
            "plugins: typeguard-2.7.1\n",
            "\u001b[1m\rcollecting 0 items                                                             \u001b[0m\u001b[1m\rcollected 0 items                                                              \u001b[0m\n",
            "\n",
            "\u001b[33m\u001b[1m========================= no tests ran in 0.01 seconds =========================\u001b[0m\n"
          ]
        }
      ]
    },
    {
      "cell_type": "markdown",
      "source": [
        "## **PyPDB Functions**\n",
        "\n",
        "There are generally 3 types of functions:\n",
        "\n",
        "* Functions that perform searches and return lists of PDB IDs\n",
        "* Functions that get information about specific PDB IDs\n",
        "* Other general-purpose lookup functions"
      ],
      "metadata": {
        "id": "7BBWaF6DvIBh"
      }
    },
    {
      "cell_type": "code",
      "source": [
        "# (*) will import every function from the pydb package\n",
        "from pypdb import *"
      ],
      "metadata": {
        "id": "nTiA6iPzubc_"
      },
      "execution_count": 5,
      "outputs": []
    },
    {
      "cell_type": "markdown",
      "source": [
        "### 1. Get a list of PDBs for a specific search term"
      ],
      "metadata": {
        "id": "BLVJhzWivn3K"
      }
    },
    {
      "cell_type": "code",
      "source": [
        "found_pdbs = Query('ACE2').search()\n",
        "print(found_pdbs)"
      ],
      "metadata": {
        "colab": {
          "base_uri": "https://localhost:8080/"
        },
        "id": "KebazqQ9ugFD",
        "outputId": "f17b8acc-f951-4751-eb0a-67ca83419906"
      },
      "execution_count": 12,
      "outputs": [
        {
          "output_type": "stream",
          "name": "stdout",
          "text": [
            "['7U0N', '7JVO', '6M1D', '6M18', '1R4L', '1R42', '7RPV', '6M17', '6ACD', '6ACC', '7DK3', '7V61', '7KMB', '7DF4', '6VW1', '7DF3', '6ACK', '6ACJ', '6ACG', '7WRV', '7C8D', '7A93', '7KNI', '7KNH', '7KNE', '7KNB', '7KMZ', '7KMS', '3D0I', '3D0H', '3D0G', '2G75', '7XO5', '7WPC', '7WPB', '7WPA', '7VX5', '7VX4', '7V8A', '7V89', '7V88', '7T9K', '7KJ4', '7KJ3', '7KJ2', '7DMU', '7A98', '7A97', '7A96', '7A95', '7A94', '7A92', '7A91', '6M0J', '6LZG', '7W9I', '7WP9', '7KJ5', '7JWY', '6XM5', '6XM4', '6XM3', '6XM0', '6XLU', '7WPF', '7WPE', '7WPD', '7XOC', '7XOB', '7XOA', '7XO9', '7XO8', '7XO7', '7XO6', '7XO4', '7VXM', '7VXK', '7VXF', '7VXD', '7VXA', '7VX9', '7MJN', '7MJM', '7EFR', '7EFP', '7WEV', '7VXI', '7VXE', '7VX1', '7F5R', '7W9C', '7W9B', '7W99', '7W98', '7E7E', '7XOD', '7T9J', '7E3J', '7W94', '7W92', '2DD8', '7VXC', '7VXB', '7V86', '7V85', '7V83', '7V82', '7V81', '7V7Z', '7TEZ', '7TEW', '7T9L', '7SY8', '7SY6', '7SY4', '7SY2', '7SY0', '7SXY', '7EDJ', '7DX8', '7DX6', '3SCL', '3SCK', '7DDP', '7DDO', '3KBH', '7W9F', '7W9E', '7DX3', '7DHX', '7K8P', '7C8J', '7C8K', '7V8B', '7V87', '7TF0', '7TEX', '7SY7', '7SY5', '7SY3', '7SY1', '7SXZ', '7SXX', '7DX9', '7DX7', '7DX5', '7BH9', '3SCJ', '3SCI', '6ZH9', '7DRV', '7DWX', '7MJI', '7MJG', '7JWB', '7DX1', '7DWZ', '7MJL', '7MJK', '7MJJ', '7MJH', '7K9I', '7K90', '7K8Y', '7K8X', '7K8W', '7K8V', '7K8U', '7K8T', '7K8S', '7K8M', '7FC3', '7DWY', '7WVQ', '7WVP', '7NXC', '2AJF', '7KL9', '7K9J', '7K9H', '7K8Z', '6ZXN', '6CS2', '7FC5', '7TF5', '7TF4', '7TF3', '7TF2', '7TF1', '7TEY', '7SXW', '7SXV', '7SXU', '7SXT', '7SXS', '7SXR', '7KQE', '7EDI', '6XS6', '7ZF7', '7ZDQ', '7WHH', '7WGC', '7WGB', '7WBQ', '7WBP', '7WBL', '7V84', '7TN0', '7LO4', '7FDG', '7CT5', '7W6R', '7VND', '7VNB', '7R40', '7M7B', '7M71', '7KQB', '7EH5', '7EDH', '7EDG', '7EDF', '7VNE', '7VNC', '7K9K', '7BZ5', '7B3O', '7KKJ', '7XBY', '7WK6', '7W6U', '7WVO', '7WVN', '7WSA', '7WS9', '7WS8', '7V80', '7R1A', '7R12', '7R11', '7R10', '7R0Z', '7FDK', '7FDI', '7FDH', '7EKH', '7EKG', '7EKF', '7EKE', '7EKC', '7K8R', '7K8Q', '7K8O', '7K8N', '7WS6', '7WS2', '7WKA', '7WK9', '7WK8', '7WK2', '2GHV', '7WS7', '7WS5', '7WS4', '7WS3', '7WS1', '7WS0', '7E3O', '6ZLR', '6CRV', '2GHW', '7KM5', '7KKL', '7KKK', '7E8M', '7CDJ', '7CDI', '7BWJ', '6CS1', '6CS0', '6CRZ', '6CRX', '6CRW', '7PKI', '7WK5', '7WK4', '7MFV', '7R15', '7SN0', '7L7F', '7FEM', '7DQA', '7WK3', '7QNX', '7NLL', '7KGK', '7KGJ', '7CN8', '5GYQ', '7L0N', '7ZFD', '7ZF8', '7ZF5', '7WSK', '7TLZ', '7TAT', '7TAS', '7S0E', '7S0D', '7S0B', '7RKV', '7RBY', '7R1B', '7R19', '7R18', '7R17', '7R16', '7R14', '7R13', '7KLW', '7FAU', '7DX2', '7DX0', '6ZGH', '6ZGG', '6ZGF', '5XLR', '5WRG', '3BGF', '7ZR9', '7ZR8', '7ZFE', '7ZF9', '7ZF4', '7X08', '7WG9', '7WG8', '7WG7', '7WG6', '7V2A', '7V26', '7TM0', '7TLY', '7S0C', '7RKU', '7RKS', '7N0H', '7N0G', '7MF1', '7LX5', '7KS9', '7JZU', '7JZN', '7JZM', '7JZL', '7CN4', '6ZGI', '6ZGE', '6Z43', '6XF6', '6XF5', '6VYB', '6VXX', '7ZRC', '7ZR7', '7ZFC', '7ZFB', '7NS6', '7MY3', '7MY2', '7A29', '7A25', '7WRI', '7NXB', '7NXA', '7NX9', '7NX6', '7CAN', '7C8W', '7C8V', '7XID', '7NX8', '7NX7', '7JPY', '7ZFF', '7QNY', '7JQ5', '7JQ4', '7JQ3', '7JQ2', '7JQ1', '7JQ0', '7JPZ', '7PHG', '7B3Y', '1Y79', '7ZF6', '7QNW', '7MFU', '7P40', '7JMX', '7BBH', '6XCA', '7F5G', '7D30', '7D2Z', '7M0J', '7BNV', '7B27', '1NCS', '7WLZ', '7WLY', '7P7B', '7NL7', '7NL6', '7M8K', '7LYQ', '7LYP', '7LYO', '7LYN', '7LYM', '7LYL', '7LYK', '7LWW', '7LWV', '7LWU', '7LWT', '7LWS', '7LWQ', '7LWP', '7LWO', '7LWN', '7LWM', '7LWL', '7LWK', '7LWJ', '7LWI', '7L7K', '7KIP', '7DZW', '7BNO', '7BNN', '7BNM', '7WWM', '7WWL', '7UHC', '7U2E', '7TO4', '7TNW', '7RAL', '7RA8', '7R7N', '7R4R', '7R4Q', '7R4I', '7ODL', '7OD3', '7NP1', '7NKT', '7N5H', '7N1Y', '7N1X', '7N1W', '7N1V', '7N1U', '7N1T', '7N1Q', '7LSS', '7LS9', '7LOP', '7L3N', '7KFY', '7KFX', '7KFW', '7KFV', '7E3L', '7E3K', '7E23', '7DZY', '7DZX', '7D0D', '7D0C', '7D0B', '7CYP', '7CHF', '7CHE', '7CHC', '7CH5', '7CH4', '6ZB5', '6ZB4', '6VSB', '7UHB', '7R6X', '7Q0A', '7PQZ', '7PQY', '7P7A', '7P79', '7P78', '7P77', '7OAY', '7OAO', '7OAN', '7NEH', '7M7W', '7M3I', '7K4N', '7K45', '7JMW', '7JMP', '7JMO', '7E5O', '7DPM', '7D00', '7CZS', '7CZR', '7CM4', '7CHS', '7CHP', '7CHO', '7CHH', '7CHB', '7C01', '7BYR', '7AKJ', '7AKD', '6ZFO', '6ZER', '6ZDH', '6ZDG', '6XKQ', '6XKP', '6XE1', '6XCN', '6XCM', '6XC4', '6XC3', '6XC2', '7U2D', '7OAQ', '7OAP', '7K43', '7D03', '7CZW', '7CZQ', '7C2L', '6ZCZ', '6XC7', '7ZF3', '7DX4', '7CZZ', '7CZY', '7CZX', '7CZV', '7CZU', '7CZT', '7CZP', '6ZPU', '6ZPT', '6ZPQ', '2IUX', '2IUL', '7K3Q', '7R6W', '7PR0', '7OAU', '7NEG', '7MSQ']\n"
          ]
        }
      ]
    },
    {
      "cell_type": "markdown",
      "source": [
        "### 2. Search by PubMed ID Number\n"
      ],
      "metadata": {
        "id": "GboI32nEwVbx"
      }
    },
    {
      "cell_type": "code",
      "source": [
        "found_pdbs = Query('27499440', 'PubmedIdQuery').search()\n",
        "print(found_pdbs)"
      ],
      "metadata": {
        "id": "FzyKi3ybw6hP"
      },
      "execution_count": null,
      "outputs": []
    },
    {
      "cell_type": "markdown",
      "source": [
        "### 3. Search by source organism using NCBI TaxId\n",
        "The [Taxonomy Database](https://www.ncbi.nlm.nih.gov/taxonomy) is a curated classification and nomenclature for all of the organisms in the public sequence databases. This currently represents about 10% of the described species of life on the planet. Taxonomy databased accessed through [taxonomy web browser](https://www.ncbi.nlm.nih.gov/Taxonomy/taxonomyhome.html/index.cgi). \n",
        "\n",
        "**References:**\n",
        "\n",
        "* Schoch C. NCBI Taxonomy. 2011 Apr 7 [Updated 2020 Feb 11]. In: Taxonomy Help [Internet](https://www.ncbi.nlm.nih.gov/books/NBK53758/#_NBK53758_pubdet_). Bethesda (MD): National Center for Biotechnology Information (US); 2011-.\n",
        "* Schoch CL, Ciufo S, Domrachev M, Hotton CL, Kannan S, Khovanskaya R, Leipe D, Mcveigh R, O'Neill K, Robbertse B, Sharma S, Soussov V, Sullivan JP, Sun L, Turner S, Karsch-Mizrachi I. NCBI Taxonomy: a comprehensive update on curation, resources and tools. Database (Oxford). 2020 Jan 1;2020:baaa062. [doi: 10.1093/database/baaa062](https://pubmed.ncbi.nlm.nih.gov/32761142/). PMID: 32761142; PMCID: PMC7408187. \n",
        "\n"
      ],
      "metadata": {
        "id": "M9Sr1kP40c4I"
      }
    },
    {
      "cell_type": "code",
      "source": [
        "found_pdbs = Query('9606', 'TreeEntityQuery').search() #TaxID for homo sapiens\n",
        "print(found_pdbs[:5])"
      ],
      "metadata": {
        "colab": {
          "base_uri": "https://localhost:8080/"
        },
        "id": "ybKyNt_W0k9T",
        "outputId": "6e9b98ed-927a-4a81-d09f-513a421d6078"
      },
      "execution_count": 15,
      "outputs": [
        {
          "output_type": "stream",
          "name": "stdout",
          "text": [
            "['10GS', '11GS', '121P', '12CA', '12GS']\n"
          ]
        }
      ]
    },
    {
      "cell_type": "markdown",
      "source": [
        "# **2. Biotite**\n",
        "[Biotite](https://www.biotite-python.org/) is an open source comprehensive computational molecular biology framework for analysis of sequence and structure data, where most of the data can be handled internally, without the usage of additional software. **It handles the complete bioinformatics workflow**, from fetching, reading and writing relevant files to the efficient and intuitive analysis and manipulation of data (Kunzmann, P., Hamacher, K., 2018). Biotite provides read and write capabilities for the FASTA format, hence FASTA files can be used to load and save nucleotide and protein sequences. Biotite makes heavy use of NumPy and some code is written in [Cython](https://cython.org/), resulting in performance comparable to native C code.\n",
        "\n",
        "**Resources:**\n",
        "\n",
        "* [API Reference](https://www.biotite-python.org/apidoc/index.html)\n",
        "\n",
        "**References:**\n",
        "\n",
        "* Kunzmann, P., Hamacher, K. Biotite: a unifying open source computational biology framework in Python. BMC Bioinformatics 19, 346 (2018). [https://doi.org/10.1186/s12859-018-2367-z](https://bmcbioinformatics.biomedcentral.com/articles/10.1186/s12859-018-2367-z#citeas)"
      ],
      "metadata": {
        "id": "42zcba_d2Qxq"
      }
    },
    {
      "cell_type": "code",
      "source": [
        "# Install Biotite\n",
        "! pip install biotite"
      ],
      "metadata": {
        "colab": {
          "base_uri": "https://localhost:8080/"
        },
        "id": "rmpPsRcz2YL8",
        "outputId": "1969f9e9-f954-4e1e-a1b7-ddab364d74c5"
      },
      "execution_count": 17,
      "outputs": [
        {
          "output_type": "stream",
          "name": "stdout",
          "text": [
            "Looking in indexes: https://pypi.org/simple, https://us-python.pkg.dev/colab-wheels/public/simple/\n",
            "Requirement already satisfied: biotite in /usr/local/lib/python3.7/site-packages (0.33.0)\n",
            "Requirement already satisfied: msgpack>=0.5.6 in /usr/local/lib/python3.7/site-packages (from biotite) (1.0.4)\n",
            "Requirement already satisfied: numpy>=1.19 in /usr/local/lib/python3.7/site-packages (from biotite) (1.21.6)\n",
            "Requirement already satisfied: requests>=2.12 in /usr/local/lib/python3.7/site-packages (from biotite) (2.25.1)\n",
            "Requirement already satisfied: networkx>=2.0 in /usr/local/lib/python3.7/site-packages (from biotite) (2.6.3)\n",
            "Requirement already satisfied: urllib3<1.27,>=1.21.1 in /usr/local/lib/python3.7/site-packages (from requests>=2.12->biotite) (1.26.3)\n",
            "Requirement already satisfied: chardet<5,>=3.0.2 in /usr/local/lib/python3.7/site-packages (from requests>=2.12->biotite) (4.0.0)\n",
            "Requirement already satisfied: idna<3,>=2.5 in /usr/local/lib/python3.7/site-packages (from requests>=2.12->biotite) (2.10)\n",
            "Requirement already satisfied: certifi>=2017.4.17 in /usr/local/lib/python3.7/site-packages (from requests>=2.12->biotite) (2020.12.5)\n"
          ]
        }
      ]
    },
    {
      "cell_type": "markdown",
      "source": [
        "## **Biotite Functions**\n",
        "\n",
        "**Biotite is divided into four subpackages**: sequence and structure provide tools for handling sequences or biomolecular structures, respectively. database is used for fetching files from biological databases and application offers interfaces for external software. \n",
        "\n",
        "1. **Sequence subpackage:** contains functionality for working with sequence information of any kind. The package contains by default sequence types for nucleotides and proteins.\n",
        "\n",
        "2. **Structure subpackage:** enables handling of 3D structures of biomolecules. Simplified, a structure is represented by a list of atoms and their properties, based on ndarray objects. Optionally, this representation can be enriched with chemical bond information. Biotite supports different structure formats, including the ones provided by the RCSB and Gromacs trajectory formats. The subpackage offers a wide range of functions for atom filtering, coordinate transformations, angle and bond measurements, accessible surface area calculation, structure superimposition and more.\n",
        "\n",
        "3. **Application subpackage:** provides interfaces for external software, in case Biotite’s integrated functionality is not sufficient for your tasks. These interfaces range from locally installed software (e.g. MSA software) to web services (e.g. BLAST). The speciality is that the interfaces are seamless: You do not have to write input files and read output files, you only have to input Python objects and you get Python objects. It is basically very similar to using normal Python functions.\n",
        "\n",
        "4. **Database subpackage:** is all about searching and downloading data from biological databases, including the arguably most important ones: the RCSB PDB and the NCBI Entrez database.\n"
      ],
      "metadata": {
        "id": "_r4FuyhoK_NU"
      }
    },
    {
      "cell_type": "code",
      "source": [
        "# Import Biotite PDB API\n",
        "import biotite.database.rcsb as rcsb"
      ],
      "metadata": {
        "id": "8xdxIOo63fT_"
      },
      "execution_count": 18,
      "outputs": []
    },
    {
      "cell_type": "markdown",
      "source": [
        "**Tempfile:** is a Python module used in a situation, where we need to read multiple files, change or access the data in the file, and gives output files based on the result of processed data."
      ],
      "metadata": {
        "id": "lNdXwCZdOIbO"
      }
    },
    {
      "cell_type": "code",
      "source": [
        "import tempfile\n",
        "from tempfile import gettempdir"
      ],
      "metadata": {
        "id": "f-K5bZo3IwbF"
      },
      "execution_count": 19,
      "outputs": []
    },
    {
      "cell_type": "markdown",
      "source": [
        "### **1. Database Subpackage**\n",
        "biotite.database subpackage provides interfaces for **RCSB PDB** and the **NCBI Entrez database**.\n",
        "\n",
        "Specify the PDB ID, the file format and the target directory for the fetch() function. The function returns the path to the downloaded file, so can load the file via the other Biotite subpackages. \n",
        "\n",
        "####**NCBI Entrez database**\n",
        "**Entrez Molecular Sequence Database System** is a molecular biology database system that provides integrated access to nucleotide and protein sequence data, gene-centered and genomic mapping information, 3D structure data, PubMed MEDLINE, and more.  **Entrez covers over [20 databases](https://www.ncbi.nlm.nih.gov/guide/all/)** including the complete protein sequence data from PIR-International, PRF, Swiss-Prot, and PDB and nucleotide sequence data from GenBank that includes information from EMBL and DDBJ. "
      ],
      "metadata": {
        "id": "4nBUTYXmNGBA"
      }
    },
    {
      "cell_type": "code",
      "source": [
        "# Example: download protein structure of the miniprotein TC5b (PDB: 1L2Y) into a temporary directory\n",
        "file_path = rcsb.fetch(\"1l2y\", \"pdb\", gettempdir())\n",
        "print(file_path)"
      ],
      "metadata": {
        "colab": {
          "base_uri": "https://localhost:8080/"
        },
        "id": "r1N_cy3DKBMQ",
        "outputId": "29b972ce-5756-4155-d78b-6221bc4ae0ba"
      },
      "execution_count": 20,
      "outputs": [
        {
          "output_type": "stream",
          "name": "stdout",
          "text": [
            "/tmp/1l2y.pdb\n"
          ]
        }
      ]
    },
    {
      "cell_type": "markdown",
      "source": [
        "If want to download multiple files, we're able to specify a list of PDB IDs, which in return gives a list of file paths.\n",
        "\n",
        "**Macromolecular Crystallographic Information File** [(mmCIF)](https://www.ebi.ac.uk/pdbe/docs/documentation/mmcif.html): is a flexible and extensible tag-value format for representing macromolecular structural data.\n",
        "\n",
        "**Resources:**\n",
        "* [Guide to PDB Structures and the PDBx/mmCIF Format](https://www.ebi.ac.uk/pdbe/docs/documentation/mmcif.html)\n",
        "* [PDBx/mmCIF Dictionary](https://mmcif.wwpdb.org/)"
      ],
      "metadata": {
        "id": "DUqnFByHQKvd"
      }
    },
    {
      "cell_type": "code",
      "source": [
        "# Download files in the more modern mmCIF format\n",
        "file_paths = rcsb.fetch([\"1l2y\", \"1aki\"], \"cif\", gettempdir())\n",
        "print([file_path for file_path in file_paths])"
      ],
      "metadata": {
        "colab": {
          "base_uri": "https://localhost:8080/"
        },
        "id": "d_KVIdeWQXvd",
        "outputId": "1e233402-78fe-42af-d13f-2d971c2bf049"
      },
      "execution_count": 21,
      "outputs": [
        {
          "output_type": "stream",
          "name": "stdout",
          "text": [
            "['/tmp/1l2y.cif', '/tmp/1aki.cif']\n"
          ]
        }
      ]
    },
    {
      "cell_type": "markdown",
      "source": [
        "By default fetch() checks whether the file to be fetched already exists in the directory and downloads it, if it does not exist yet. If want to download files irrespectively, set overwrite to true.\n",
        "\n",
        "**Macromolecular Transmission Format** [(MMTF)](https://mmtf.rcsb.org/faq.html): is a new compact binary format to transmit and store biomolecular structures for fast 3D visualization and analysis.\n",
        "\n",
        "**Resources:**\n",
        "* [RCSB MMTF](https://mmtf.rcsb.org/)\n",
        "* [MMTF Specification](https://github.com/rcsb/mmtf/blob/v1.0/spec.md)\n"
      ],
      "metadata": {
        "id": "Mm2YRTU_RLev"
      }
    },
    {
      "cell_type": "code",
      "source": [
        "# Download file in the fast and small binary MMTF format\n",
        "file_path = rcsb.fetch(\"1l2y\", \"mmtf\", gettempdir(), overwrite=True)"
      ],
      "metadata": {
        "id": "cEI7ly-zRRTP"
      },
      "execution_count": 22,
      "outputs": []
    },
    {
      "cell_type": "markdown",
      "source": [
        "If omit the file path or set it to None, the downloaded data will be returned directly as a file-like object, without creating a file on disk."
      ],
      "metadata": {
        "id": "CUrJcaQGWfYs"
      }
    },
    {
      "cell_type": "code",
      "source": [
        "file = rcsb.fetch(\"1l2y\", \"pdb\")\n",
        "lines = file.readlines()\n",
        "print(\"\\n\".join(lines[:10] + [\"...\"]))"
      ],
      "metadata": {
        "colab": {
          "base_uri": "https://localhost:8080/"
        },
        "id": "Pzb9GPhXWSso",
        "outputId": "5706e380-dc16-4035-e122-449df289e3f9"
      },
      "execution_count": 23,
      "outputs": [
        {
          "output_type": "stream",
          "name": "stdout",
          "text": [
            "HEADER    DE NOVO PROTEIN                         25-FEB-02   1L2Y              \n",
            "\n",
            "TITLE     NMR STRUCTURE OF TRP-CAGE MINIPROTEIN CONSTRUCT TC5B                  \n",
            "\n",
            "COMPND    MOL_ID: 1;                                                            \n",
            "\n",
            "COMPND   2 MOLECULE: TC5B;                                                      \n",
            "\n",
            "COMPND   3 CHAIN: A;                                                            \n",
            "\n",
            "COMPND   4 ENGINEERED: YES                                                      \n",
            "\n",
            "SOURCE    MOL_ID: 1;                                                            \n",
            "\n",
            "SOURCE   2 SYNTHETIC: YES;                                                      \n",
            "\n",
            "SOURCE   3 OTHER_DETAILS: THE PROTEIN WAS SYNTHESIZED USING STANDARD FMOC       \n",
            "\n",
            "SOURCE   4 SOLID-PHASE SYNTHESIS METHODS ON AN APPLIED BIOSYSTEMS 433A PEPTIDE  \n",
            "\n",
            "...\n"
          ]
        }
      ]
    },
    {
      "cell_type": "markdown",
      "source": [
        "**RCSB search API:** In many cases we’re not interested in a specific structure, but want a set of structures that fits our desired criteria. For this purpose, the RCSB search API can be used. First,  create a Query object for the property we want to filter. The search() method takes the Query and returns a list of PDB IDs, which itself can be used as input for fetch(). Likewise, count() is used to count the number of matching PDB IDs. "
      ],
      "metadata": {
        "id": "MT-hf2sxXAXZ"
      }
    },
    {
      "cell_type": "code",
      "source": [
        "query = rcsb.BasicQuery(\"HCN1\")\n",
        "pdb_ids = rcsb.search(query)\n",
        "print(pdb_ids)\n",
        "print(rcsb.count(query))\n",
        "files = rcsb.fetch(pdb_ids, \"mmtf\", gettempdir())"
      ],
      "metadata": {
        "colab": {
          "base_uri": "https://localhost:8080/"
        },
        "id": "VLKsNyA7XiLM",
        "outputId": "6febdd93-7713-4d1b-8b75-4e0877dd2049"
      },
      "execution_count": 24,
      "outputs": [
        {
          "output_type": "stream",
          "name": "stdout",
          "text": [
            "['2XPI', '3U0Z', '5U6P', '5U6O', '3U10', '6UQG', '6UQF', '3U11', '7NP4', '7NP3', '7NMN', '4NVP', '2MNG']\n",
            "13\n"
          ]
        }
      ]
    },
    {
      "cell_type": "markdown",
      "source": [
        "We can also search for a value in a specific field with a **FieldQuery**. A complete list of the available fields and its supported operators is documented [here](https://search.rcsb.org/chemical-search-attributes.html). "
      ],
      "metadata": {
        "id": "Ibw4BIwBX5_h"
      }
    },
    {
      "cell_type": "code",
      "source": [
        "# Query for 'lacA' gene\n",
        "query1 = rcsb.FieldQuery(\n",
        "    \"rcsb_entity_source_organism.rcsb_gene_name.value\",\n",
        "    exact_match=\"lacA\"\n",
        ")\n",
        "# Query for resolution below 1.5 Å\n",
        "query2 = rcsb.FieldQuery(\"reflns.d_resolution_high\", less=1.5)"
      ],
      "metadata": {
        "id": "VPFP4HCRYXc3"
      },
      "execution_count": 25,
      "outputs": []
    },
    {
      "cell_type": "markdown",
      "source": [
        "RCSB search API allows even more complex queries, e.g. for sequence or structure similarity. Refer to API reference of biotite.database.rcsb.\n",
        "\n",
        "**Multiple Query objects can be combined** using the **| (or) or & (and)** operator for a more fine-grained selection. A FieldQuery is negated with **~**."
      ],
      "metadata": {
        "id": "KJCh3CV1Yg3x"
      }
    },
    {
      "cell_type": "code",
      "source": [
        "composite_query = query1 & ~query2\n",
        "print(rcsb.search(composite_query))"
      ],
      "metadata": {
        "colab": {
          "base_uri": "https://localhost:8080/"
        },
        "id": "iUW1_h5gZGcj",
        "outputId": "13b027e5-fff7-442e-b495-62688e671f11"
      },
      "execution_count": 26,
      "outputs": [
        {
          "output_type": "stream",
          "name": "stdout",
          "text": [
            "['1KQA', '1KRR', '1KRU', '1KRV', '1TG7', '1XC6', '3U7V', '4DUW', '4IUG', '4LFK', '4LFL', '4LFM', '4LFN', '5IFP', '5IFT', '5IHR', '5JUV', '5MGC', '5MGD']\n"
          ]
        }
      ]
    },
    {
      "cell_type": "markdown",
      "source": [
        "### **Fetching files from the NCBI Entrez database**\n",
        "\n",
        "Fetching files from NCBI works analogously to the RCSB interface. This time **we have to provide the UIDs (Accession or GI)** instead of PDB IDs to the fetch() function. Furthermore, we **need to specify the database to retrieve the data from and the retrieval type**."
      ],
      "metadata": {
        "id": "tx17HGWCZIEC"
      }
    },
    {
      "cell_type": "code",
      "source": [
        "from tempfile import gettempdir, NamedTemporaryFile\n",
        "import biotite.database.entrez as entrez\n",
        "\n",
        "# Fetch a single UID ...\n",
        "file_path = entrez.fetch(\n",
        "    \"NC_001416\", gettempdir(), suffix=\"fa\",\n",
        "    db_name=\"nuccore\", ret_type=\"fasta\"\n",
        ")\n",
        "print(file_path)\n",
        "# ... or multiple UIDs\n",
        "file_paths = entrez.fetch(\n",
        "    [\"1L2Y_A\",\"1AKI_A\"], gettempdir(), suffix=\"fa\",\n",
        "    db_name=\"protein\", ret_type=\"fasta\"\n",
        ")\n",
        "print([file_path for file_path in file_paths])"
      ],
      "metadata": {
        "colab": {
          "base_uri": "https://localhost:8080/"
        },
        "id": "Qz7KgAodZvZe",
        "outputId": "766df97b-07e2-413d-e84b-a4adc5224a02"
      },
      "execution_count": 27,
      "outputs": [
        {
          "output_type": "stream",
          "name": "stdout",
          "text": [
            "/tmp/NC_001416.fa\n",
            "['/tmp/1L2Y_A.fa', '/tmp/1AKI_A.fa']\n"
          ]
        }
      ]
    },
    {
      "cell_type": "markdown",
      "source": [
        "### **NCBI Databases**\n",
        "NCBI provides a [list](https://www.ncbi.nlm.nih.gov/books/NBK25499/table/chapter4.T._valid_values_of__retmode_and/?report=objectonly) of valid databases, retrieval type and mode combinations. Furthermore, get_database_name() can be helpful to get the required database name by the more commonly known names."
      ],
      "metadata": {
        "id": "Yh6UlO0JZ7IE"
      }
    },
    {
      "cell_type": "code",
      "source": [
        "print(entrez.get_database_name(\"Nucleotide\"))"
      ],
      "metadata": {
        "colab": {
          "base_uri": "https://localhost:8080/"
        },
        "id": "NNaykTQIajC5",
        "outputId": "1b832bcc-394d-46bb-86c0-52a92ed00e6e"
      },
      "execution_count": 28,
      "outputs": [
        {
          "output_type": "stream",
          "name": "stdout",
          "text": [
            "nuccore\n"
          ]
        }
      ]
    },
    {
      "cell_type": "markdown",
      "source": [
        "The Entrez database allows for packing data for multiple UIDs into a single file. This is achieved with the fetch_single_file() function."
      ],
      "metadata": {
        "id": "l7YzECMtau-q"
      }
    },
    {
      "cell_type": "code",
      "source": [
        "temp_file = NamedTemporaryFile(suffix=\".fasta\", delete=False)\n",
        "file_path = entrez.fetch_single_file(\n",
        "    [\"1L2Y_A\",\"1AKI_A\"], temp_file.name, db_name=\"protein\", ret_type=\"fasta\"\n",
        ")\n",
        "print(file_path)\n",
        "temp_file.close()"
      ],
      "metadata": {
        "colab": {
          "base_uri": "https://localhost:8080/"
        },
        "id": "6hHztkDdayBJ",
        "outputId": "c4c80643-3a5e-4016-c86b-c01592ae0f79"
      },
      "execution_count": 29,
      "outputs": [
        {
          "output_type": "stream",
          "name": "stdout",
          "text": [
            "/tmp/tmpw4lb4h1b.fasta\n"
          ]
        }
      ]
    },
    {
      "cell_type": "markdown",
      "source": [
        "Similar to the RCSB PDB, we can also search every field of the NCBI Entrez database."
      ],
      "metadata": {
        "id": "dlPhe40La19i"
      }
    },
    {
      "cell_type": "code",
      "source": [
        "# Search in all fields\n",
        "print(entrez.SimpleQuery(\"BL21 genome\"))\n",
        "# Search in the 'Organism' field\n",
        "print(entrez.SimpleQuery(\"Escherichia coli\", field=\"Organism\"))"
      ],
      "metadata": {
        "colab": {
          "base_uri": "https://localhost:8080/"
        },
        "id": "lKwpQqGpa6hr",
        "outputId": "1f7f2c47-a81a-4c24-942a-cdeff74ee582"
      },
      "execution_count": 30,
      "outputs": [
        {
          "output_type": "stream",
          "name": "stdout",
          "text": [
            "\"BL21 genome\"\n",
            "\"Escherichia coli\"[Organism]\n"
          ]
        }
      ]
    },
    {
      "cell_type": "markdown",
      "source": [
        "We can also combine multiple Query objects in any way we like using the binary operators **|**, **&** and **^**, that represent **OR**, **AND** and **NOT** linkage, respectively."
      ],
      "metadata": {
        "id": "1nztb1m7a-Pl"
      }
    },
    {
      "cell_type": "code",
      "source": [
        "composite_query = (\n",
        "    entrez.SimpleQuery(\"50:100\", field=\"Sequence Length\") &\n",
        "    (\n",
        "        entrez.SimpleQuery(\"Escherichia coli\", field=\"Organism\") |\n",
        "        entrez.SimpleQuery(\"Bacillus subtilis\", field=\"Organism\")\n",
        "    )\n",
        ")\n",
        "print(composite_query)"
      ],
      "metadata": {
        "colab": {
          "base_uri": "https://localhost:8080/"
        },
        "id": "nfF0j2bjbkpx",
        "outputId": "7ff5d929-3f97-40ce-c7cb-ff4e4a68c356"
      },
      "execution_count": 31,
      "outputs": [
        {
          "output_type": "stream",
          "name": "stdout",
          "text": [
            "(50:100[Sequence Length]) AND ((\"Escherichia coli\"[Organism]) OR (\"Bacillus subtilis\"[Organism]))\n"
          ]
        }
      ]
    },
    {
      "cell_type": "markdown",
      "source": [
        "Finally, the query is given to the search() function to obtain the GIs, that can be used as input for fetch()."
      ],
      "metadata": {
        "id": "EiellsBLbmg8"
      }
    },
    {
      "cell_type": "code",
      "source": [
        "# Return a maximum number of 10 entries\n",
        "gis = entrez.search(composite_query, \"protein\", number=10)\n",
        "print(gis)"
      ],
      "metadata": {
        "colab": {
          "base_uri": "https://localhost:8080/"
        },
        "id": "ebWgGrNSbrki",
        "outputId": "96d3156c-b93a-4be8-ff55-52d6410a6dab"
      },
      "execution_count": 32,
      "outputs": [
        {
          "output_type": "stream",
          "name": "stdout",
          "text": [
            "['2258716175', '2258716164', '2258716157', '2258716150', '2258716147', '2258716133', '2258716094', '2258716084', '2258716083', '2258716078']\n"
          ]
        }
      ]
    },
    {
      "cell_type": "markdown",
      "source": [
        "### **2. Sequence Subpackage**"
      ],
      "metadata": {
        "id": "MIv53b4Nbv5v"
      }
    },
    {
      "cell_type": "code",
      "source": [
        "import biotite.sequence as seq\n",
        "from biotite.sequence.align.matrix import SubstitutionMatrix"
      ],
      "metadata": {
        "id": "AwPB7wfBcXvx"
      },
      "execution_count": 33,
      "outputs": []
    },
    {
      "cell_type": "markdown",
      "source": [
        "Following example shows NucleotideSequence which is a subclass of the abstract base class Sequence. A NucleotideSequence accepts an iterable object of strings, where each string can be 'A', 'C', 'G' or 'T'. Each of these letters is called a symbol."
      ],
      "metadata": {
        "id": "VRGBSENBdRL7"
      }
    },
    {
      "cell_type": "code",
      "source": [
        "dna = seq.NucleotideSequence(\"AACTGCTA\")\n",
        "print(dna)"
      ],
      "metadata": {
        "colab": {
          "base_uri": "https://localhost:8080/"
        },
        "id": "U5MUJWMtcZbq",
        "outputId": "95182e4d-130e-49ef-835c-41da402fc7ae"
      },
      "execution_count": 34,
      "outputs": [
        {
          "output_type": "stream",
          "name": "stdout",
          "text": [
            "AACTGCTA\n"
          ]
        }
      ]
    },
    {
      "cell_type": "markdown",
      "source": [
        "####**From DNA to Protein**\n",
        "\n",
        "**Biotite offers two prominent Sequence sublasses:** \n",
        "\n",
        "1. NucleotideSequence\n",
        "2. ProteinSequence \n",
        "\n",
        "The NucleotideSequence represents DNA. It may use two different alphabets - an unambiguous alphabet containing the letters 'A', 'C', 'G' and 'T' and an ambiguous alphabet containing additionally the standard letters for ambiguous nucleic bases. A NucleotideSequence determines automatically which alphabet is required, unless an alphabet is specified. Ifwe want to work with RNA sequences we can use this class, too, we just need to replace the 'U' with 'T'.\n",
        "\n",
        "#### **1. NucleotideSequence**"
      ],
      "metadata": {
        "id": "RwHsJECldz4I"
      }
    },
    {
      "cell_type": "code",
      "source": [
        "import biotite.sequence as seq\n",
        "\n",
        "# Create a nucleotide sequence using a string\n",
        "# The constructor can take any iterable object (e.g. a list of symbols)\n",
        "seq1 = seq.NucleotideSequence(\"ACCGTATCAAG\")\n",
        "print(seq1.get_alphabet())\n",
        "# Constructing a sequence with ambiguous nucleic bases\n",
        "seq2 = seq.NucleotideSequence(\"TANNCGNGG\")\n",
        "print(seq2.get_alphabet())"
      ],
      "metadata": {
        "colab": {
          "base_uri": "https://localhost:8080/"
        },
        "id": "kD5gm8aAdq_z",
        "outputId": "022bc831-15dd-4b49-8db3-bb194d02f437"
      },
      "execution_count": 35,
      "outputs": [
        {
          "output_type": "stream",
          "name": "stdout",
          "text": [
            "['A', 'C', 'G', 'T']\n",
            "['A', 'C', 'G', 'T', 'R', 'Y', 'W', 'S', 'M', 'K', 'H', 'B', 'V', 'D', 'N']\n"
          ]
        }
      ]
    },
    {
      "cell_type": "markdown",
      "source": [
        "The reverse complement of a DNA sequence is created by chaining the Sequence.reverse() and the NucleotideSequence.complement() method."
      ],
      "metadata": {
        "id": "KX78ech9erLv"
      }
    },
    {
      "cell_type": "code",
      "source": [
        "# Lower case characters are automatically capitalized\n",
        "seq1 = seq.NucleotideSequence(\"tacagtt\")\n",
        "print(\"Original:\", seq1)\n",
        "seq2 = seq1.reverse().complement()\n",
        "print(\"Reverse complement:\", seq2)"
      ],
      "metadata": {
        "colab": {
          "base_uri": "https://localhost:8080/"
        },
        "id": "NmPdHd7MesaS",
        "outputId": "121f6770-a386-4571-c7a2-2a580363b75b"
      },
      "execution_count": 36,
      "outputs": [
        {
          "output_type": "stream",
          "name": "stdout",
          "text": [
            "Original: TACAGTT\n",
            "Reverse complement: AACTGTA\n"
          ]
        }
      ]
    },
    {
      "cell_type": "markdown",
      "source": [
        "#### **2. ProteinSequence**\n",
        "ProteinSequence supports the letters for the 20 standard amino acids plus some letters for ambiguous amino acids and a letter for a stop signal. Furthermore, this class provides some utilities like 3-letter to 1-letter translation (and vice versa).\n",
        "\n",
        "**Sequence Manipulation Suite** [(SMS)](https://www.bioinformatics.org/sms2/random_protein.html): Random Protein Sequence generates a random sequence of the length you specify. Random sequences can be used to evaluate the significance of sequence analysis results."
      ],
      "metadata": {
        "id": "JNc7wY9pewy0"
      }
    },
    {
      "cell_type": "code",
      "source": [
        "prot_seq = seq.ProteinSequence(\"NQEWQYTKPK\") # generated a random protein sequence using SMS\n",
        "print(\"-\".join([seq.ProteinSequence.convert_letter_1to3(symbol)\n",
        "                for symbol in prot_seq]))"
      ],
      "metadata": {
        "colab": {
          "base_uri": "https://localhost:8080/"
        },
        "id": "E2-Ajk1Pfcbh",
        "outputId": "63648951-6df3-4982-d885-c6260636b92b"
      },
      "execution_count": 37,
      "outputs": [
        {
          "output_type": "stream",
          "name": "stdout",
          "text": [
            "ASN-GLN-GLU-TRP-GLN-TYR-THR-LYS-PRO-LYS\n"
          ]
        }
      ]
    },
    {
      "cell_type": "markdown",
      "source": [
        "A **NucleotideSequence can be translated into a ProteinSequence** via the **NucleotideSequence.translate() method**. By default, the method searches for open reading frames (ORFs) in the 3 frames of the sequence. A 6-frame ORF search requires an additional call of NucleotideSequence.translate() with the reverse complement of the sequence. If we want to conduct a complete 1-frame translation of the sequence, irrespective of any start and stop codons, set the parameter complete to true."
      ],
      "metadata": {
        "id": "uQVDTu1gfeEx"
      }
    },
    {
      "cell_type": "code",
      "source": [
        "dna = seq.NucleotideSequence(\"CATATGATGTATGCAATAGGGTGAATG\")\n",
        "proteins, pos = dna.translate()\n",
        "for i in range(len(proteins)):\n",
        "    print(\n",
        "        f\"Protein sequence {str(proteins[i])} \"\n",
        "        f\"from base {pos[i][0]+1} to base {pos[i][1]}\"\n",
        "    )\n",
        "protein = dna.translate(complete=True)\n",
        "print(\"Complete translation:\", str(protein))"
      ],
      "metadata": {
        "colab": {
          "base_uri": "https://localhost:8080/"
        },
        "id": "zP_gCTi_flTl",
        "outputId": "827b7958-917a-4aa7-d922-0f0f113e13ec"
      },
      "execution_count": 38,
      "outputs": [
        {
          "output_type": "stream",
          "name": "stdout",
          "text": [
            "Protein sequence MMYAIG* from base 4 to base 24\n",
            "Protein sequence MYAIG* from base 7 to base 24\n",
            "Protein sequence MQ* from base 11 to base 19\n",
            "Protein sequence M from base 25 to base 27\n",
            "Complete translation: HMMYAIG*M\n"
          ]
        }
      ]
    },
    {
      "cell_type": "markdown",
      "source": [
        "The upper example uses the default CodonTable instance. This can be changed with the **codon_table parameter**. A **CodonTable** maps codons to amino acids and defines start codons (both in symbol and code form). A *CodonTable is mainly used in the NucleotideSequence.translate() method*, but can also be used to find the corresponding amino acid for a codon and vice versa."
      ],
      "metadata": {
        "id": "tC_ZEVqYf07T"
      }
    },
    {
      "cell_type": "code",
      "source": [
        "table = seq.CodonTable.default_table()\n",
        "# Find the amino acid encoded by a given codon\n",
        "print(table[\"TAC\"])\n",
        "# Find the codons encoding a given amino acid\n",
        "print(table[\"Y\"])\n",
        "# Works also for codes instead of symbols\n",
        "print(table[(1,2,3)])\n",
        "print(table[14])"
      ],
      "metadata": {
        "colab": {
          "base_uri": "https://localhost:8080/"
        },
        "id": "ZfPpHUG-f_Ae",
        "outputId": "be1ef6ec-00e3-4804-930a-d52f05cd0cd9"
      },
      "execution_count": 39,
      "outputs": [
        {
          "output_type": "stream",
          "name": "stdout",
          "text": [
            "Y\n",
            "('TAC', 'TAT')\n",
            "14\n",
            "((0, 2, 0), (0, 2, 2), (1, 2, 0), (1, 2, 1), (1, 2, 2), (1, 2, 3))\n"
          ]
        }
      ]
    },
    {
      "cell_type": "markdown",
      "source": [
        "The default CodonTable is equal to the NCBI “Standard” table, with the small difference that only 'ATG' qualifies as start codon. You can also use any other official NCBI table via **CodonTable.load()**."
      ],
      "metadata": {
        "id": "Kgy-uo7zgDjx"
      }
    },
    {
      "cell_type": "code",
      "source": [
        "# Use the official NCBI table name\n",
        "table = seq.CodonTable.load(\"Yeast Mitochondrial\")\n",
        "print(\"Yeast Mitochondrial:\")\n",
        "print(table)\n",
        "print()\n",
        "# Use the official NCBI table ID\n",
        "table = seq.CodonTable.load(11)\n",
        "print(\"Bacterial:\")\n",
        "print(table)"
      ],
      "metadata": {
        "colab": {
          "base_uri": "https://localhost:8080/"
        },
        "id": "pbnynkqCgM4q",
        "outputId": "dd68bc51-bcce-4d22-9f10-f41d1dfdbcef"
      },
      "execution_count": 40,
      "outputs": [
        {
          "output_type": "stream",
          "name": "stdout",
          "text": [
            "Yeast Mitochondrial:\n",
            "AAA K      AAC N      AAG K      AAT N\n",
            "ACA T      ACC T      ACG T      ACT T\n",
            "AGA R      AGC S      AGG R      AGT S\n",
            "ATA M i    ATC I      ATG M i    ATT I\n",
            "\n",
            "CAA Q      CAC H      CAG Q      CAT H\n",
            "CCA P      CCC P      CCG P      CCT P\n",
            "CGA R      CGC R      CGG R      CGT R\n",
            "CTA T      CTC T      CTG T      CTT T\n",
            "\n",
            "GAA E      GAC D      GAG E      GAT D\n",
            "GCA A      GCC A      GCG A      GCT A\n",
            "GGA G      GGC G      GGG G      GGT G\n",
            "GTA V      GTC V      GTG V      GTT V\n",
            "\n",
            "TAA *      TAC Y      TAG *      TAT Y\n",
            "TCA S      TCC S      TCG S      TCT S\n",
            "TGA W      TGC C      TGG W      TGT C\n",
            "TTA L      TTC F      TTG L      TTT F\n",
            "\n",
            "Bacterial:\n",
            "AAA K      AAC N      AAG K      AAT N\n",
            "ACA T      ACC T      ACG T      ACT T\n",
            "AGA R      AGC S      AGG R      AGT S\n",
            "ATA I i    ATC I i    ATG M i    ATT I\n",
            "\n",
            "CAA Q      CAC H      CAG Q      CAT H\n",
            "CCA P      CCC P      CCG P      CCT P\n",
            "CGA R      CGC R      CGG R      CGT R\n",
            "CTA L      CTC L      CTG L i    CTT L\n",
            "\n",
            "GAA E      GAC D      GAG E      GAT D\n",
            "GCA A      GCC A      GCG A      GCT A\n",
            "GGA G      GGC G      GGG G      GGT G\n",
            "GTA V      GTC V      GTG V i    GTT V\n",
            "\n",
            "TAA *      TAC Y      TAG *      TAT Y\n",
            "TCA S      TCC S      TCG S      TCT S\n",
            "TGA *      TGC C      TGG W      TGT C\n",
            "TTA L      TTC F      TTG L i    TTT F\n"
          ]
        }
      ]
    },
    {
      "cell_type": "markdown",
      "source": [
        "#### **Loading sequences from files** \n",
        "Biotite enables the user to load and save sequences from/to the popular FASTA format via the FastaFile class. [FASTA format](https://en.wikipedia.org/wiki/FASTA_format) is a **text-based format for representing either nucleotide sequences or amino acid (protein) sequences, in which nucleotides or amino acids are represented using single-letter codes**. A FASTA file may contain multiple sequences. Each sequence entry starts with a line with a leading '>' and a trailing header name. The corresponding sequence is specified in the following lines until the next header or end of file. \n",
        "\n",
        "Since every sequence has its obligatory header, a FASTA file is predestinated to be implemented as some kind of dictionary. This is exactly what has been done in Biotite: The header strings (without the '>') are used as keys to access the respective sequence strings. \n",
        "\n",
        "We can cast the FastaFile object into a dict. We demonstrate this on the genome of the lambda phage (Accession: NC_001416). After downloading the FASTA file from the NCBI Entrez database, we can load its contents in the following way:"
      ],
      "metadata": {
        "id": "3wV5bXNwgPPC"
      }
    },
    {
      "cell_type": "code",
      "source": [
        "from tempfile import gettempdir, NamedTemporaryFile\n",
        "import biotite.sequence as seq\n",
        "import biotite.sequence.io.fasta as fasta\n",
        "import biotite.database.entrez as entrez\n",
        "\n",
        "file_path = entrez.fetch(\n",
        "    \"NC_001416\", gettempdir(), suffix=\"fa\",\n",
        "    db_name=\"nuccore\", ret_type=\"fasta\"\n",
        ")\n",
        "fasta_file = fasta.FastaFile.read(file_path)\n",
        "for header, string in fasta_file.items():\n",
        "    print(\"Header:\", header)\n",
        "    print(len(string))\n",
        "    print(\"Sequence:\", string[:50], \"...\")\n",
        "    print(\"Sequence length:\", len(string))"
      ],
      "metadata": {
        "colab": {
          "base_uri": "https://localhost:8080/"
        },
        "id": "WCTwztqWgjDF",
        "outputId": "8f20961b-4895-442f-ac1d-8d437bd045b6"
      },
      "execution_count": 41,
      "outputs": [
        {
          "output_type": "stream",
          "name": "stdout",
          "text": [
            "Header: NC_001416.1 Enterobacteria phage lambda, complete genome\n",
            "48502\n",
            "Sequence: GGGCGGCGACCTCGCGGGTTTTCGCTATTTATGAAAATTTTCCGGTTTAA ...\n",
            "Sequence length: 48502\n"
          ]
        }
      ]
    },
    {
      "cell_type": "markdown",
      "source": [
        "Since there is only a single sequence in the file, the loop is run only one time. As the sequence string is very long, only the first 50 bp are printed. Now this string could be used as input parameter for creation of a NucleotideSequence. But we want to spare ourselves some unnecessary work, there is already a convenience function for that:"
      ],
      "metadata": {
        "id": "jIW00oUggsSM"
      }
    },
    {
      "cell_type": "code",
      "source": [
        "dna_seq = fasta.get_sequence(fasta_file)\n",
        "print(type(dna_seq).__name__)\n",
        "print(dna_seq[:50])"
      ],
      "metadata": {
        "colab": {
          "base_uri": "https://localhost:8080/"
        },
        "id": "rgn4aHsZgtwf",
        "outputId": "f88db0e7-ee8b-45d0-f3d6-67662c4ac7cf"
      },
      "execution_count": 42,
      "outputs": [
        {
          "output_type": "stream",
          "name": "stdout",
          "text": [
            "NucleotideSequence\n",
            "GGGCGGCGACCTCGCGGGTTTTCGCTATTTATGAAAATTTTCCGGTTTAA\n"
          ]
        }
      ]
    },
    {
      "cell_type": "markdown",
      "source": [
        "In this form **get_sequence()** returns the first sequence in the file, which is also the only sequence in most cases. If we want the sequence corresponding to a specific header, we have to specifiy the header parameter. The function even automatically recognizes, if the file contains a DNA or protein sequence and returns a NucleotideSequence or ProteinSequence, instance respectively. Actually, it just tries to create a NucleotideSequence, and if this fails, a ProteinSequence is created instead.\n",
        "\n",
        "Sequences can be written into FASTA files in a similar way: either via dictionary-like access or using the **set_sequence()** convenience function."
      ],
      "metadata": {
        "id": "GyiMdYwsgxPQ"
      }
    },
    {
      "cell_type": "code",
      "source": [
        "# Create new empty FASTA file\n",
        "fasta_file = fasta.FastaFile()\n",
        "# PROTIP: Let your cat walk over the keyboard\n",
        "dna_seq1 = seq.NucleotideSequence(\"ATCGGATCTATCGATGCTAGCTACAGCTAT\")\n",
        "dna_seq2 = seq.NucleotideSequence(\"ACGATCTACTAGCTGATGTCGTGCATGTACG\")\n",
        "# Append entries to file...\n",
        "# ... via set_sequence()\n",
        "fasta.set_sequence(fasta_file, dna_seq1, header=\"gibberish\")\n",
        "# .. or dictionary style\n",
        "fasta_file[\"more gibberish\"] = str(dna_seq2)\n",
        "print(fasta_file)\n",
        "temp_file = NamedTemporaryFile(suffix=\".fasta\", delete=False)\n",
        "fasta_file.write(temp_file.name)\n",
        "temp_file.close()"
      ],
      "metadata": {
        "colab": {
          "base_uri": "https://localhost:8080/"
        },
        "id": "OVMHs_MRhAw8",
        "outputId": "1dfa701a-4b5e-42e6-d38d-68552990fc80"
      },
      "execution_count": 43,
      "outputs": [
        {
          "output_type": "stream",
          "name": "stdout",
          "text": [
            ">gibberish\n",
            "ATCGGATCTATCGATGCTAGCTACAGCTAT\n",
            ">more gibberish\n",
            "ACGATCTACTAGCTGATGTCGTGCATGTACG\n"
          ]
        }
      ]
    },
    {
      "cell_type": "markdown",
      "source": [
        "As we can see, our file contains our new 'gibberish' and 'more gibberish' sequences now.\n",
        "\n",
        "In a similar manner sequences and sequence quality scores can be read from FASTQ files. For further reference, have a look at the biotite.sequence.io.fastq subpackage.\n",
        "\n",
        "Alternatively, a **sequence can also be loaded from GenBank or GenPept files, using the GenBankFile class**.\n",
        "\n",
        "#### **Sequence Search** \n",
        "A sequence can be searched for the position of a subsequence or a specific symbol:"
      ],
      "metadata": {
        "id": "GSqHR6nZhFB3"
      }
    },
    {
      "cell_type": "code",
      "source": [
        "import biotite.sequence as seq\n",
        "\n",
        "main_seq = seq.NucleotideSequence(\"ACCGTATCAAGTATTG\")\n",
        "sub_seq = seq.NucleotideSequence(\"TAT\")\n",
        "print(\"Occurences of 'TAT':\", seq.find_subsequence(main_seq, sub_seq))\n",
        "print(\"Occurences of 'C':\", seq.find_symbol(main_seq, \"C\"))"
      ],
      "metadata": {
        "colab": {
          "base_uri": "https://localhost:8080/"
        },
        "id": "FgPsTPROh9b_",
        "outputId": "7791770b-ab53-4ed8-febe-25e0206732e4"
      },
      "execution_count": 44,
      "outputs": [
        {
          "output_type": "stream",
          "name": "stdout",
          "text": [
            "Occurences of 'TAT': [ 4 11]\n",
            "Occurences of 'C': [1 2 7]\n"
          ]
        }
      ]
    },
    {
      "cell_type": "markdown",
      "source": [
        "####**Sequence alignments**\n",
        "\n",
        "##### **Pairwise alignments**\n",
        "\n",
        "When comparing two (or more) sequences, usually an alignment needs to be performed. Two kinds of algorithms need to be distinguished here: **Heuristic algorithms** do not guarantee to yield the optimal alignment, but instead they are very fast. On the other hand, there are **algorithms that calculate the optimal (maximum similarity score) alignment**, but are quite slow.\n",
        "\n",
        "The biotite.sequence.align package provides the *function* **align_optimal()**, which fits into the latter category. It either performs an optimal global alignment, using the **Needleman-Wunsch algorithm**, or an optimal local alignment, using the **Smith-Waterman algorithm**. By default it uses a linear gap penalty, but an affine gap penalty can be used, too.\n",
        "\n",
        "Most functions in biotite.sequence.align can align any two Sequence objects with each other. In fact the Sequence objects can be instances from different Sequence subclasses and therefore may have different alphabets. The only condition that must be satisfied, is that the SubstitutionMatrix alphabets match the alphabets of the sequences to be aligned.\n",
        "\n",
        "##### **SubstitutionMatrix**\n",
        "\n",
        "This class maps a combination of two symbols, one from the first sequence the other one from the second sequence, to a similarity score. A SubstitutionMatrix object contains two alphabets with length n or m, respectively, and an (n,m)-shaped ndarray storing the similarity scores. We can choose one of many predefined matrices from an internal database or we can create a custom matrix on our own.\n",
        "\n",
        "Let’s start by showing different ways to **construct a SubstitutionMatrix**, in our case for protein sequence alignments:"
      ],
      "metadata": {
        "id": "fguv5S6yiYjs"
      }
    },
    {
      "cell_type": "code",
      "source": [
        "import biotite.sequence as seq\n",
        "import biotite.sequence.align as align\n",
        "import numpy as np\n",
        "\n",
        "alph = seq.ProteinSequence.alphabet\n",
        "# Load the standard protein substitution matrix, which is BLOSUM62\n",
        "matrix = align.SubstitutionMatrix.std_protein_matrix()\n",
        "print(\"\\nBLOSUM62\\n\")\n",
        "print(matrix)\n",
        "# Load another matrix from internal database\n",
        "matrix = align.SubstitutionMatrix(alph, alph, \"BLOSUM50\")\n",
        "# Load a matrix dictionary representation,\n",
        "# modify it, and create the SubstitutionMatrix\n",
        "# (The dictionary could be alternatively loaded from a string containing\n",
        "# the matrix in NCBI format)\n",
        "matrix_dict = align.SubstitutionMatrix.dict_from_db(\"BLOSUM62\")\n",
        "matrix_dict[(\"P\",\"Y\")] = 100\n",
        "matrix = align.SubstitutionMatrix(alph, alph, matrix_dict)\n",
        "# And now create a matrix by directly provding the ndarray\n",
        "# containing the similarity scores\n",
        "# (identity matrix in our case)\n",
        "scores = np.identity(len(alph), dtype=int)\n",
        "matrix = align.SubstitutionMatrix(alph, alph, scores)\n",
        "print(\"\\n\\nIdentity matrix\\n\")\n",
        "print(matrix)"
      ],
      "metadata": {
        "colab": {
          "base_uri": "https://localhost:8080/"
        },
        "id": "33hwTJw8jh_-",
        "outputId": "6dca03ee-f9e3-4706-9839-8ea2e9c489a9"
      },
      "execution_count": 45,
      "outputs": [
        {
          "output_type": "stream",
          "name": "stdout",
          "text": [
            "\n",
            "BLOSUM62\n",
            "\n",
            "    A   C   D   E   F   G   H   I   K   L   M   N   P   Q   R   S   T   V   W   Y   B   Z   X   *\n",
            "A   4   0  -2  -1  -2   0  -2  -1  -1  -1  -1  -2  -1  -1  -1   1   0   0  -3  -2  -2  -1   0  -4\n",
            "C   0   9  -3  -4  -2  -3  -3  -1  -3  -1  -1  -3  -3  -3  -3  -1  -1  -1  -2  -2  -3  -3  -2  -4\n",
            "D  -2  -3   6   2  -3  -1  -1  -3  -1  -4  -3   1  -1   0  -2   0  -1  -3  -4  -3   4   1  -1  -4\n",
            "E  -1  -4   2   5  -3  -2   0  -3   1  -3  -2   0  -1   2   0   0  -1  -2  -3  -2   1   4  -1  -4\n",
            "F  -2  -2  -3  -3   6  -3  -1   0  -3   0   0  -3  -4  -3  -3  -2  -2  -1   1   3  -3  -3  -1  -4\n",
            "G   0  -3  -1  -2  -3   6  -2  -4  -2  -4  -3   0  -2  -2  -2   0  -2  -3  -2  -3  -1  -2  -1  -4\n",
            "H  -2  -3  -1   0  -1  -2   8  -3  -1  -3  -2   1  -2   0   0  -1  -2  -3  -2   2   0   0  -1  -4\n",
            "I  -1  -1  -3  -3   0  -4  -3   4  -3   2   1  -3  -3  -3  -3  -2  -1   3  -3  -1  -3  -3  -1  -4\n",
            "K  -1  -3  -1   1  -3  -2  -1  -3   5  -2  -1   0  -1   1   2   0  -1  -2  -3  -2   0   1  -1  -4\n",
            "L  -1  -1  -4  -3   0  -4  -3   2  -2   4   2  -3  -3  -2  -2  -2  -1   1  -2  -1  -4  -3  -1  -4\n",
            "M  -1  -1  -3  -2   0  -3  -2   1  -1   2   5  -2  -2   0  -1  -1  -1   1  -1  -1  -3  -1  -1  -4\n",
            "N  -2  -3   1   0  -3   0   1  -3   0  -3  -2   6  -2   0   0   1   0  -3  -4  -2   3   0  -1  -4\n",
            "P  -1  -3  -1  -1  -4  -2  -2  -3  -1  -3  -2  -2   7  -1  -2  -1  -1  -2  -4  -3  -2  -1  -2  -4\n",
            "Q  -1  -3   0   2  -3  -2   0  -3   1  -2   0   0  -1   5   1   0  -1  -2  -2  -1   0   3  -1  -4\n",
            "R  -1  -3  -2   0  -3  -2   0  -3   2  -2  -1   0  -2   1   5  -1  -1  -3  -3  -2  -1   0  -1  -4\n",
            "S   1  -1   0   0  -2   0  -1  -2   0  -2  -1   1  -1   0  -1   4   1  -2  -3  -2   0   0   0  -4\n",
            "T   0  -1  -1  -1  -2  -2  -2  -1  -1  -1  -1   0  -1  -1  -1   1   5   0  -2  -2  -1  -1   0  -4\n",
            "V   0  -1  -3  -2  -1  -3  -3   3  -2   1   1  -3  -2  -2  -3  -2   0   4  -3  -1  -3  -2  -1  -4\n",
            "W  -3  -2  -4  -3   1  -2  -2  -3  -3  -2  -1  -4  -4  -2  -3  -3  -2  -3  11   2  -4  -3  -2  -4\n",
            "Y  -2  -2  -3  -2   3  -3   2  -1  -2  -1  -1  -2  -3  -1  -2  -2  -2  -1   2   7  -3  -2  -1  -4\n",
            "B  -2  -3   4   1  -3  -1   0  -3   0  -4  -3   3  -2   0  -1   0  -1  -3  -4  -3   4   1  -1  -4\n",
            "Z  -1  -3   1   4  -3  -2   0  -3   1  -3  -1   0  -1   3   0   0  -1  -2  -3  -2   1   4  -1  -4\n",
            "X   0  -2  -1  -1  -1  -1  -1  -1  -1  -1  -1  -1  -2  -1  -1   0   0  -1  -2  -1  -1  -1  -1  -4\n",
            "*  -4  -4  -4  -4  -4  -4  -4  -4  -4  -4  -4  -4  -4  -4  -4  -4  -4  -4  -4  -4  -4  -4  -4   1\n",
            "\n",
            "\n",
            "Identity matrix\n",
            "\n",
            "    A   C   D   E   F   G   H   I   K   L   M   N   P   Q   R   S   T   V   W   Y   B   Z   X   *\n",
            "A   1   0   0   0   0   0   0   0   0   0   0   0   0   0   0   0   0   0   0   0   0   0   0   0\n",
            "C   0   1   0   0   0   0   0   0   0   0   0   0   0   0   0   0   0   0   0   0   0   0   0   0\n",
            "D   0   0   1   0   0   0   0   0   0   0   0   0   0   0   0   0   0   0   0   0   0   0   0   0\n",
            "E   0   0   0   1   0   0   0   0   0   0   0   0   0   0   0   0   0   0   0   0   0   0   0   0\n",
            "F   0   0   0   0   1   0   0   0   0   0   0   0   0   0   0   0   0   0   0   0   0   0   0   0\n",
            "G   0   0   0   0   0   1   0   0   0   0   0   0   0   0   0   0   0   0   0   0   0   0   0   0\n",
            "H   0   0   0   0   0   0   1   0   0   0   0   0   0   0   0   0   0   0   0   0   0   0   0   0\n",
            "I   0   0   0   0   0   0   0   1   0   0   0   0   0   0   0   0   0   0   0   0   0   0   0   0\n",
            "K   0   0   0   0   0   0   0   0   1   0   0   0   0   0   0   0   0   0   0   0   0   0   0   0\n",
            "L   0   0   0   0   0   0   0   0   0   1   0   0   0   0   0   0   0   0   0   0   0   0   0   0\n",
            "M   0   0   0   0   0   0   0   0   0   0   1   0   0   0   0   0   0   0   0   0   0   0   0   0\n",
            "N   0   0   0   0   0   0   0   0   0   0   0   1   0   0   0   0   0   0   0   0   0   0   0   0\n",
            "P   0   0   0   0   0   0   0   0   0   0   0   0   1   0   0   0   0   0   0   0   0   0   0   0\n",
            "Q   0   0   0   0   0   0   0   0   0   0   0   0   0   1   0   0   0   0   0   0   0   0   0   0\n",
            "R   0   0   0   0   0   0   0   0   0   0   0   0   0   0   1   0   0   0   0   0   0   0   0   0\n",
            "S   0   0   0   0   0   0   0   0   0   0   0   0   0   0   0   1   0   0   0   0   0   0   0   0\n",
            "T   0   0   0   0   0   0   0   0   0   0   0   0   0   0   0   0   1   0   0   0   0   0   0   0\n",
            "V   0   0   0   0   0   0   0   0   0   0   0   0   0   0   0   0   0   1   0   0   0   0   0   0\n",
            "W   0   0   0   0   0   0   0   0   0   0   0   0   0   0   0   0   0   0   1   0   0   0   0   0\n",
            "Y   0   0   0   0   0   0   0   0   0   0   0   0   0   0   0   0   0   0   0   1   0   0   0   0\n",
            "B   0   0   0   0   0   0   0   0   0   0   0   0   0   0   0   0   0   0   0   0   1   0   0   0\n",
            "Z   0   0   0   0   0   0   0   0   0   0   0   0   0   0   0   0   0   0   0   0   0   1   0   0\n",
            "X   0   0   0   0   0   0   0   0   0   0   0   0   0   0   0   0   0   0   0   0   0   0   1   0\n",
            "*   0   0   0   0   0   0   0   0   0   0   0   0   0   0   0   0   0   0   0   0   0   0   0   1\n"
          ]
        }
      ]
    },
    {
      "cell_type": "markdown",
      "source": [
        "For our protein alignment example, we identify regions of similarity between [SARS-CoV-2 Spike protein S1](https://www.uniprot.org/uniprot/P0DTC2) and [ACE2 receptor](https://www.uniprot.org/uniprot/Q9BYF1) that may be a consequence of functional or structural, and will use the standard [BLOSUM62 matrix](https://www.ncbi.nlm.nih.gov/Class/FieldGuide/BLOSUM62.txt).\n",
        "\n",
        "**BLOcks SUbstitution Matrix (BLOSUM)**: matrix is a substitution matrix used for sequence alignment of proteins. BLOSUM matrices are used to score alignments between evolutionarily divergent protein sequences. They are based on local alignments. All BLOSUM matrices are based on observed alignments; they are not extrapolated from comparisons of closely related proteins like the PAM Matrices [(Wikipedia)](https://en.wikipedia.org/wiki/BLOSUM). "
      ],
      "metadata": {
        "id": "zbT47wOxjmns"
      }
    },
    {
      "cell_type": "code",
      "source": [
        "seq1 = seq.ProteinSequence(\"MSSSSWLLLS\") # ACE2 receptor\n",
        "seq2 = seq.ProteinSequence(\"MFVFLVLLPL\") # SARS-CoV-2 Spike protein S1 \n",
        "matrix = align.SubstitutionMatrix.std_protein_matrix()\n",
        "print(\"\\nLocal alignment\")\n",
        "alignments = align.align_optimal(seq1, seq2, matrix, local=True)\n",
        "for ali in alignments:\n",
        "    print(ali)\n",
        "print(\"Global alignment\")\n",
        "alignments = align.align_optimal(seq1, seq2, matrix, local=False)\n",
        "for ali in alignments:\n",
        "    print(ali)"
      ],
      "metadata": {
        "colab": {
          "base_uri": "https://localhost:8080/"
        },
        "id": "JYnRKIeLjqN5",
        "outputId": "db774812-1b31-4348-8be8-558b6940767e"
      },
      "execution_count": 50,
      "outputs": [
        {
          "output_type": "stream",
          "name": "stdout",
          "text": [
            "\n",
            "Local alignment\n",
            "WLLL\n",
            "FLVL\n",
            "Global alignment\n",
            "MSSSSWLLLS\n",
            "MFVFLVLLPL\n"
          ]
        }
      ]
    },
    {
      "cell_type": "markdown",
      "source": [
        "The alignment functions return a list of Alignment objects. This object saves the input sequences together with a so called trace - the indices to symbols in these sequences that are aligned to each other (-1 for a gap). Additionally the alignment score is stored in this object. Furthermore, this object can prettyprint the alignment into a human readable form.\n",
        "\n",
        "For publication purposes we can create an actual figure based on Matplotlib. We can either decide to color the symbols based on the symbol type or based on the similarity within the alignment columns. In this case we will go with the **similarity visualization**."
      ],
      "metadata": {
        "id": "10VZfa-HjucH"
      }
    },
    {
      "cell_type": "code",
      "source": [
        "import matplotlib.pyplot as plt\n",
        "import biotite.sequence.graphics as graphics\n",
        "\n",
        "fig, ax = plt.subplots(figsize=(2.0, 0.8))\n",
        "graphics.plot_alignment_similarity_based(\n",
        "    ax, alignments[0], matrix=matrix, symbols_per_line=len(alignments[0])\n",
        ")\n",
        "fig.tight_layout()"
      ],
      "metadata": {
        "colab": {
          "base_uri": "https://localhost:8080/",
          "height": 67
        },
        "id": "3QxSZbykj5oZ",
        "outputId": "04b1acdf-429a-4ee5-b4b2-1048e2d88c9a"
      },
      "execution_count": 51,
      "outputs": [
        {
          "output_type": "display_data",
          "data": {
            "text/plain": [
              "<Figure size 144x57.6 with 2 Axes>"
            ],
            "image/png": "[encoded data removed]"
          },
          "metadata": {
            "needs_background": "light"
          }
        }
      ]
    },
    {
      "cell_type": "markdown",
      "source": [
        "We can also do some simple analysis on these objects, like determining the sequence identity or calculating the score. For further custom analysis, it can be convenient to have directly the aligned symbols codes instead of the trace.\n",
        "\n",
        "We might wonder, why we should recalculate the score, when the score has already been directly calculated via align_optimal(). The answer is that we might load an alignment from a FASTA file using get_alignment(), where the score is not provided."
      ],
      "metadata": {
        "id": "nkaXqobgkAvn"
      }
    },
    {
      "cell_type": "code",
      "source": [
        "alignment = alignments[0]\n",
        "print(\"Score: \", alignment.score)\n",
        "print(\"Recalculated score:\", align.score(alignment, matrix=matrix))\n",
        "print(\"Sequence identity:\", align.get_sequence_identity(alignment))\n",
        "print(\"Symbols:\")\n",
        "print(align.get_symbols(alignment))\n",
        "print(\"symbols codes:\")\n",
        "print(align.get_codes(alignment))"
      ],
      "metadata": {
        "colab": {
          "base_uri": "https://localhost:8080/"
        },
        "id": "qsbK2ppekPu5",
        "outputId": "4b06ffe8-c0d0-4562-8cc2-01cb23d4ef23"
      },
      "execution_count": 52,
      "outputs": [
        {
          "output_type": "stream",
          "name": "stdout",
          "text": [
            "Score:  -3\n",
            "Recalculated score: -3\n",
            "Sequence identity: 0.3\n",
            "Symbols:\n",
            "[['M', 'S', 'S', 'S', 'S', 'W', 'L', 'L', 'L', 'S'], ['M', 'F', 'V', 'F', 'L', 'V', 'L', 'L', 'P', 'L']]\n",
            "symbols codes:\n",
            "[[10 15 15 15 15 18  9  9  9 15]\n",
            " [10  4 17  4  9 17  9  9 12  9]]\n"
          ]
        }
      ]
    },
    {
      "cell_type": "markdown",
      "source": [
        "#### **Advanced sequence alignments**\n",
        "\n",
        "While the former alignment method returns the optimal alignment of two sequences, it is not recommended to use this method to align a short query sequence (e.g a gene) to an extremely long sequence (e.g. the human genome): The computation time and memory space requirements scale linearly with the length of both sequences, so even if our RAM does not overflow, we might need to wait a very long time for our alignment results.\n",
        "\n",
        "But there is **another method**: We could **look for local k-mer matches** of the long (reference) sequence and the short (query) sequence and perform a sequence alignment restricted to the position of the match. Although this approach might not give the optimal result in some cases, it works well enough, so that popular programs like BLAST are based on it.\n",
        "\n",
        "**k-mer**: are all of a sequence's subsequences of length k contained within a biological sequence, e.g. we set k to 3, and then count the whole of the biological sequence. For example, if we have the sequence **AGAT** then we would have four monomers (A, G, A, and T), three 2-mers (AG, GA, AT), two 3-mers (AGA and GAT) and one 4-mer (AGAT). \n",
        "\n",
        "Biotite provides a modular system to build such an alignment search method. At least four steps are necessary:\n",
        "\n",
        "1. **Indexing the reference sequence**: creating an index table mapping k-mers to their position in the reference sequence\n",
        "2. **Matching the query sequence**: find match positions between this k-mer index table and the k-mers of the query sequence\n",
        "3. **Alignments at the match positions**: perform gapped alignments restricted to the match positions\n",
        "4. **Significance evaluation**: evaluate the significance of the created alignments\n",
        "\n",
        "The following general approach scales well for real world applications, where the reference could be a large genome or where you have a database of thousands of sequences.\n",
        "\n",
        "**References:**\n",
        "\n",
        "* Antonio Blanca, Robert S. Harris, David Koslicki, and Paul Medvedev.Journal of Computational Biology.Feb 2022.155-168.{http://doi.org/10.1089/cmb.2021.0431](https://www.liebertpub.com/doi/10.1089/cmb.2021.0431)"
      ],
      "metadata": {
        "id": "f_GIP_PEkToQ"
      }
    },
    {
      "cell_type": "code",
      "source": [
        "query = seq.ProteinSequence(\"BIQTITE\")\n",
        "reference = seq.ProteinSequence(\n",
        "    # This toy sequence is adapted from the first sentence of the\n",
        "    # Wikipedia 'Niobite' article\n",
        "    \"CQLVMBITEALSQCALLEDNIQBITEANDCQLVMBATEISAMINERALGRQVPTHATISANQREQFNIQBIVM\"\n",
        "    #                   ^^^^^^^\n",
        "    # Here is the 'homologous' mineral\n",
        ")"
      ],
      "metadata": {
        "id": "rFcW3YhgkdFI"
      },
      "execution_count": 53,
      "outputs": []
    },
    {
      "cell_type": "markdown",
      "source": [
        "**1. Indexing the reference sequence**\n",
        "\n",
        "In the first step the k-mers of the reference sequence needs to be indexed into a KmerTable. The k-mers (also called words or k-tuples) of a sequence are all overlapping subsequences with a given length k. Indexing means creating a table that maps each k-mer to the position where this k-mer appears in the sequence - similar to the index of a book. Here the first decision needs to be made: Which k is desired? A small k improves the sensitivity, a large k decreases the computation time in the later steps. In this case we choose 3-mers."
      ],
      "metadata": {
        "id": "Dd_sKgwJl6nD"
      }
    },
    {
      "cell_type": "code",
      "source": [
        "# Create a k-mer index table from the k-mers of the reference sequence\n",
        "kmer_table = align.KmerTable.from_sequences(\n",
        "    # Use 3-mers\n",
        "    k=3,\n",
        "    # Add only the reference sequence to the table\n",
        "    sequences=[reference],\n",
        "    # The purpose of the reference ID is to identify the sequence\n",
        "    ref_ids=[0]\n",
        ")"
      ],
      "metadata": {
        "id": "j-LmF171mXB4"
      },
      "execution_count": 54,
      "outputs": []
    },
    {
      "cell_type": "markdown",
      "source": [
        "The purpose of the reference ID is to identify not only the position of a k-mer in a sequence, but also which sequence is involved, if we add multiple sequences to the table. In this case there is only a single sequence in the table, so the reference ID is arbitrary.\n",
        "\n",
        "Let’s have a deeper look under the hood: The KmerTable creates a KmerAlphabet that encodes a k-mer symbol, i.e. a tuple of k symbols from the base alphabet, into a k-mer code. Importantly, this k-mer code can be uniquely decoded back into a k-mer symbol."
      ],
      "metadata": {
        "id": "b58gD0n7meQv"
      }
    },
    {
      "cell_type": "code",
      "source": [
        "# Access the internal *k-mer* alphabet.\n",
        "kmer_alphabet = kmer_table.kmer_alphabet\n",
        "print(\"Base alphabet:\", kmer_alphabet.base_alphabet)\n",
        "print(\"k:\", kmer_alphabet.k)\n",
        "print(\"k-mer code for 'BIQ':\", kmer_alphabet.encode(\"BIQ\"))"
      ],
      "metadata": {
        "colab": {
          "base_uri": "https://localhost:8080/"
        },
        "id": "Q6-o3qGlmjFH",
        "outputId": "928fbab2-12f6-4243-c4f3-aadbf8f3cc7b"
      },
      "execution_count": 55,
      "outputs": [
        {
          "output_type": "stream",
          "name": "stdout",
          "text": [
            "Base alphabet: ['A', 'C', 'D', 'E', 'F', 'G', 'H', 'I', 'K', 'L', 'M', 'N', 'P', 'Q', 'R', 'S', 'T', 'V', 'W', 'Y', 'B', 'Z', 'X', '*']\n",
            "k: 3\n",
            "k-mer code for 'BIQ': 7676\n"
          ]
        }
      ]
    },
    {
      "cell_type": "markdown",
      "source": [
        "KmerAlphabet can encode all overlapping k-mers of a sequence."
      ],
      "metadata": {
        "id": "THUaBrvDmmGG"
      }
    },
    {
      "cell_type": "code",
      "source": [
        "kmer_codes = kmer_alphabet.create_kmers(seq.ProteinSequence(\"BIQTITE\").code)\n",
        "print(\"k-mer codes:\", kmer_codes)\n",
        "print(\"k-mers:\")\n",
        "for kmer in kmer_alphabet.decode_multiple(kmer_codes):\n",
        "    print(\"\".join(kmer))"
      ],
      "metadata": {
        "colab": {
          "base_uri": "https://localhost:8080/"
        },
        "id": "CAzU2YR9mr-t",
        "outputId": "ec3d3539-cb57-4ba3-da15-a87b6b614e85"
      },
      "execution_count": 56,
      "outputs": [
        {
          "output_type": "stream",
          "name": "stdout",
          "text": [
            "k-mer codes: [7676 9535 4429 9400 2119]\n",
            "k-mers:\n",
            "BIQ\n",
            "IQT\n",
            "QTI\n",
            "TIT\n",
            "ITE\n"
          ]
        }
      ]
    },
    {
      "cell_type": "markdown",
      "source": [
        "When the KmerTable.table is created, it uses KmerAlphabet.create_kmers() to get all k-mers in the sequence and stores for each k-mer the position(s) where the respective k-mer appears."
      ],
      "metadata": {
        "id": "uSRJxrSAmwJ-"
      }
    },
    {
      "cell_type": "code",
      "source": [
        "# Get all positions for the 'ITE' k-mer\n",
        "for ref_id, position in kmer_table[kmer_alphabet.encode(\"ITE\")]:\n",
        "    print(position)"
      ],
      "metadata": {
        "colab": {
          "base_uri": "https://localhost:8080/"
        },
        "id": "sJbucPCHm6YX",
        "outputId": "1074db68-600f-4983-a7fd-c74aa3ecd27b"
      },
      "execution_count": 57,
      "outputs": [
        {
          "output_type": "stream",
          "name": "stdout",
          "text": [
            "6\n",
            "23\n"
          ]
        }
      ]
    },
    {
      "cell_type": "markdown",
      "source": [
        "**2. Matching the query sequence**\n",
        "\n",
        "In the second step we would like to find k-mer matches of our reference KmerTable with the query sequence. A match is a k-mer that appears in both, the table and the query sequence. The KmerTable.match() method iterates over all overlapping k-mers in the query and checks whether the KmerTable has at least one position for this k-mer. If it does, it adds the position in the query and all corresponding positions saved in the KmerTable to the matches.\n",
        "\n",
        "We see that the 'ITE' of 'BIQTITE' matches the 'ITE' of 'CQLVMBITE' and 'NIQBITE'."
      ],
      "metadata": {
        "id": "eERHZdFYnAt6"
      }
    },
    {
      "cell_type": "code",
      "source": [
        "matches = kmer_table.match(query)\n",
        "# Filter out the reference ID, because we have only one sequence\n",
        "# in the table anyway\n",
        "matches = matches[:, [0,2]]\n",
        "for query_pos, ref_pos in matches:\n",
        "    print(f\"Match at query position {query_pos}, reference position {ref_pos}\")\n",
        "    # Print the reference sequence at the match position including four\n",
        "    # symbols before and after the matching k-mer\n",
        "    print(\"...\", reference[ref_pos - 4 : ref_pos + kmer_table.k + 4], \"...\")\n",
        "    print()"
      ],
      "metadata": {
        "colab": {
          "base_uri": "https://localhost:8080/"
        },
        "id": "QK71EhuMnNAB",
        "outputId": "0338be70-0a6f-4f47-8651-65fabf428597"
      },
      "execution_count": 58,
      "outputs": [
        {
          "output_type": "stream",
          "name": "stdout",
          "text": [
            "Match at query position 4, reference position 6\n",
            "... LVMBITEALSQ ...\n",
            "\n",
            "Match at query position 4, reference position 23\n",
            "... NIQBITEANDC ...\n",
            "\n"
          ]
        }
      ]
    },
    {
      "cell_type": "markdown",
      "source": [
        "**3. Alignments at the match positions**\n",
        "\n",
        "Now that we have found the match positions, we can perform an alignment restricted to each match position. Currently Biotite offers *three functions* for this purpose: [**align_local_ungapped()**](https://www.biotite-python.org/apidoc/biotite.sequence.align.align_local_ungapped.html#biotite.sequence.align.align_local_ungapped), [**align_local_gapped()**](https://www.biotite-python.org/apidoc/biotite.sequence.align.align_local_gapped.html#biotite.sequence.align.align_local_gapped) and [**align_banded()**](https://www.biotite-python.org/apidoc/biotite.sequence.align.align_banded.html#biotite.sequence.align.align_banded).\n",
        "\n",
        "**align_local_ungapped() and align_local_gapped() perform fast local alignments expanding from a given seed position, which is typically set to a match position from the previous step**. The alignment stops, if the current similarity score drops a given threshold below the maximum score already found, a technique that is also called X-Drop. While align_local_ungapped() is much faster than align_local_gapped(), it does not insert gaps into the alignment. In contrast **align_banded() performs a local or global alignment**, where the alignment space is restricted to a defined diagonal band, allowing only a certain number of insertions/deletions in each sequence.\n",
        "\n",
        "The presented methods have in common, that they ideally only traverse through a small fraction of the possible alignment space, allowing them to run much faster than align_optimal(). However they might not find the optimal alignment, if such an alignment would have an intermediate low scoring region or too many gaps in either sequence, respectively. In this tutorial we will focus on using align_banded() to perform a global alignment of our two sequences."
      ],
      "metadata": {
        "id": "smnxaXXYnYV8"
      }
    },
    {
      "cell_type": "code",
      "source": [
        "BAND_WIDTH = 4\n",
        "\n",
        "matrix = SubstitutionMatrix.std_protein_matrix()\n",
        "alignments = []\n",
        "for query_pos, ref_pos in matches:\n",
        "    diagonal = ref_pos - query_pos\n",
        "    alignment = align.align_banded(\n",
        "        query, reference, matrix, gap_penalty=-5, max_number=1,\n",
        "        # Center the band at the match diagonal and extend the band by\n",
        "        # one half of the band width in each direction\n",
        "        band=(diagonal - BAND_WIDTH//2, diagonal + BAND_WIDTH//2)\n",
        "    )[0]\n",
        "    alignments.append(alignment)\n",
        "\n",
        "for alignment in alignments:\n",
        "    print(alignment)\n",
        "    print(\"\\n\")"
      ],
      "metadata": {
        "colab": {
          "base_uri": "https://localhost:8080/"
        },
        "id": "TT_u289XvJRi",
        "outputId": "5ef8f859-ac49-476c-b789-30a18dc6a13b"
      },
      "execution_count": 59,
      "outputs": [
        {
          "output_type": "stream",
          "name": "stdout",
          "text": [
            "BIQTITE\n",
            "LVMBITE\n",
            "\n",
            "\n",
            "BIQTITE\n",
            "NIQBITE\n",
            "\n",
            "\n"
          ]
        }
      ]
    },
    {
      "cell_type": "markdown",
      "source": [
        "**4. Significance evaluation**\n",
        "\n",
        "We have obtained two alignments, but which one of them is the ‘correct’ one? in this simple example we could simply select the one with the highest similarity score, but this approach is not sound in general: A reference sequence might contain multiple regions, that are homologous to the query, or none at all. A better approach is a **statistical measure, like the BLAST E-value**. It **gives the number of alignments expected by chance with a score at least as high as the score obtained from the alignment of interest**. \n",
        "\n",
        "Hence, a value close to zero means a very significant homology. We can calculate the E-value using the **EValueEstimator**, that needs to be initialized with the same scoring scheme used for our alignments. For the sake of simplicity we choose uniform background frequencies for each symbol, but usually you would choose values that reflect the amino acid/nucleotide composition in your sequence database."
      ],
      "metadata": {
        "id": "_Oep_SehwmlR"
      }
    },
    {
      "cell_type": "code",
      "source": [
        "estimator = align.EValueEstimator.from_samples(\n",
        "    seq.ProteinSequence.alphabet, matrix, gap_penalty=-5,\n",
        "    frequencies=np.ones(len(seq.ProteinSequence.alphabet)),\n",
        "    # Trade accuracy for a lower runtime\n",
        "    sample_length=200\n",
        ")"
      ],
      "metadata": {
        "id": "XNFgtWl5xAMI"
      },
      "execution_count": 60,
      "outputs": []
    },
    {
      "cell_type": "markdown",
      "source": [
        "Now we can calculate the E-value for the alignments. Since we have aligned the query only to the reference sequence shown above, we use its length to calculate the E-value. If you have an entire sequence database you align against, you would take the total sequence length of the database instead."
      ],
      "metadata": {
        "id": "_TVPovoCxD5n"
      }
    },
    {
      "cell_type": "code",
      "source": [
        "scores = [alignment.score for alignment in alignments]\n",
        "evalues = 10 ** estimator.log_evalue(scores, len(query), len(reference))\n",
        "for alignment, evalue in zip(alignments, evalues):\n",
        "    print(f\"E-value = {evalue:.2e}\")\n",
        "    print(alignment)\n",
        "    print(\"\\n\")"
      ],
      "metadata": {
        "colab": {
          "base_uri": "https://localhost:8080/"
        },
        "id": "P3O2kvrYxH-x",
        "outputId": "1f214e74-9c9e-4d68-fded-b913995ef308"
      },
      "execution_count": 61,
      "outputs": [
        {
          "output_type": "stream",
          "name": "stdout",
          "text": [
            "E-value = 5.64e-01\n",
            "BIQTITE\n",
            "LVMBITE\n",
            "\n",
            "\n",
            "E-value = 3.57e-02\n",
            "BIQTITE\n",
            "NIQBITE\n",
            "\n",
            "\n"
          ]
        }
      ]
    },
    {
      "cell_type": "markdown",
      "source": [
        "Finally, we can see that the expected alignment of BIQTITE to NIQBITE is more significant than the unspecific match.\n",
        "\n",
        "The setup shown here is a very simple one compared to the methods popular software like BLAST use. Since the k-mer matching step is very fast and the gapped alignments take the largest part of the time, you usually want to have additional filters before you trigger a gapped alignment: Commonly a gapped alignment is only started at a match, if there is another match on the same diagonal in proximity and if a fast local ungapped alignment (seed extension) exceeds a defined threshold score. Furthermore, the parameter selection, e.g. the k-mer length, is key to a fast but also sensitive alignment procedure. However, we can find suitable parameters in literature or run benchmarks by ourself to find appropriate parameters for our application.\n",
        "\n",
        "### **Multiple sequence alignments**\n",
        "\n",
        "If we want to perform a multiple sequence alignment (MSA), have a look at the [align_multiple() function](https://www.biotite-python.org/apidoc/biotite.sequence.align.align_multiple.html#biotite.sequence.align.align_multiple):"
      ],
      "metadata": {
        "id": "PC2hXxdaxTWR"
      }
    },
    {
      "cell_type": "code",
      "source": [
        "seq1 = seq.ProteinSequence(\"BIQTITE\")\n",
        "seq2 = seq.ProteinSequence(\"TITANITE\")\n",
        "seq3 = seq.ProteinSequence(\"BISMITE\")\n",
        "seq4 = seq.ProteinSequence(\"IQLITE\")\n",
        "alignment, order, guide_tree, distance_matrix = align.align_multiple(\n",
        "    [seq1, seq2, seq3, seq4],\n",
        "    matrix=align.SubstitutionMatrix.std_protein_matrix(),\n",
        "    gap_penalty=-5,\n",
        "    terminal_penalty=False\n",
        ")\n",
        "print(alignment)"
      ],
      "metadata": {
        "colab": {
          "base_uri": "https://localhost:8080/"
        },
        "id": "JMw6h8VhyLnB",
        "outputId": "c42c4020-df16-471d-97e9-544ccb7e0240"
      },
      "execution_count": 62,
      "outputs": [
        {
          "output_type": "stream",
          "name": "stdout",
          "text": [
            "BIQT-ITE\n",
            "TITANITE\n",
            "BISM-ITE\n",
            "-IQL-ITE\n"
          ]
        }
      ]
    },
    {
      "cell_type": "markdown",
      "source": [
        "**This function is only recommended for strongly related sequences or exotic sequence types**. When high accuracy or computation time matters, other MSA programs deliver better results. External MSA software can accessed via the [biotite.application](https://www.biotite-python.org/apidoc/biotite.application.html#module-biotite.application) subpackage.\n",
        "\n",
        "### **Sequence features**\n",
        "\n",
        "Sequence features **describe functional parts of a sequence, like coding regions or regulatory parts**. One popular source to obtain information about sequence features are **GenBank** (for DNA and RNA) and **GenPept** (for peptides) files. As example for sequence features we will work with the GenBank file for the avidin gene (Accession: AJ311647), that we can download from the **NCBI Entrez database**. After downloading we can load the file using the GenBankFile class from biotite.sequence.io.genbank. Similar to the other file classes we have encountered, a [GenBankFile](https://www.biotite-python.org/apidoc/biotite.sequence.io.genbank.GenBankFile.html#biotite.sequence.io.genbank.GenBankFile) provides a low-level interface. In contrast, the [biotite.sequence.io.genbank](https://www.biotite-python.org/apidoc/biotite.sequence.io.genbank.html#module-biotite.sequence.io.genbank) module contains high-level functions to directly obtain useful objects from a GenBankFile object."
      ],
      "metadata": {
        "id": "143FPYQuyfsS"
      }
    },
    {
      "cell_type": "code",
      "source": [
        "import biotite.sequence.io.genbank as gb\n",
        "\n",
        "file_path = entrez.fetch(\n",
        "    \"AJ311647\", gettempdir(), suffix=\"gb\",\n",
        "    db_name=\"nuccore\", ret_type=\"gb\"\n",
        ")\n",
        "file = gb.GenBankFile.read(file_path)\n",
        "print(\"Accession:\", gb.get_accession(file))\n",
        "print(\"Definition:\", gb.get_definition(file))"
      ],
      "metadata": {
        "colab": {
          "base_uri": "https://localhost:8080/"
        },
        "id": "Bq9YV0T6za2L",
        "outputId": "9b07d589-69ba-4f2f-c810-f5a623d84a26"
      },
      "execution_count": 63,
      "outputs": [
        {
          "output_type": "stream",
          "name": "stdout",
          "text": [
            "Accession: AJ311647\n",
            "Definition: Gallus gallus AVD gene for avidin, exons 1-4.\n"
          ]
        }
      ]
    },
    {
      "cell_type": "markdown",
      "source": [
        "Now that we have loaded the file, we want to have a look at the sequence features. Therefore, we **grab the Annotation from the file. An annotation is the collection of features corresponding to one sequence** (the sequence itself is not included, though). This Annotation can be iterated in order to obtain single Feature objects. Each Feature contains 3 pieces of information: Its feature key (e.g. regulatory or CDS), a dictionary of qualifiers and one or multiple locations on the corresponding sequence. A Location in turn, contains its starting and its ending base/residue position, the strand it is on (only for DNA) and possible location defects (defects will be discussed later). In the next example we will print the keys of the features and their locations:"
      ],
      "metadata": {
        "id": "m7YuBmvBzhKO"
      }
    },
    {
      "cell_type": "code",
      "source": [
        "annotation = gb.get_annotation(file)\n",
        "for feature in annotation:\n",
        "    # Convert the feature locations in better readable format\n",
        "    locs = [str(loc) for loc in sorted(feature.locs, key=lambda l: l.first)]\n",
        "    print(f\"{feature.key:12}   {locs}\")"
      ],
      "metadata": {
        "colab": {
          "base_uri": "https://localhost:8080/"
        },
        "id": "YyPlExTTzjbU",
        "outputId": "b8411805-ab22-4f26-b9f6-45f974f0ff73"
      },
      "execution_count": 65,
      "outputs": [
        {
          "output_type": "stream",
          "name": "stdout",
          "text": [
            "exon           ['98-178 >']\n",
            "CDS            ['98-178 >', '263-473 >', '899-1019 >', '1107-1152 >']\n",
            "intron         ['179-262 >']\n",
            "regulatory     ['26-33 >']\n",
            "exon           ['263-473 >']\n",
            "regulatory     ['1215-1220 >']\n",
            "intron         ['1020-1106 >']\n",
            "exon           ['1107-1152 >']\n",
            "mRNA           ['98-178 >', '263-473 >', '899-1019 >', '1107-1152 >']\n",
            "intron         ['474-898 >']\n",
            "gene           ['98-1152 >']\n",
            "sig_peptide    ['98-169 >']\n",
            "exon           ['899-1019 >']\n",
            "source         ['1-1224 >']\n"
          ]
        }
      ]
    },
    {
      "cell_type": "markdown",
      "source": [
        "The '>' characters in the string representations of a location indicate that the location is on the forward strand. Most of the features have only one location, except the mRNA and CDS feature, which have 4 locations joined. When we look at the rest of the features, this makes sense: The gene has 4 exons. Therefore, the mRNA (and consequently the CDS) is composed of these exons.\n",
        "\n",
        "**TATA box**: \n",
        "\n",
        "**Poly-A signal**: d\n",
        "\n",
        "The two regulatory features are the TATA box and the poly-A signal, as the feature qualifiers make clear:"
      ],
      "metadata": {
        "id": "pSHF_hZuzsZ8"
      }
    },
    {
      "cell_type": "code",
      "source": [
        "for feature in annotation:\n",
        "    if feature.key == \"regulatory\":\n",
        "        print(feature.qual[\"regulatory_class\"])"
      ],
      "metadata": {
        "colab": {
          "base_uri": "https://localhost:8080/"
        },
        "id": "jL120i-izt76",
        "outputId": "67042b7c-3da3-48b2-e335-d9b3ea1cfd01"
      },
      "execution_count": 66,
      "outputs": [
        {
          "output_type": "stream",
          "name": "stdout",
          "text": [
            "TATA_box\n",
            "polyA_signal_sequence\n"
          ]
        }
      ]
    },
    {
      "cell_type": "markdown",
      "source": [
        "Similarily to Alignment objects, we can visualize an Annotation using the [biotite.sequence.graphics subpackage](https://www.biotite-python.org/apidoc/biotite.sequence.graphics.html#module-biotite.sequence.graphics), in a so called feature map. In order to avoid overlaping features, we draw only the CDS feature."
      ],
      "metadata": {
        "id": "pkVhf4cEzxip"
      }
    },
    {
      "cell_type": "code",
      "source": [
        "# Get the range of the entire annotation via the *source* feature\n",
        "for feature in annotation:\n",
        "    if feature.key == \"source\":\n",
        "        # loc_range has exclusive stop\n",
        "        loc = list(feature.locs)[0]\n",
        "        loc_range = (loc.first, loc.last+1)\n",
        "fig, ax = plt.subplots(figsize=(8.0, 1.0))\n",
        "graphics.plot_feature_map(\n",
        "    ax,\n",
        "    seq.Annotation(\n",
        "        [feature for feature in annotation if feature.key == \"CDS\"]\n",
        "    ),\n",
        "    multi_line=False,\n",
        "    loc_range=loc_range,\n",
        "    show_line_position=True\n",
        ")\n",
        "fig.tight_layout()"
      ],
      "metadata": {
        "colab": {
          "base_uri": "https://localhost:8080/",
          "height": 81
        },
        "id": "sPNVmGMPzzw4",
        "outputId": "a55c47e4-9b2b-457e-9cab-6def0cccb1d2"
      },
      "execution_count": 67,
      "outputs": [
        {
          "output_type": "display_data",
          "data": {
            "text/plain": [
              "<Figure size 576x72 with 1 Axes>"
            ],
            "image/png": "[encoded data removed]"
          },
          "metadata": {
            "needs_background": "light"
          }
        }
      ]
    },
    {
      "cell_type": "markdown",
      "source": [
        "Annotation objects can be indexed with slices, that represent the start and the exclusive stop base/residue of the annotation from which the subannotation is created. All features, that are not in this range, are not included in the subannotation. In order to demonstrate this indexing method, we create a subannotation that includes only features in range of the gene itself (without the regulatory stuff)."
      ],
      "metadata": {
        "id": "jFV8y4VQ4fQt"
      }
    },
    {
      "cell_type": "code",
      "source": [
        "# At first we have the find the feature with the 'gene' key\n",
        "for feature in annotation:\n",
        "    if feature.key == \"gene\":\n",
        "        gene_feature = feature\n",
        "# Then we create a subannotation from the feature's location\n",
        "# Since the stop value of the slice is still exclusive,\n",
        "# the stop value is the position of the last base +1\n",
        "loc = list(gene_feature.locs)[0]\n",
        "sub_annot = annotation[loc.first : loc.last +1]\n",
        "# Print the remaining features and their locations\n",
        "for feature in sub_annot:\n",
        "    locs = [str(loc) for loc in sorted(feature.locs, key=lambda l: l.first)]\n",
        "    print(f\"{feature.key:12}   {locs}\")"
      ],
      "metadata": {
        "colab": {
          "base_uri": "https://localhost:8080/"
        },
        "id": "3LX-lPlP4jTP",
        "outputId": "d692342b-863c-4c93-af4e-7054bdb3388e"
      },
      "execution_count": 68,
      "outputs": [
        {
          "output_type": "stream",
          "name": "stdout",
          "text": [
            "exon           ['98-178 >']\n",
            "CDS            ['98-178 >', '263-473 >', '899-1019 >', '1107-1152 >']\n",
            "intron         ['179-262 >']\n",
            "exon           ['263-473 >']\n",
            "intron         ['1020-1106 >']\n",
            "exon           ['1107-1152 >']\n",
            "mRNA           ['98-178 >', '263-473 >', '899-1019 >', '1107-1152 >']\n",
            "intron         ['474-898 >']\n",
            "gene           ['98-1152 >']\n",
            "sig_peptide    ['98-169 >']\n",
            "exon           ['899-1019 >']\n",
            "source         ['98-1152 >']\n"
          ]
        }
      ]
    },
    {
      "cell_type": "markdown",
      "source": [
        "The regulatory sequences have disappeared in the subannotation. Another interesting thing happened: The location of the source` feature narrowed and is in range of the slice now. This happened, because the feature was truncated: The bases that were not in range of the slice were removed.\n",
        "\n",
        "Let’s have a closer look into location defects now: A Location instance has a defect, when the feature itself is not directly located in the range of the first to the last base, for example when the exact postion is not known or, as in our case, a part of the feature was truncated. Let’s have a closer look at the location defects of our subannotation:"
      ],
      "metadata": {
        "id": "_3vRUbTJ4n0y"
      }
    },
    {
      "cell_type": "code",
      "source": [
        "for feature in sub_annot:\n",
        "    defects = [str(location.defect) for location\n",
        "               in sorted(feature.locs, key=lambda l: l.first)]\n",
        "    print(f\"{feature.key:12}   {defects}\")"
      ],
      "metadata": {
        "colab": {
          "base_uri": "https://localhost:8080/"
        },
        "id": "KI9BmNx04tHP",
        "outputId": "31aaa170-500f-487f-d0f2-3feed93dff86"
      },
      "execution_count": 69,
      "outputs": [
        {
          "output_type": "stream",
          "name": "stdout",
          "text": [
            "exon           ['Defect.NONE']\n",
            "CDS            ['Defect.NONE', 'Defect.NONE', 'Defect.NONE', 'Defect.NONE']\n",
            "intron         ['Defect.NONE']\n",
            "exon           ['Defect.NONE']\n",
            "intron         ['Defect.NONE']\n",
            "exon           ['Defect.NONE']\n",
            "mRNA           ['Defect.BEYOND_LEFT', 'Defect.NONE', 'Defect.NONE', 'Defect.BEYOND_RIGHT']\n",
            "intron         ['Defect.NONE']\n",
            "gene           ['Defect.BEYOND_RIGHT|BEYOND_LEFT']\n",
            "sig_peptide    ['Defect.NONE']\n",
            "exon           ['Defect.NONE']\n",
            "source         ['Defect.MISS_RIGHT|MISS_LEFT']\n"
          ]
        }
      ]
    },
    {
      "cell_type": "markdown",
      "source": [
        "The class [Location.Defect](https://www.biotite-python.org/apidoc/biotite.sequence.Location.html#biotite.sequence.Location.Defect) is a Flag. This means that multiple defects can be combined to one value. NONE means that the location has no defect, which is true for most of the features. The source feature has a defect - a combination of MISS_LEFT and MISS_RIGHT. MISS_LEFT is applied, if a feature was truncated before the first base, and MISS_RIGHT is applied, if a feature was truncated after the last base. Since source` was truncated from both sides, the combination is applied. gene has the defect values BEYOND_LEFT and BEYOND_RIGHT. These defects already appear in the GenBank file, since the gene is defined as the unit that is transcribed into one (pre-)mRNA. As the transcription starts somewhere before the start of the coding region and the exact start location is not known, BEYOND_LEFT is applied. In an analogous way, the transcription does stop somewhere after the coding region (at the terminator signal). Hence, BEYOND_RIGHT is applied. These two defects are also reflected in the mRNA feature.\n",
        "\n",
        "### **Annotated sequences**\n",
        "\n",
        "An [AnnotatedSequence](https://www.biotite-python.org/apidoc/biotite.sequence.AnnotatedSequence.html#biotite.sequence.AnnotatedSequence) is like an annotation, but the sequence is included this time. Since our *GenBank file* contains the sequence corresponding to the feature table, we can directly obtain the AnnotatedSequence."
      ],
      "metadata": {
        "id": "FhOcBN5a4yts"
      }
    },
    {
      "cell_type": "code",
      "source": [
        "annot_seq = gb.get_annotated_sequence(file)\n",
        "print(\"Same annotation as before?\", (annotation == annot_seq.annotation))\n",
        "print(annot_seq.sequence[:60], \"...\")"
      ],
      "metadata": {
        "colab": {
          "base_uri": "https://localhost:8080/"
        },
        "id": "-ySXE9Du5eqT",
        "outputId": "ec185754-da51-4c39-b3b6-7f6dc3cba072"
      },
      "execution_count": 70,
      "outputs": [
        {
          "output_type": "stream",
          "name": "stdout",
          "text": [
            "Same annotation as before? True\n",
            "ACTGGGCAGAGTCAGTGCTGGAAGCAATMAAAAGGCGAGGGAGCAGGCAGGGGTGAGTCC ...\n"
          ]
        }
      ]
    },
    {
      "cell_type": "markdown",
      "source": [
        "When indexing an AnnotatedSequence with a slice, the index is applied to the [Annotation](https://www.biotite-python.org/apidoc/biotite.sequence.Annotation.html#biotite.sequence.Annotation) and the [Sequence](https://www.biotite-python.org/apidoc/biotite.sequence.Sequence.html#biotite.sequence.Sequence). While the Annotation handles the index as shown before, the Sequence is indexed based on the sequence start value (usually 1)."
      ],
      "metadata": {
        "id": "gzWPkqk_5gl3"
      }
    },
    {
      "cell_type": "code",
      "source": [
        "print(\"Sequence start before indexing:\", annot_seq.sequence_start)\n",
        "for feature in annot_seq.annotation:\n",
        "    if feature.key == \"regulatory\" \\\n",
        "        and feature.qual[\"regulatory_class\"] == \"polyA_signal_sequence\":\n",
        "            polya_feature = feature\n",
        "loc = list(polya_feature.locs)[0]\n",
        "# Get annotated sequence containing only the poly-A signal region\n",
        "poly_a = annot_seq[loc.first : loc.last +1]\n",
        "print(\"Sequence start after indexing:\", poly_a.sequence_start)\n",
        "print(poly_a.sequence)"
      ],
      "metadata": {
        "colab": {
          "base_uri": "https://localhost:8080/"
        },
        "id": "QDQ-cknZ59a5",
        "outputId": "ce3a99fe-c1ee-4605-feac-9d52db2dc270"
      },
      "execution_count": 71,
      "outputs": [
        {
          "output_type": "stream",
          "name": "stdout",
          "text": [
            "Sequence start before indexing: 1\n",
            "Sequence start after indexing: 1215\n",
            "AATAAA\n"
          ]
        }
      ]
    },
    {
      "cell_type": "markdown",
      "source": [
        "Here we get the poly-A signal Sequence 'AATAAA'. Observe the sequence start has shifted to the start of the slice index (the first base of the regulatory feature).\n",
        "\n",
        "**Note**: Since AnnotatedSequence objects use base position indices and Sequence objects use array position indices, you will get different results for annot_seq[n:m].sequence and annot_seq.sequence[n:m].\n",
        "\n",
        "There is also a convenient way to obtain the sequence corresponding to a feature, even if the feature contains multiple locations or a location is on the reverse strand: Simply use a [Feature](https://www.biotite-python.org/apidoc/biotite.sequence.Feature.html#biotite.sequence.Feature) object (in this case the [CDS feature](https://www.ddbj.nig.ac.jp/ddbj/cds-e.html)) as index.\n",
        "\n",
        "**CDS Feature**: Most protein sequences are derived from translations of [CoDing Sequence (CDS)](https://www.uniprot.org/help/cds_protein_definition) derived from gene predictions. A CoDing Sequence (CDS) is a region of DNA or RNA whose sequence determines the sequence of amino acids in a protein. "
      ],
      "metadata": {
        "id": "ocU2osi86BI5"
      }
    },
    {
      "cell_type": "code",
      "source": [
        "for feature in annot_seq.annotation:\n",
        "    if feature.key == \"CDS\":\n",
        "        cds_feature = feature\n",
        "cds_seq = annot_seq[cds_feature]\n",
        "print(cds_seq[:60], \"...\")"
      ],
      "metadata": {
        "colab": {
          "base_uri": "https://localhost:8080/"
        },
        "id": "XU1tNm366JVU",
        "outputId": "f9e1a481-2363-40bc-b6d1-38861c216db7"
      },
      "execution_count": 72,
      "outputs": [
        {
          "output_type": "stream",
          "name": "stdout",
          "text": [
            "ATGGTGCACGCAACCTCCCCGCTGCTGCTGCTGCTGCTGCTCAGCCTGGCTCTGGTGGCT ...\n"
          ]
        }
      ]
    },
    {
      "cell_type": "markdown",
      "source": [
        "Now we can translate the sequence and compare it with the translation given by the CDS feature. But before we can do that, we have to prepare the data: The DNA sequence uses an ambiguous alphabet due to the nasty 'M' at position 28 of the original sequence, we have to remove the stop symbol after translation and we need to remove the whitespace characters in the translation given by the CDS feature."
      ],
      "metadata": {
        "id": "pZPPQJeY6y6M"
      }
    },
    {
      "cell_type": "code",
      "source": [
        "# To make alphabet unambiguous we create a new NucleotideSequence\n",
        "# containing only the CDS portion, which is unambiguous\n",
        "# Thus, the resulting NucleotideSequence has an unambiguous alphabet\n",
        "cds_seq = seq.NucleotideSequence(cds_seq)\n",
        "# Now we can translate the unambiguous sequence.\n",
        "prot_seq = cds_seq.translate(complete=True)\n",
        "print(prot_seq[:60], \"...\")\n",
        "print(\n",
        "    \"Are the translated sequences equal?\",\n",
        "    # Remove stops of our translation\n",
        "    (str(prot_seq.remove_stops()) ==\n",
        "    # Remove whitespace characters from translation given by CDS feature\n",
        "    cds_feature.qual[\"translation\"].replace(\" \", \"\"))\n",
        ")"
      ],
      "metadata": {
        "colab": {
          "base_uri": "https://localhost:8080/"
        },
        "id": "4UBeKCJt6--2",
        "outputId": "94c3db68-5c9f-4f19-9f9e-0d8cbece52c2"
      },
      "execution_count": 73,
      "outputs": [
        {
          "output_type": "stream",
          "name": "stdout",
          "text": [
            "MVHATSPLLLLLLLSLALVAPGLSARKCSLTGKWDNDLGSNMTIGAVNSKGEFTGTYTTA ...\n",
            "Are the translated sequences equal? True\n"
          ]
        }
      ]
    },
    {
      "cell_type": "markdown",
      "source": [
        "### **Phylogenetic and guide trees**\n",
        "\n",
        "Trees have an important role in bioinformatics, as they are used to guide multiple sequence alignments or to create phylogenies.\n",
        "\n",
        "In Biotite such a tree is represented by the [Tree](https://www.biotite-python.org/apidoc/biotite.sequence.phylo.Tree.html#biotite.sequence.phylo.Tree) class in the [biotite.sequence.phylo](https://www.biotite-python.org/apidoc/biotite.sequence.phylo.html#module-biotite.sequence.phylo) package. A tree is rooted, that means each tree node has at least one child, or none in case of leaf nodes. Each node in a tree is represented by a [TreeNode](https://www.biotite-python.org/apidoc/biotite.sequence.phylo.TreeNode.html#biotite.sequence.phylo.TreeNode). When a TreeNode is created, you have to provide either child nodes and their distances to this node (intermediate node) or a reference index (leaf node). This reference index is dependent on the context and can refer to anything: sequences, organisms, etc.\n",
        "\n",
        "The childs and the reference index cannot be changed after object creation. Also the parent can only be set once - when the node is used as child in the creation of a new node."
      ],
      "metadata": {
        "id": "0XilwOYk8mCE"
      }
    },
    {
      "cell_type": "code",
      "source": [
        "import biotite.sequence.phylo as phylo\n",
        "\n",
        "# The reference objects\n",
        "fruits = [\"Apple\", \"Pear\", \"Orange\", \"Lemon\", \"Banana\"]\n",
        "# Create nodes\n",
        "apple  = phylo.TreeNode(index=fruits.index(\"Apple\"))\n",
        "pear   = phylo.TreeNode(index=fruits.index(\"Pear\"))\n",
        "orange = phylo.TreeNode(index=fruits.index(\"Orange\"))\n",
        "lemon  = phylo.TreeNode(index=fruits.index(\"Lemon\"))\n",
        "banana = phylo.TreeNode(index=fruits.index(\"Banana\"))\n",
        "intermediate1 = phylo.TreeNode(\n",
        "    children=(apple, pear), distances=(2.0, 2.0)\n",
        ")\n",
        "intermediate2 = phylo.TreeNode((orange, lemon), (1.0, 1.0))\n",
        "intermediate3 = phylo.TreeNode((intermediate2, banana), (2.0, 3.0))\n",
        "root = phylo.TreeNode((intermediate1, intermediate3), (2.0, 1.0))\n",
        "# Create tree from root node\n",
        "tree = phylo.Tree(root=root)\n",
        "# Trees can be converted into Newick notation\n",
        "print(\"Tree:\", tree.to_newick(labels=fruits))\n",
        "# Distances can be omitted\n",
        "print(\n",
        "    \"Tree w/o distances:\",\n",
        "    tree.to_newick(labels=fruits, include_distance=False)\n",
        ")\n",
        "# Distances can be measured\n",
        "distance = tree.get_distance(fruits.index(\"Apple\"), fruits.index(\"Banana\"))\n",
        "print(\"Distance Apple-Banana:\", distance)"
      ],
      "metadata": {
        "colab": {
          "base_uri": "https://localhost:8080/"
        },
        "id": "dXmYeemU9Rt_",
        "outputId": "65c0152c-e15f-49c8-f4ff-3ce7ee64ab47"
      },
      "execution_count": 74,
      "outputs": [
        {
          "output_type": "stream",
          "name": "stdout",
          "text": [
            "Tree: ((Apple:2.0,Pear:2.0):2.0,((Orange:1.0,Lemon:1.0):2.0,Banana:3.0):1.0):0.0;\n",
            "Tree w/o distances: ((Apple,Pear),((Orange,Lemon),Banana));\n",
            "Distance Apple-Banana: 8.0\n"
          ]
        }
      ]
    },
    {
      "cell_type": "markdown",
      "source": [
        "Plot a tree as dendrogram"
      ],
      "metadata": {
        "id": "5t3bY4OA9UEM"
      }
    },
    {
      "cell_type": "code",
      "source": [
        "fig, ax = plt.subplots(figsize=(6.0, 6.0))\n",
        "graphics.plot_dendrogram(ax, tree, labels=fruits)\n",
        "fig.tight_layout()"
      ],
      "metadata": {
        "colab": {
          "base_uri": "https://localhost:8080/",
          "height": 441
        },
        "id": "EDSCVGO39Zd1",
        "outputId": "f77a6f2e-a9bc-4b3f-aa0d-5279ba77cf02"
      },
      "execution_count": 75,
      "outputs": [
        {
          "output_type": "display_data",
          "data": {
            "text/plain": [
              "<Figure size 432x432 with 1 Axes>"
            ],
            "image/png": "[encoded data removed]"
          },
          "metadata": {
            "needs_background": "light"
          }
        }
      ]
    },
    {
      "cell_type": "markdown",
      "source": [
        "**From distances to trees**: When we want to create a Tree from distances obtained for example from sequence alignments, we can use the **UPGMA or neighbour joining algorithm**."
      ],
      "metadata": {
        "id": "UkDjTrAp9dsP"
      }
    },
    {
      "cell_type": "code",
      "source": [
        "distances = np.array([\n",
        "    [ 0, 17, 21, 31, 23],\n",
        "    [17, 0,  30, 34, 21],\n",
        "    [21, 30, 0,  28, 39],\n",
        "    [31, 34, 28,  0, 43],\n",
        "    [23, 21, 39, 43,  0]\n",
        "])\n",
        "tree = phylo.upgma(distances)\n",
        "fig, ax = plt.subplots(figsize=(6.0, 3.0))\n",
        "graphics.plot_dendrogram(ax, tree, orientation=\"top\")\n",
        "fig.tight_layout()"
      ],
      "metadata": {
        "colab": {
          "base_uri": "https://localhost:8080/",
          "height": 225
        },
        "id": "sDQ4iPfQ9pcf",
        "outputId": "6f56aef3-3707-4451-ffc5-7c308fcd66b8"
      },
      "execution_count": 76,
      "outputs": [
        {
          "output_type": "display_data",
          "data": {
            "text/plain": [
              "<Figure size 432x216 with 1 Axes>"
            ],
            "image/png": "[encoded data removed]"
          },
          "metadata": {
            "needs_background": "light"
          }
        }
      ]
    },
    {
      "cell_type": "markdown",
      "source": [
        "### **3. Structure Subpackage**\n",
        "\n",
        "[biotite.structure](https://www.biotite-python.org/apidoc/biotite.structure.html#module-biotite.structure) is a Biotite subpackage for handling molecular structures - enabling 3D visualisations. This subpackage enables efficient and easy handling of protein structure data by representing atom attributes in NumPy ndarray objects. These atom attributes include so called annotations (polypetide chain id, residue id, residue name, hetero residue information, atom name, element, etc.) and the atom coordinates.\n",
        "\n",
        "The package contains three central types: [Atom](https://www.biotite-python.org/apidoc/biotite.structure.Atom.html#biotite.structure.Atom), [AtomArray](https://www.biotite-python.org/apidoc/biotite.structure.AtomArray.html#biotite.structure.AtomArray) and [AtomArrayStack](https://www.biotite-python.org/apidoc/biotite.structure.AtomArrayStack.html#biotite.structure.AtomArrayStack). An Atom contains data for a single atom, an AtomArray stores data for an entire model and AtomArrayStack stores data for multiple models, where each model contains the same atoms but differs in the atom coordinates. Both, AtomArray and AtomArrayStack, store the attributes in NumPy arrays. This approach has multiple advantages:\n",
        "\n",
        "1. Convenient selection of atoms in a structure by using NumPy style indexing\n",
        "2. Fast calculations on structures using C-accelerated ndarray operations\n",
        "3. Simple implementation of custom calculations\n",
        "\n",
        "Based on the implementation using **ndarray** objects, this package also contains functions for structure analysis and manipulation.\n",
        "\n",
        "**Note**: The universal length unit in Biotite is Å. This includes coordinates, distances, surface areas, etc.\n",
        "\n",
        "####**Creating structures**\n",
        "\n",
        "Let’s begin by constructing some atoms:"
      ],
      "metadata": {
        "id": "MvzqdAZt-9FP"
      }
    },
    {
      "cell_type": "code",
      "source": [
        "import biotite.structure as struc\n",
        "\n",
        "atom1 = struc.Atom([0,0,0], chain_id=\"A\", res_id=1, res_name=\"GLY\",\n",
        "                   atom_name=\"N\", element=\"N\")\n",
        "atom2 = struc.Atom([0,1,1], chain_id=\"A\", res_id=1, res_name=\"GLY\",\n",
        "                   atom_name=\"CA\", element=\"C\")\n",
        "atom3 = struc.Atom([0,0,2], chain_id=\"A\", res_id=1, res_name=\"GLY\",\n",
        "                   atom_name=\"C\", element=\"C\")"
      ],
      "metadata": {
        "id": "-EvNTomo_4rL"
      },
      "execution_count": 77,
      "outputs": []
    },
    {
      "cell_type": "markdown",
      "source": [
        "The first parameter are the coordinates (internally converted into an ndarray), the other parameters are annotations. The annotations shown in this example are mandatory: The **chain ID, residue ID, residue name, insertion code, atom name, element** and **whether the atom is not in protein/nucleotide chain (hetero)**. If you miss one of these, they will get a default value. The mandatory annotation categories are originated in ATOM and HETATM records in the PDB format. The **description of each annotation can be viewed in the API reference**. Additionally, we can specify an arbitrary amount of custom annotations, like B-factors, charge, etc. In most cases we won’t work with Atom instances and in even fewer cases Atom instances are created as it is done in the above example.\n",
        "\n",
        "If we want to work with an entire molecular structure, containing an arbitrary amount of atoms, we have to use so called atom arrays. An atom array can be seen as an array of atom instances (hence the name). But instead of storing Atom instances in a list, an AtomArray instance contains one ndarray for each annotation and the coordinates. In order to see this in action, we first have to create an array from the atoms we constructed before. Then we can access the annotations and coordinates of the atom array simply by specifying the attribute."
      ],
      "metadata": {
        "id": "v-9_1g8qAIm0"
      }
    },
    {
      "cell_type": "code",
      "source": [
        "import numpy as np\n",
        "\n",
        "array = struc.array([atom1, atom2, atom3])\n",
        "print(\"Chain ID:\", array.chain_id)\n",
        "print(\"Residue ID:\", array.res_id)\n",
        "print(\"Atom name:\", array.atom_name)\n",
        "print(\"Coordinates:\", array.coord)\n",
        "print()\n",
        "print(array)"
      ],
      "metadata": {
        "colab": {
          "base_uri": "https://localhost:8080/"
        },
        "id": "qaH_PGw1AgyI",
        "outputId": "57b30b4c-1640-422b-c232-cad73f4e81fb"
      },
      "execution_count": 78,
      "outputs": [
        {
          "output_type": "stream",
          "name": "stdout",
          "text": [
            "Chain ID: ['A' 'A' 'A']\n",
            "Residue ID: [1 1 1]\n",
            "Atom name: ['N' 'CA' 'C']\n",
            "Coordinates: [[0. 0. 0.]\n",
            " [0. 1. 1.]\n",
            " [0. 0. 2.]]\n",
            "\n",
            "    A       1  GLY N      N         0.000    0.000    0.000\n",
            "    A       1  GLY CA     C         0.000    1.000    1.000\n",
            "    A       1  GLY C      C         0.000    0.000    2.000\n"
          ]
        }
      ]
    },
    {
      "cell_type": "markdown",
      "source": [
        "The array() builder function takes any iterable object containing Atom instances. If we wanted to, we could use another AtomArray, which functions also as an iterable object of Atom objects. An alternative way of constructing an array would be creating an AtomArray by using its constructor, which fills the annotation arrays and coordinates with the type respective zero value. In our example all annotation arrays have a length of 3, since we used 3 atoms to create it. A structure containing n atoms is represented by annotation arrays of length n and coordinates of shape (n,3). As the annotations and coordinates are simply ndarray objects, they can be edited in the same manner."
      ],
      "metadata": {
        "id": "hz48e7PjAkon"
      }
    },
    {
      "cell_type": "code",
      "source": [
        "array.chain_id[:] = \"B\"\n",
        "array.coord[array.element == \"C\", 0] = 42\n",
        "# It is also possible to replace an entire annotation with another array\n",
        "array.res_id = np.array([1,2,3])\n",
        "print(array)"
      ],
      "metadata": {
        "colab": {
          "base_uri": "https://localhost:8080/"
        },
        "id": "PHDToA12AxYv",
        "outputId": "2b3c4aee-ac67-4b26-9171-8c6987f748fb"
      },
      "execution_count": 79,
      "outputs": [
        {
          "output_type": "stream",
          "name": "stdout",
          "text": [
            "    B       1  GLY N      N         0.000    0.000    0.000\n",
            "    B       2  GLY CA     C        42.000    1.000    1.000\n",
            "    B       3  GLY C      C        42.000    0.000    2.000\n"
          ]
        }
      ]
    },
    {
      "cell_type": "markdown",
      "source": [
        "####**Loading structures from files**\n",
        "\n",
        "Usually structures are not built from scratch, but they are read from a file. Probably the most popular structure file format is the PDB format. For our purpose, we will work on a protein structure as small as possible, namely the miniprotein TC5b (PDB: 1L2Y). The structure of this 20-residue protein (304 atoms) has been elucidated via NMR. Thus, the corresponding PDB file consists of multiple (namely 38) models, each showing another conformation.\n",
        "\n",
        "At first we load the structure from a [PDB file](https://www.biotite-python.org/apidoc/biotite.structure.io.pdb.PDBFile.html#biotite.structure.io.pdb.PDBFile) via the class PDBFile in the subpackage [biotite.structure.io.pdb](https://www.biotite-python.org/apidoc/biotite.structure.io.pdb.html#module-biotite.structure.io.pdb)."
      ],
      "metadata": {
        "id": "UwAYOnqyBGB0"
      }
    },
    {
      "cell_type": "code",
      "source": [
        "from tempfile import gettempdir, NamedTemporaryFile\n",
        "import biotite.structure.io.pdb as pdb\n",
        "import biotite.database.rcsb as rcsb\n",
        "\n",
        "pdb_file_path = rcsb.fetch(\"1l2y\", \"pdb\", gettempdir())\n",
        "pdb_file = pdb.PDBFile.read(pdb_file_path)\n",
        "tc5b = pdb_file.get_structure()\n",
        "print(type(tc5b).__name__)\n",
        "print(tc5b.stack_depth())\n",
        "print(tc5b.array_length())\n",
        "print(tc5b.shape)"
      ],
      "metadata": {
        "colab": {
          "base_uri": "https://localhost:8080/"
        },
        "id": "P-kUxuxzBa8y",
        "outputId": "6813fd71-f60e-4371-a58a-0a44966e8cca"
      },
      "execution_count": 80,
      "outputs": [
        {
          "output_type": "stream",
          "name": "stdout",
          "text": [
            "AtomArrayStack\n",
            "38\n",
            "304\n",
            "(38, 304)\n"
          ]
        }
      ]
    },
    {
      "cell_type": "markdown",
      "source": [
        "The method [PDBFile.get_structure()](https://www.biotite-python.org/apidoc/biotite.structure.io.pdb.PDBFile.html#biotite.structure.io.pdb.PDBFile.get_structure) returns an atom array stack unless the model parameter is specified, even if the file contains only one model. Alternatively, the module level function [get_structure()](https://www.biotite-python.org/apidoc/biotite.structure.io.pdb.get_structure.html#biotite.structure.io.pdb.get_structure) can be used. The following example shows how to write an atom array or stack back into a PDB file:"
      ],
      "metadata": {
        "id": "E3AkhL4gBf9k"
      }
    },
    {
      "cell_type": "code",
      "source": [
        "pdb_file = pdb.PDBFile()\n",
        "pdb_file.set_structure(tc5b)\n",
        "temp_file = NamedTemporaryFile(suffix=\".pdb\", delete=False)\n",
        "pdb_file.write(temp_file.name)\n",
        "temp_file.close()"
      ],
      "metadata": {
        "id": "mF676SdvBzy-"
      },
      "execution_count": 81,
      "outputs": []
    },
    {
      "cell_type": "markdown",
      "source": [
        "It is **recommended to use the modern PDBx/mmCIF format** in favor of the PDB format. It solves limitations of the PDB format, that arise from the column restrictions. Furthermore, much more additional information is stored in these files.\n",
        "\n",
        "In contrast to PDB files, **Biotite can read the entire content of PDBx/mmCIF files**, which can be accessed in a dictionary like manner. At first, we read the file similarily to before, but this time we use the PDBxFile class.\n",
        "\n",
        "**Crystallographic Information File [(CIF)](https://www.ccdc.cam.ac.uk/Community/depositastructure/cifsyntax/)**: is the standard format for storing crystallographic structural data. CIF information has a specific structure or format that needs to be followed to allow crystallographic programs to read the file.   "
      ],
      "metadata": {
        "id": "9awcfd6RB1PJ"
      }
    },
    {
      "cell_type": "code",
      "source": [
        "import biotite.structure.io.pdbx as pdbx\n",
        "\n",
        "cif_file_path = rcsb.fetch(\"1l2y\", \"cif\", gettempdir())\n",
        "cif_file = pdbx.PDBxFile.read(cif_file_path)"
      ],
      "metadata": {
        "id": "bioehkzTB_mt"
      },
      "execution_count": 82,
      "outputs": []
    },
    {
      "cell_type": "markdown",
      "source": [
        "Now we can access the data like a dictionary of dictionaries."
      ],
      "metadata": {
        "id": "mZQ0Q1DDCC_8"
      }
    },
    {
      "cell_type": "code",
      "source": [
        "print(cif_file[\"1L2Y\", \"audit_author\"][\"name\"])"
      ],
      "metadata": {
        "colab": {
          "base_uri": "https://localhost:8080/"
        },
        "id": "-099EV1xCGcp",
        "outputId": "2a03c806-b3b1-476f-dccd-8454b87515e6"
      },
      "execution_count": 83,
      "outputs": [
        {
          "output_type": "stream",
          "name": "stdout",
          "text": [
            "['Neidigh, J.W.' 'Fesinmeyer, R.M.' 'Andersen, N.H.']\n"
          ]
        }
      ]
    },
    {
      "cell_type": "markdown",
      "source": [
        "The first index contains the data block and the category name. The data block could be omitted, since there is only one block in the file. This returns a dictionary. If the category is in a loop_ category, i.e. the category’s fields have a list of values, like in this case, the dictionary contains ndarray objects of type string as values, otherwise the dictionary contains strings directly. The second index specifies the name of the subcategory, which is used as key in this dictionary and returns the corresponding ndarray. Setting/adding a category in the file is done in a similar way:"
      ],
      "metadata": {
        "id": "yUMrLdWICJ6R"
      }
    },
    {
      "cell_type": "code",
      "source": [
        "cif_file[\"audit_author\"] = {\n",
        "    \"name\" : [\"Doe, Jane\", \"Doe, John\"],\n",
        "    \"pdbx_ordinal\" : [\"1\",\"2\"]\n",
        "}"
      ],
      "metadata": {
        "id": "nlZk39X_DhpS"
      },
      "execution_count": 84,
      "outputs": []
    },
    {
      "cell_type": "markdown",
      "source": [
        "In most applications only the structure itself (stored in the atom_site category) is relevant. [get_structure()](https://www.biotite-python.org/apidoc/biotite.structure.io.pdbx.get_structure.html#biotite.structure.io.pdbx.get_structure) and [set_structure()](https://www.biotite-python.org/apidoc/biotite.structure.io.pdbx.set_structure.html#biotite.structure.io.pdbx.set_structure) are convenience functions that are used to convert the atom_site category into an atom array (stack) and vice versa."
      ],
      "metadata": {
        "id": "JJtpjJDUDpEv"
      }
    },
    {
      "cell_type": "code",
      "source": [
        "tc5b = pdbx.get_structure(cif_file)\n",
        "# Do some fancy stuff\n",
        "pdbx.set_structure(cif_file, tc5b)"
      ],
      "metadata": {
        "id": "R7SP-uPMD_Vw"
      },
      "execution_count": 85,
      "outputs": []
    },
    {
      "cell_type": "markdown",
      "source": [
        "get_structure() creates automatically an AtomArrayStack, even if the file actually contains only a single model. If we like to have an AtomArray instead, we have to specifiy the model parameter.\n",
        "\n",
        "If we **want to parse a large batch of structure files or we have to load very large structure files, the usage of PDB or mmCIF files might be too slow** for our requirements. In this case might want to use **MMTF files**. \n",
        "\n",
        "MMTF files describe structures just like PDB and mmCIF files, but they are binary. This circumstance increases the downloading and parsing speed by several multiples. The usage is similar to PDBxFile: The MMTFFile class decodes the file and makes it raw information accessible. Via get_structure() the data can be loaded into an atom array (stack) and set_structure() is used to save it back into a MMTF file."
      ],
      "metadata": {
        "id": "8sVVCWnrEBuS"
      }
    },
    {
      "cell_type": "code",
      "source": [
        "import numpy as np\n",
        "import biotite.structure.io.mmtf as mmtf\n",
        "\n",
        "mmtf_file_path = rcsb.fetch(\"1l2y\", \"mmtf\", gettempdir())\n",
        "mmtf_file = mmtf.MMTFFile.read(mmtf_file_path)\n",
        "stack = mmtf.get_structure(mmtf_file)\n",
        "array = mmtf.get_structure(mmtf_file, model=1)\n",
        "# Do some fancy stuff\n",
        "mmtf.set_structure(mmtf_file, array)"
      ],
      "metadata": {
        "id": "kBvUA_SXEjUE"
      },
      "execution_count": 86,
      "outputs": []
    },
    {
      "cell_type": "markdown",
      "source": [
        "A more low level access to MMTF files is also possible: **An MMTF file is structured as dictionary, with each key being a structural feature like the coordinates, the residue ID or the secondary structure**. Most of the fields are encoded to reduce to size of the file, but the whole decoding process is handled automatically by the MMTFFile class: If a field is encoded the decoded ndarray is returned, otherwise the value is directly returned. A list of all MMTF fields (keys) can be found in the specification. The implementation of MMTFFile decodes the encoded fields only when we need them, so no computation time is wasted on fields we are not interested in."
      ],
      "metadata": {
        "id": "xqYzXm2vEl9l"
      }
    },
    {
      "cell_type": "code",
      "source": [
        "# Field is not encoded\n",
        "print(mmtf_file[\"title\"])\n",
        "# Field is encoded and is automatically decoded\n",
        "print(mmtf_file[\"groupIdList\"])"
      ],
      "metadata": {
        "colab": {
          "base_uri": "https://localhost:8080/"
        },
        "id": "sakGCqlWEyse",
        "outputId": "03aab3af-6834-4ee9-b1cc-4cbdbaef8fe5"
      },
      "execution_count": 87,
      "outputs": [
        {
          "output_type": "stream",
          "name": "stdout",
          "text": [
            "NMR Structure of Trp-Cage Miniprotein Construct TC5b\n",
            "[ 1  2  3  4  5  6  7  8  9 10 11 12 13 14 15 16 17 18 19 20]\n"
          ]
        }
      ]
    },
    {
      "cell_type": "markdown",
      "source": [
        "Setting fields of an MMTF file works in an analogous way for values, that should not be encoded. The situation is a little more complex for arrays, that should be encoded: Since arbitrarily named fields can be set in the file, MMTFFile does not know which codec to use for encoding your array. Hence, you need to use the MMTFFile.set_array() function."
      ],
      "metadata": {
        "id": "8ZtD0FgZE2kp"
      }
    },
    {
      "cell_type": "code",
      "source": [
        "mmtf_file[\"title\"] = \"Some other title\"\n",
        "print(mmtf_file[\"title\"])\n",
        "# Determine appropriate codec from the codec used originally\n",
        "mmtf_file.set_array(\n",
        "    \"groupIdList\",\n",
        "    np.arange(20,40),\n",
        "    codec=mmtf_file.get_codec(\"groupIdList\"))\n",
        "print(mmtf_file[\"groupIdList\"])"
      ],
      "metadata": {
        "colab": {
          "base_uri": "https://localhost:8080/"
        },
        "id": "8BYUz7MpE57x",
        "outputId": "577e9c04-5b71-4627-e6b4-16152369bda3"
      },
      "execution_count": 88,
      "outputs": [
        {
          "output_type": "stream",
          "name": "stdout",
          "text": [
            "Some other title\n",
            "[20 21 22 23 24 25 26 27 28 29 30 31 32 33 34 35 36 37 38 39]\n"
          ]
        }
      ]
    },
    {
      "cell_type": "markdown",
      "source": [
        "**An alternative file format for storing and loading atom arrays and stacks even faster, is the NPZ format**. The big disadvantage is that the format is Biotite-exclusive: No other software will be able to read these files. These are simple binary files, that are used to store NumPy arrays. In case of atom arrays and stacks, the annotation arrays and coordinates are written/read to/from npz files via the NpzFile class. Since no expensive data conversion has to be performed, this format is the fastest way to save and load atom arrays and stacks."
      ],
      "metadata": {
        "id": "pcKmuglYE-iI"
      }
    },
    {
      "cell_type": "code",
      "source": [
        "import biotite.structure.io.npz as npz\n",
        "\n",
        "file = npz.NpzFile()\n",
        "file.set_structure(array)\n",
        "reloaded_array = file.get_structure()"
      ],
      "metadata": {
        "id": "1qK2wxVWFIAc"
      },
      "execution_count": 89,
      "outputs": []
    },
    {
      "cell_type": "markdown",
      "source": [
        "Other file formats are supported, list detailed in [biotite.structure.io](https://www.biotite-python.org/apidoc/biotite.structure.io.html#module-biotite.structure.io) function.\n",
        "\n",
        "There are two convenient functions for loading and saving atom arrays or stacks, unifying the forementioned file formats: [load_structure()](https://www.biotite-python.org/apidoc/biotite.structure.io.load_structure.html#biotite.structure.io.load_structure) takes a file path and outputs an array (or stack, if the file contains multiple models). Internally, this function uses the appropriate File class, depending on the file format. The analogous [save_structure()](https://www.biotite-python.org/apidoc/biotite.structure.io.save_structure.html#biotite.structure.io.save_structure) function provides a shortcut for writing to structure files. The desired file format is inferred from the the extension of the provided file name."
      ],
      "metadata": {
        "id": "Mg91SeIqFMLl"
      }
    },
    {
      "cell_type": "code",
      "source": [
        "import biotite.structure.io as strucio\n",
        "\n",
        "stack_from_pdb = strucio.load_structure(pdb_file_path)\n",
        "stack_from_cif = strucio.load_structure(cif_file_path)\n",
        "temp_file = NamedTemporaryFile(suffix=\".cif\", delete=False)\n",
        "strucio.save_structure(temp_file.name, stack_from_pdb)\n",
        "temp_file.close()"
      ],
      "metadata": {
        "id": "JHbIA4O0GIyK"
      },
      "execution_count": 90,
      "outputs": []
    },
    {
      "cell_type": "markdown",
      "source": [
        "####**Reading trajectory files**\n",
        "\n",
        "If the package [**MDtraj**](https://www.mdtraj.org/1.9.8.dev0/index.html) is installed, Biotite provides a read/write interface for different trajectory file formats. All supported trajectory formats have in common, that they store only coordinates. These can be extracted as **ndarray** with the **get_coord()** method.\n",
        "\n",
        "**MDTraj**: is a python library that allows users to **manipulate molecular dynamics (MD) trajectories**. "
      ],
      "metadata": {
        "id": "c8uq_mXdGS0B"
      }
    },
    {
      "cell_type": "code",
      "source": [
        "! pip install mdtraj"
      ],
      "metadata": {
        "colab": {
          "base_uri": "https://localhost:8080/"
        },
        "id": "qClWzSkxHH2R",
        "outputId": "e7cd79c9-8af4-415d-fee9-eb8deb0d8df7"
      },
      "execution_count": 91,
      "outputs": [
        {
          "output_type": "stream",
          "name": "stdout",
          "text": [
            "Looking in indexes: https://pypi.org/simple, https://us-python.pkg.dev/colab-wheels/public/simple/\n",
            "Collecting mdtraj\n",
            "  Downloading mdtraj-1.9.7.tar.gz (2.1 MB)\n",
            "\u001b[K     |████████████████████████████████| 2.1 MB 5.1 MB/s \n",
            "\u001b[?25h  Installing build dependencies ... \u001b[?25l\u001b[?25hdone\n",
            "  Getting requirements to build wheel ... \u001b[?25l\u001b[?25hdone\n",
            "    Preparing wheel metadata ... \u001b[?25l\u001b[?25hdone\n",
            "Collecting astunparse\n",
            "  Downloading astunparse-1.6.3-py2.py3-none-any.whl (12 kB)\n",
            "Collecting scipy\n",
            "  Downloading scipy-1.7.3-cp37-cp37m-manylinux_2_12_x86_64.manylinux2010_x86_64.whl (38.1 MB)\n",
            "\u001b[K     |████████████████████████████████| 38.1 MB 156 kB/s \n",
            "\u001b[?25hRequirement already satisfied: numpy>=1.6 in /usr/local/lib/python3.7/site-packages (from mdtraj) (1.21.6)\n",
            "Collecting pyparsing\n",
            "  Downloading pyparsing-3.0.9-py3-none-any.whl (98 kB)\n",
            "\u001b[K     |████████████████████████████████| 98 kB 6.5 MB/s \n",
            "\u001b[?25hRequirement already satisfied: wheel<1.0,>=0.23.0 in /usr/local/lib/python3.7/site-packages (from astunparse->mdtraj) (0.36.2)\n",
            "Requirement already satisfied: six<2.0,>=1.6.1 in /usr/local/lib/python3.7/site-packages (from astunparse->mdtraj) (1.15.0)\n",
            "Building wheels for collected packages: mdtraj\n",
            "  Building wheel for mdtraj (PEP 517) ... \u001b[?25l\u001b[?25hdone\n",
            "  Created wheel for mdtraj: filename=mdtraj-1.9.7-cp37-cp37m-linux_x86_64.whl size=5682305 sha256=73902639842ab45adcd0aad6d27b041824d1b87545fc9571a3a976883eb055d7\n",
            "  Stored in directory: /root/.cache/pip/wheels/6f/84/9d/6854e5264a4423209de26a6e4b34d13750289c72ba0439bbfd\n",
            "Successfully built mdtraj\n",
            "Installing collected packages: scipy, pyparsing, astunparse, mdtraj\n",
            "Successfully installed astunparse-1.6.3 mdtraj-1.9.7 pyparsing-3.0.9 scipy-1.7.3\n"
          ]
        }
      ]
    },
    {
      "cell_type": "code",
      "source": [
        "from tempfile import NamedTemporaryFile\n",
        "import requests\n",
        "import biotite.structure.io.xtc as xtc\n",
        "\n",
        "# Download 1L2Y as XTC file for demonstration purposes\n",
        "temp_xtc_file = NamedTemporaryFile(\"wb\", suffix=\".xtc\", delete=False)\n",
        "response = requests.get(\n",
        "    \"https://raw.githubusercontent.com/biotite-dev/biotite/master/\"\n",
        "    \"tests/structure/data/1l2y.xtc\"\n",
        ")\n",
        "temp_xtc_file.write(response.content)\n",
        "\n",
        "traj_file = xtc.XTCFile.read(temp_xtc_file.name)\n",
        "coord = traj_file.get_coord()\n",
        "print(coord.shape)"
      ],
      "metadata": {
        "colab": {
          "base_uri": "https://localhost:8080/"
        },
        "id": "Fr5xPfYDG2cL",
        "outputId": "c4176591-d6f0-43ce-9ea9-83a4693e23ae"
      },
      "execution_count": 92,
      "outputs": [
        {
          "output_type": "stream",
          "name": "stdout",
          "text": [
            "(38, 304, 3)\n"
          ]
        }
      ]
    },
    {
      "cell_type": "markdown",
      "source": [
        "If only an excerpt of frames is desired, the behavior of the **read()** function can be customized with the start, stop and step parameters."
      ],
      "metadata": {
        "id": "l3LoXZoJHydi"
      }
    },
    {
      "cell_type": "code",
      "source": [
        "# Read only every second frame\n",
        "traj_file = xtc.XTCFile.read(temp_xtc_file.name, step=2)\n",
        "coord = traj_file.get_coord()\n",
        "print(coord.shape)"
      ],
      "metadata": {
        "colab": {
          "base_uri": "https://localhost:8080/"
        },
        "id": "r_866DknH2DK",
        "outputId": "f44f0722-52bd-42ea-bee0-2c2a9f864ab5"
      },
      "execution_count": 93,
      "outputs": [
        {
          "output_type": "stream",
          "name": "stdout",
          "text": [
            "(19, 304, 3)\n"
          ]
        }
      ]
    },
    {
      "cell_type": "markdown",
      "source": [
        "In order to extract an entire structure, i.e. an **AtomArrayStack**, from a trajectory file, a template structure must be given, since the trajectory file contains only coordinate information."
      ],
      "metadata": {
        "id": "rdZsgAG7H-Fg"
      }
    },
    {
      "cell_type": "code",
      "source": [
        "import biotite.database.rcsb as rcsb\n",
        "import biotite.structure.io.mmtf as mmtf\n",
        "\n",
        "mmtf_file_path = rcsb.fetch(\"1l2y\", \"mmtf\", gettempdir())\n",
        "mmtf_file = mmtf.MMTFFile.read(mmtf_file_path)\n",
        "template = mmtf.get_structure(mmtf_file, model=1)\n",
        "\n",
        "traj_file = xtc.XTCFile.read(temp_xtc_file.name)\n",
        "trajectory = traj_file.get_structure(template)\n",
        "\n",
        "temp_xtc_file.close()"
      ],
      "metadata": {
        "id": "kW1lRK84IFjz"
      },
      "execution_count": 94,
      "outputs": []
    },
    {
      "cell_type": "markdown",
      "source": [
        "####**Array indexing and filtering**\n",
        "\n",
        "Atom arrays and stacks can be indexed in a similar way a ndarray is indexed. In fact, the index is propagated to the coordinates and the annotation arrays. Therefore, all NumPy compatible types of indices can be used, like boolean arrays, index arrays/lists, slices and, of course, integer values. Integer indices have a special role here, as they reduce the dimensionality of the data type: Indexing an AtomArrayStack with an integer results in an AtomArray at the specified frame, indexing an AtomArray with an integer yields the specified Atom. Iterating over arrays and stacks reduces the dimensionality in an analogous way. Let’s demonstrate indexing with the help of the structure of TC5b."
      ],
      "metadata": {
        "id": "fpCuxv2wILpJ"
      }
    },
    {
      "cell_type": "code",
      "source": [
        "from tempfile import gettempdir\n",
        "import biotite.structure as struc\n",
        "import biotite.database.rcsb as rcsb\n",
        "import biotite.structure.io as strucio\n",
        "\n",
        "file_path = rcsb.fetch(\"1l2y\", \"mmtf\", gettempdir())\n",
        "stack = strucio.load_structure(file_path)\n",
        "print(type(stack).__name__)\n",
        "print(stack.shape)\n",
        "# Get the third model\n",
        "array = stack[2]\n",
        "print(type(array).__name__)\n",
        "print(array.shape)\n",
        "# Get the fifth atom\n",
        "atom = array[4]\n",
        "print(type(atom).__name__)\n",
        "print(atom.shape)"
      ],
      "metadata": {
        "colab": {
          "base_uri": "https://localhost:8080/"
        },
        "id": "T94qWE4VIUb2",
        "outputId": "3c15cf58-3f47-4089-ac16-9b56e2a161ce"
      },
      "execution_count": 95,
      "outputs": [
        {
          "output_type": "stream",
          "name": "stdout",
          "text": [
            "AtomArrayStack\n",
            "(38, 304)\n",
            "AtomArray\n",
            "(304,)\n",
            "Atom\n",
            "()\n"
          ]
        }
      ]
    },
    {
      "cell_type": "markdown",
      "source": [
        "load_structure() gives us an AtomArrayStack. The first indexing step reduces the stack to an atom array and the second indexing step reduces the array to a single atom. The shape attribute gives the number of models and atoms, similarly to the shape attribute of ndarray objects. Alternatively, the stack_depth() or array_length() methods can be used to get the number of models or atoms, respectively.\n",
        "\n",
        "The following code section shows some examples for how an atom array can be indexed."
      ],
      "metadata": {
        "id": "hhExV5HgIcp9"
      }
    },
    {
      "cell_type": "code",
      "source": [
        "# Get the first atom\n",
        "atom = array[0]\n",
        "# Get a subarray containing the first and third atom\n",
        "subarray = array[[0,2]]\n",
        "# Get a subarray containing a range of atoms using slices\n",
        "subarray = array[100:200]\n",
        "# Filter all carbon atoms in residue 1\n",
        "subarray = array[(array.element == \"C\") & (array.res_id == 1)]\n",
        "# Filter all atoms where the X-coordinate is smaller than 2\n",
        "subarray = array[array.coord[:,0] < 2]"
      ],
      "metadata": {
        "id": "E7yXWSt2Id9J"
      },
      "execution_count": 96,
      "outputs": []
    },
    {
      "cell_type": "markdown",
      "source": [
        "An atom array stack can be indexed in a similar way, with the difference, that the index specifies the frame(s)."
      ],
      "metadata": {
        "id": "m71fwiv4IhWh"
      }
    },
    {
      "cell_type": "code",
      "source": [
        "# Get an atom array from the first model\n",
        "subarray = stack[0]\n",
        "# Get a substack containing the first 10 models\n",
        "substack = stack[:10]"
      ],
      "metadata": {
        "id": "qWgM3V0UIkE_"
      },
      "execution_count": 97,
      "outputs": []
    },
    {
      "cell_type": "markdown",
      "source": [
        "Stacks also have the speciality, that they can handle 2-dimensional indices, where the first dimension specifies the frame(s) and the second dimension specifies the atom(s)."
      ],
      "metadata": {
        "id": "TfTkL-crInfg"
      }
    },
    {
      "cell_type": "code",
      "source": [
        "# Get the first 100 atoms from the third model\n",
        "subarray = stack[2, :100]\n",
        "# Get the first 100 atoms from the models 3, 4 and 5\n",
        "substack = stack[2:5, :100]\n",
        "# Get the first atom in the second model\n",
        "atom = stack[1,0]\n",
        "# Get a stack containing arrays containing only the first atom\n",
        "substack = stack[:, 0]"
      ],
      "metadata": {
        "id": "SvdJ3I0fIqiV"
      },
      "execution_count": 98,
      "outputs": []
    },
    {
      "cell_type": "markdown",
      "source": [
        "Furthermore, biotite.structure contains advanced filters, that create boolean masks from an atom array using specific criteria. Here is a small example."
      ],
      "metadata": {
        "id": "cHEMevCKItnQ"
      }
    },
    {
      "cell_type": "code",
      "source": [
        "backbone = array[struc.filter_backbone(array)]\n",
        "print(backbone.atom_name)"
      ],
      "metadata": {
        "colab": {
          "base_uri": "https://localhost:8080/"
        },
        "id": "AmjD57d3IwpX",
        "outputId": "deaf1193-0dac-4ee8-b0e6-755556cd2e2e"
      },
      "execution_count": 99,
      "outputs": [
        {
          "output_type": "stream",
          "name": "stdout",
          "text": [
            "['N' 'CA' 'C' 'N' 'CA' 'C' 'N' 'CA' 'C' 'N' 'CA' 'C' 'N' 'CA' 'C' 'N' 'CA'\n",
            " 'C' 'N' 'CA' 'C' 'N' 'CA' 'C' 'N' 'CA' 'C' 'N' 'CA' 'C' 'N' 'CA' 'C' 'N'\n",
            " 'CA' 'C' 'N' 'CA' 'C' 'N' 'CA' 'C' 'N' 'CA' 'C' 'N' 'CA' 'C' 'N' 'CA' 'C'\n",
            " 'N' 'CA' 'C' 'N' 'CA' 'C' 'N' 'CA' 'C']\n"
          ]
        }
      ]
    },
    {
      "cell_type": "markdown",
      "source": [
        "Look at the [CellList](https://www.biotite-python.org/apidoc/biotite.structure.CellList.html#biotite.structure.CellList) class to know which atoms are in proximity to specific coordinates.\n",
        "\n",
        "####**Representing bonds**\n",
        "\n",
        "We can also use a [**BondList**](https://www.biotite-python.org/apidoc/biotite.structure.BondList.html#biotite.structure.BondList) to describe chemical bonds, like atom arrays which describe the coordinates and annotaions of atoms.\n",
        "\n",
        "* **Example**: atom array contains four atoms: N, CA, C and CB. CA is a central atom that is connected to N, C and CB. A BondList is created by passing a ndarray containing pairs of integers, where each integer represents an index in a corresponding atom array. The pairs indicate which atoms share a bond. Additionally, it is required to specify the number of atoms in the atom array."
      ],
      "metadata": {
        "id": "eGt5RTcAIzss"
      }
    },
    {
      "cell_type": "code",
      "source": [
        "from tempfile import gettempdir\n",
        "import biotite.structure as struc\n",
        "\n",
        "array = struc.array([\n",
        "    struc.Atom([0,0,0], atom_name=\"N\"),\n",
        "    struc.Atom([0,0,0], atom_name=\"CA\"),\n",
        "    struc.Atom([0,0,0], atom_name=\"C\"),\n",
        "    struc.Atom([0,0,0], atom_name=\"CB\")\n",
        "])\n",
        "print(\"Atoms:\", array.atom_name)\n",
        "bond_list = struc.BondList(\n",
        "    array.array_length(),\n",
        "    np.array([[1,0], [1,2], [1,3]])\n",
        ")\n",
        "print(\"Bonds (indices):\")\n",
        "print(bond_list.as_array())\n",
        "print(\"Bonds (atoms names):\")\n",
        "print(array.atom_name[bond_list.as_array()[:, :2]])\n",
        "ca_bonds, ca_bond_types = bond_list.get_bonds(1)\n",
        "print(\"Bonds of CA:\", array.atom_name[ca_bonds])"
      ],
      "metadata": {
        "colab": {
          "base_uri": "https://localhost:8080/"
        },
        "id": "pHqM-zinJEoO",
        "outputId": "49da4282-5340-40a9-ed69-ab5a343d9066"
      },
      "execution_count": 100,
      "outputs": [
        {
          "output_type": "stream",
          "name": "stdout",
          "text": [
            "Atoms: ['N' 'CA' 'C' 'CB']\n",
            "Bonds (indices):\n",
            "[[0 1 0]\n",
            " [1 2 0]\n",
            " [1 3 0]]\n",
            "Bonds (atoms names):\n",
            "[['N' 'CA']\n",
            " ['CA' 'C']\n",
            " ['CA' 'CB']]\n",
            "Bonds of CA: ['N' 'C' 'CB']\n"
          ]
        }
      ]
    },
    {
      "cell_type": "markdown",
      "source": [
        "When we look at the internal ndarray (as given by BondList.as_array()), we see a third column containing zeros. This column describes each bond with values from the BondType enum: 0 corresponds to BondType.ANY, which means that the type of the bond is undefined. This makes sense, since we did not define the bond types, when we created the bond list. The other thing that has changed is the index order: Each bond is sorted so that the index with the lower index is the first element.\n",
        "\n",
        "Although a BondList uses a ndarray under the hood, indexing works a little bit different: The indexing operation is not applied to the internal ndarray, instead it behaves like the same indexing operation was applied to a corresponding atom array: The bond list adjusts its indices so that they still point to the same atoms as before. Bonds that involve at least one atom, that has been removed, are deleted as well. We will try that by deleting the C atom."
      ],
      "metadata": {
        "id": "t1WN2W8mklKJ"
      }
    },
    {
      "cell_type": "code",
      "source": [
        "mask = (array.atom_name != \"C\")\n",
        "sub_array = array[mask]\n",
        "sub_bond_list = bond_list[mask]\n",
        "print(\"Atoms:\", sub_array.atom_name)\n",
        "print(\"Bonds (indices):\")\n",
        "print(sub_bond_list.as_array())\n",
        "print(\"Bonds (atoms names):\")\n",
        "print(sub_array.atom_name[sub_bond_list.as_array()[:, :2]])"
      ],
      "metadata": {
        "colab": {
          "base_uri": "https://localhost:8080/"
        },
        "id": "WcMeGYtfkm47",
        "outputId": "59ae780f-2498-4bfb-fb6a-a9ab75efd0f8"
      },
      "execution_count": 101,
      "outputs": [
        {
          "output_type": "stream",
          "name": "stdout",
          "text": [
            "Atoms: ['N' 'CA' 'CB']\n",
            "Bonds (indices):\n",
            "[[0 1 0]\n",
            " [1 2 0]]\n",
            "Bonds (atoms names):\n",
            "[['N' 'CA']\n",
            " ['CA' 'CB']]\n"
          ]
        }
      ]
    },
    {
      "cell_type": "markdown",
      "source": [
        "As we see, the the bonds involving the C (only a single one) are removed and the remaining indices are shifted.\n",
        "\n",
        "####**Connecting atoms and bonds**\n",
        "\n",
        "We do not have to index the atom array and the bond list separately. We can also associate a BondList to an AtomArray via the bonds attribute. If no BondList is associated, bonds is None. Every time the atom array is indexed, the index is also applied to the associated bond list. The same behavior applies to concatenations also."
      ],
      "metadata": {
        "id": "c_zg-jIxkqtJ"
      }
    },
    {
      "cell_type": "code",
      "source": [
        "array.bonds = bond_list\n",
        "sub_array = array[array.atom_name != \"C\"]\n",
        "print(\"Bonds (atoms names):\")\n",
        "print(sub_array.atom_name[sub_array.bonds.as_array()[:, :2]])"
      ],
      "metadata": {
        "colab": {
          "base_uri": "https://localhost:8080/"
        },
        "id": "sAnZnduekv_1",
        "outputId": "6116dd50-f3a8-4956-d11f-9c74d97aa8ed"
      },
      "execution_count": 102,
      "outputs": [
        {
          "output_type": "stream",
          "name": "stdout",
          "text": [
            "Bonds (atoms names):\n",
            "[['N' 'CA']\n",
            " ['CA' 'CB']]\n"
          ]
        }
      ]
    },
    {
      "cell_type": "markdown",
      "source": [
        "**Note**: some functionalities in Biotite require that the input structure has an associated BondList.\n",
        "\n",
        "####**Reading and writing bonds**\n",
        "\n",
        "Up to now the bond information has been created manually, which is infeasible for larger molecules. Instead bond information can be loaded from and saved to some file formats, including **MMTF and MOL files**. We’ll try that on the structure of TC5b and look at the bond information of the third residue, a tyrosine."
      ],
      "metadata": {
        "id": "I8KvE_wZkzrT"
      }
    },
    {
      "cell_type": "code",
      "source": [
        "import biotite.structure.io.mmtf as mmtf\n",
        "\n",
        "file_path = rcsb.fetch(\"1l2y\", \"mmtf\", gettempdir())\n",
        "mmtf_file = mmtf.MMTFFile.read(file_path)\n",
        "# Essential: set the 'include_bonds' parameter to true\n",
        "stack = mmtf.get_structure(mmtf_file, include_bonds=True)\n",
        "tyrosine = stack[:, (stack.res_id == 3)]\n",
        "print(\"Bonds (indices):\")\n",
        "print(tyrosine.bonds)\n",
        "print(\"Bonds (atoms names):\")\n",
        "print(tyrosine.atom_name[tyrosine.bonds.as_array()[:, :2]])"
      ],
      "metadata": {
        "colab": {
          "base_uri": "https://localhost:8080/"
        },
        "id": "VIJ-PsCkk5rt",
        "outputId": "64e3f3fd-4073-4a97-e008-67f60f1e98c1"
      },
      "execution_count": 104,
      "outputs": [
        {
          "output_type": "stream",
          "name": "stdout",
          "text": [
            "Bonds (indices):\n",
            "[[ 0  1  1]\n",
            " [ 1  2  1]\n",
            " [ 2  3  2]\n",
            " [ 1  4  1]\n",
            " [ 4  5  1]\n",
            " [ 5  6  2]\n",
            " [ 5  7  1]\n",
            " [ 6  8  1]\n",
            " [ 7  9  2]\n",
            " [ 8 10  2]\n",
            " [ 9 10  1]\n",
            " [10 11  1]\n",
            " [ 0 12  1]\n",
            " [ 1 13  1]\n",
            " [ 4 14  1]\n",
            " [ 4 15  1]\n",
            " [ 6 16  1]\n",
            " [ 7 17  1]\n",
            " [ 8 18  1]\n",
            " [ 9 19  1]\n",
            " [11 20  1]]\n",
            "Bonds (atoms names):\n",
            "[['N' 'CA']\n",
            " ['CA' 'C']\n",
            " ['C' 'O']\n",
            " ['CA' 'CB']\n",
            " ['CB' 'CG']\n",
            " ['CG' 'CD1']\n",
            " ['CG' 'CD2']\n",
            " ['CD1' 'CE1']\n",
            " ['CD2' 'CE2']\n",
            " ['CE1' 'CZ']\n",
            " ['CE2' 'CZ']\n",
            " ['CZ' 'OH']\n",
            " ['N' 'H']\n",
            " ['CA' 'HA']\n",
            " ['CB' 'HB2']\n",
            " ['CB' 'HB3']\n",
            " ['CD1' 'HD1']\n",
            " ['CD2' 'HD2']\n",
            " ['CE1' 'HE1']\n",
            " ['CE2' 'HE2']\n",
            " ['OH' 'HH']]\n"
          ]
        }
      ]
    },
    {
      "cell_type": "markdown",
      "source": [
        "Since we loaded the bond information from a MMTF file, the bond types are also defined: Here we have both, BondType.SINGLE and BondType.DOUBLE bonds (1 and 2, respectively).\n",
        "\n",
        "Bond information can also be automatically inferred from an AtomArray or AtomArrayStack: connect_via_residue_names() is able to connect atoms in all residues that appear in the Chemical Component Dictionary, comprising every molecule that appears in any PDB entry. In contrast, connect_via_distances() uses only distances between atoms to infer the bonds. However, this function creates only BondType.ANY bonds and might connect wrong atoms in rare cases. Since both functions have the mentioned limitations it is usually better to read bond information directly from file, if available."
      ],
      "metadata": {
        "id": "yU1B-QiTk-BW"
      }
    },
    {
      "cell_type": "code",
      "source": [
        "import biotite.structure.io.pdb as pdb\n",
        "\n",
        "file_path = rcsb.fetch(\"1l2y\", \"pdb\", gettempdir())\n",
        "pdb_file = pdb.PDBFile.read(file_path)\n",
        "stack = pdb_file.get_structure()\n",
        "stack.bonds = struc.connect_via_residue_names(stack)\n",
        "tyrosine = stack[:, (stack.res_id == 3)]\n",
        "print(\"Bonds (indices):\")\n",
        "print(tyrosine.bonds)\n",
        "print(\"Bonds (atoms names):\")\n",
        "print(tyrosine.atom_name[tyrosine.bonds.as_array()[:, :2]])"
      ],
      "metadata": {
        "colab": {
          "base_uri": "https://localhost:8080/"
        },
        "id": "32gNPoSllFIi",
        "outputId": "3f73ed2f-445e-4d70-f46a-440e1e6f8547"
      },
      "execution_count": 105,
      "outputs": [
        {
          "output_type": "stream",
          "name": "stdout",
          "text": [
            "Bonds (indices):\n",
            "[[ 0  1  1]\n",
            " [ 0 12  1]\n",
            " [ 1  2  1]\n",
            " [ 1  4  1]\n",
            " [ 1 13  1]\n",
            " [ 2  3  2]\n",
            " [ 4  5  1]\n",
            " [ 4 14  1]\n",
            " [ 4 15  1]\n",
            " [ 5  6  6]\n",
            " [ 5  7  5]\n",
            " [ 6  8  5]\n",
            " [ 6 16  1]\n",
            " [ 7  9  6]\n",
            " [ 7 17  1]\n",
            " [ 8 10  6]\n",
            " [ 8 18  1]\n",
            " [ 9 10  5]\n",
            " [ 9 19  1]\n",
            " [10 11  1]\n",
            " [11 20  1]]\n",
            "Bonds (atoms names):\n",
            "[['N' 'CA']\n",
            " ['N' 'H']\n",
            " ['CA' 'C']\n",
            " ['CA' 'CB']\n",
            " ['CA' 'HA']\n",
            " ['C' 'O']\n",
            " ['CB' 'CG']\n",
            " ['CB' 'HB2']\n",
            " ['CB' 'HB3']\n",
            " ['CG' 'CD1']\n",
            " ['CG' 'CD2']\n",
            " ['CD1' 'CE1']\n",
            " ['CD1' 'HD1']\n",
            " ['CD2' 'CE2']\n",
            " ['CD2' 'HD2']\n",
            " ['CE1' 'CZ']\n",
            " ['CE1' 'HE1']\n",
            " ['CE2' 'CZ']\n",
            " ['CE2' 'HE2']\n",
            " ['CZ' 'OH']\n",
            " ['OH' 'HH']]\n"
          ]
        }
      ]
    },
    {
      "cell_type": "markdown",
      "source": [
        "####**Simulation boxes and unit cells**\n",
        "\n",
        "Depending on the source of the macromolecular structure, there might be an associated unit cell or simulation box. In this package such boxes are represented by (3,3)-shaped ndarray objects, where each element in the array is one of the three vectors spanning the box or unit cell. Let’s create an **orthorhombic box** from the vector lengths and the angles between the vectors.\n",
        "\n",
        "**Orthorhombic box**: in crystallography, the orthorhombic crystal system is one of the 7 crystal systems. Orthorhombic lattices result from stretching a cubic lattice along two of its orthogonal pairs by two different factors, resulting in a rectangular prism with a rectangular base (a by b) and height (c), such that a, b, and c are distinct. All three bases intersect at 90° angles, so the three lattice vectors remain mutually orthogonal [Wikipedia](https://en.wikipedia.org/wiki/Orthorhombic_crystal_system). "
      ],
      "metadata": {
        "id": "Hh3kTL8jlKhS"
      }
    },
    {
      "cell_type": "code",
      "source": [
        "from tempfile import gettempdir\n",
        "import numpy as np\n",
        "import biotite.structure as struc\n",
        "\n",
        "# The function uses angles in radians\n",
        "box = struc.vectors_from_unitcell(10, 20, 30, np.pi/2, np.pi/2, np.pi/2)\n",
        "print(\"Box:\")\n",
        "print(box)\n",
        "print(\"Box volume:\", struc.box_volume(box))\n",
        "print(\"Is the box orthogonal?:\", struc.is_orthogonal(box))\n",
        "cell = struc.unitcell_from_vectors(box)\n",
        "print(\"Cell:\")\n",
        "print(cell)"
      ],
      "metadata": {
        "colab": {
          "base_uri": "https://localhost:8080/"
        },
        "id": "DGYdM2zUlRrk",
        "outputId": "1f41ce44-8447-4c28-fb71-0740ff9a613b"
      },
      "execution_count": 106,
      "outputs": [
        {
          "output_type": "stream",
          "name": "stdout",
          "text": [
            "Box:\n",
            "[[10.  0.  0.]\n",
            " [ 0. 20.  0.]\n",
            " [ 0.  0. 30.]]\n",
            "Box volume: 6000.0\n",
            "Is the box orthogonal?: True\n",
            "Cell:\n",
            "(10.0, 20.0, 30.0, 1.5707964, 1.5707964, 1.5707964)\n"
          ]
        }
      ]
    },
    {
      "cell_type": "markdown",
      "source": [
        "An atom array can have an associated box, which is used in functions, that consider periodic boundary conditions. Atom array stacks require a (m,3,3)-shaped ndarray, that contains the box vectors for each model. The box is accessed via the box attribute, which is None by default. When loaded from a structure file, the box described in the file is automatically used."
      ],
      "metadata": {
        "id": "VqLe4fQulWCP"
      }
    },
    {
      "cell_type": "code",
      "source": [
        "import biotite.structure.io as strucio\n",
        "\n",
        "array = struc.AtomArray(length=100)\n",
        "print(array.box)\n",
        "array.box = struc.vectors_from_unitcell(10, 20, 30, np.pi/2, np.pi/2, np.pi/2)\n",
        "print(array.box)\n",
        "file_path = rcsb.fetch(\"3o5r\", \"mmtf\", gettempdir())\n",
        "array = strucio.load_structure(file_path)\n",
        "print(array.box)"
      ],
      "metadata": {
        "colab": {
          "base_uri": "https://localhost:8080/"
        },
        "id": "dSaDR7PzlZl-",
        "outputId": "0f4d5c51-0694-4160-e255-c72caa92560c"
      },
      "execution_count": 107,
      "outputs": [
        {
          "output_type": "stream",
          "name": "stdout",
          "text": [
            "None\n",
            "[[10.  0.  0.]\n",
            " [ 0. 20.  0.]\n",
            " [ 0.  0. 30.]]\n",
            "[[42.051  0.     0.   ]\n",
            " [ 0.    54.784  0.   ]\n",
            " [ 0.     0.    56.816]]\n"
          ]
        }
      ]
    },
    {
      "cell_type": "markdown",
      "source": [
        "When loading a trajectory from an MD simulation, the molecules are often fragmented over the periodic boundary. While a lot of analysis functions can handle such periodic boundary conditions automatically, some require completed molecules. In this case you should use remove_pbc()."
      ],
      "metadata": {
        "id": "cG4Xhoevmi5v"
      }
    },
    {
      "cell_type": "code",
      "source": [
        "array = struc.remove_pbc(array)"
      ],
      "metadata": {
        "id": "nyBjDyKrmkgU"
      },
      "execution_count": null,
      "outputs": []
    },
    {
      "cell_type": "markdown",
      "source": [
        "####**Structure manipulation**\n",
        "\n",
        "The most basic way to manipulate a structure is to edit the annotation arrays or coordinates directly."
      ],
      "metadata": {
        "id": "a-zS4FA-mr7z"
      }
    },
    {
      "cell_type": "code",
      "source": [
        "from tempfile import gettempdir\n",
        "import biotite.structure as struc\n",
        "import biotite.structure.io.mmtf as mmtf\n",
        "\n",
        "file_path = rcsb.fetch(\"1l2y\", \"mmtf\", gettempdir())\n",
        "mmtf_file = mmtf.MMTFFile.read(file_path)\n",
        "structure = mmtf.get_structure(mmtf_file, model=1)\n",
        "print(\"Before:\")\n",
        "print(structure[structure.res_id == 1])\n",
        "print()\n",
        "structure.coord += 100\n",
        "print(\"After:\")\n",
        "print(structure[structure.res_id == 1])"
      ],
      "metadata": {
        "colab": {
          "base_uri": "https://localhost:8080/"
        },
        "id": "x4OCy1PKmv2u",
        "outputId": "65df696a-d981-45ab-ed8a-8c1974127771"
      },
      "execution_count": 109,
      "outputs": [
        {
          "output_type": "stream",
          "name": "stdout",
          "text": [
            "Before:\n",
            "    A       1  ASN N      N        -8.901    4.127   -0.555\n",
            "    A       1  ASN CA     C        -8.608    3.135   -1.618\n",
            "    A       1  ASN C      C        -7.117    2.964   -1.897\n",
            "    A       1  ASN O      O        -6.634    1.849   -1.758\n",
            "    A       1  ASN CB     C        -9.437    3.396   -2.889\n",
            "    A       1  ASN CG     C       -10.915    3.130   -2.611\n",
            "    A       1  ASN OD1    O       -11.269    2.700   -1.524\n",
            "    A       1  ASN ND2    N       -11.806    3.406   -3.543\n",
            "    A       1  ASN H1     H        -8.330    3.957    0.261\n",
            "    A       1  ASN H2     H        -8.740    5.068   -0.889\n",
            "    A       1  ASN H3     H        -9.877    4.041   -0.293\n",
            "    A       1  ASN HA     H        -8.930    2.162   -1.239\n",
            "    A       1  ASN HB2    H        -9.310    4.417   -3.193\n",
            "    A       1  ASN HB3    H        -9.108    2.719   -3.679\n",
            "    A       1  ASN HD21   H       -11.572    3.791   -4.444\n",
            "    A       1  ASN HD22   H       -12.757    3.183   -3.294\n",
            "\n",
            "After:\n",
            "    A       1  ASN N      N        91.099  104.127   99.445\n",
            "    A       1  ASN CA     C        91.392  103.135   98.382\n",
            "    A       1  ASN C      C        92.883  102.964   98.103\n",
            "    A       1  ASN O      O        93.366  101.849   98.242\n",
            "    A       1  ASN CB     C        90.563  103.396   97.111\n",
            "    A       1  ASN CG     C        89.085  103.130   97.389\n",
            "    A       1  ASN OD1    O        88.731  102.700   98.476\n",
            "    A       1  ASN ND2    N        88.194  103.406   96.457\n",
            "    A       1  ASN H1     H        91.670  103.957  100.261\n",
            "    A       1  ASN H2     H        91.260  105.068   99.111\n",
            "    A       1  ASN H3     H        90.123  104.041   99.707\n",
            "    A       1  ASN HA     H        91.070  102.162   98.761\n",
            "    A       1  ASN HB2    H        90.690  104.417   96.807\n",
            "    A       1  ASN HB3    H        90.892  102.719   96.321\n",
            "    A       1  ASN HD21   H        88.428  103.791   95.556\n",
            "    A       1  ASN HD22   H        87.243  103.183   96.706\n"
          ]
        }
      ]
    },
    {
      "cell_type": "markdown",
      "source": [
        "Biotite provides also some transformation functions, for example rotate() for rotations about the x-, y- or z-axis."
      ],
      "metadata": {
        "id": "M9woC6GDm0B_"
      }
    },
    {
      "cell_type": "code",
      "source": [
        "structure = mmtf.get_structure(mmtf_file, model=1)\n",
        "print(\"Before:\")\n",
        "print(structure[structure.res_id == 1])\n",
        "print()\n",
        "# Rotation about z-axis by 90 degrees\n",
        "structure = struc.rotate(structure, [0, 0, np.deg2rad(90)])\n",
        "print(\"After:\")\n",
        "print(structure[structure.res_id == 1])"
      ],
      "metadata": {
        "colab": {
          "base_uri": "https://localhost:8080/"
        },
        "id": "ANaqLK5Gm31Y",
        "outputId": "6c6e78e0-908f-41cd-8486-6169b8e737c4"
      },
      "execution_count": 110,
      "outputs": [
        {
          "output_type": "stream",
          "name": "stdout",
          "text": [
            "Before:\n",
            "    A       1  ASN N      N        -8.901    4.127   -0.555\n",
            "    A       1  ASN CA     C        -8.608    3.135   -1.618\n",
            "    A       1  ASN C      C        -7.117    2.964   -1.897\n",
            "    A       1  ASN O      O        -6.634    1.849   -1.758\n",
            "    A       1  ASN CB     C        -9.437    3.396   -2.889\n",
            "    A       1  ASN CG     C       -10.915    3.130   -2.611\n",
            "    A       1  ASN OD1    O       -11.269    2.700   -1.524\n",
            "    A       1  ASN ND2    N       -11.806    3.406   -3.543\n",
            "    A       1  ASN H1     H        -8.330    3.957    0.261\n",
            "    A       1  ASN H2     H        -8.740    5.068   -0.889\n",
            "    A       1  ASN H3     H        -9.877    4.041   -0.293\n",
            "    A       1  ASN HA     H        -8.930    2.162   -1.239\n",
            "    A       1  ASN HB2    H        -9.310    4.417   -3.193\n",
            "    A       1  ASN HB3    H        -9.108    2.719   -3.679\n",
            "    A       1  ASN HD21   H       -11.572    3.791   -4.444\n",
            "    A       1  ASN HD22   H       -12.757    3.183   -3.294\n",
            "\n",
            "After:\n",
            "    A       1  ASN N      N        -4.127   -8.901   -0.555\n",
            "    A       1  ASN CA     C        -3.135   -8.608   -1.618\n",
            "    A       1  ASN C      C        -2.964   -7.117   -1.897\n",
            "    A       1  ASN O      O        -1.849   -6.634   -1.758\n",
            "    A       1  ASN CB     C        -3.396   -9.437   -2.889\n",
            "    A       1  ASN CG     C        -3.130  -10.915   -2.611\n",
            "    A       1  ASN OD1    O        -2.700  -11.269   -1.524\n",
            "    A       1  ASN ND2    N        -3.406  -11.806   -3.543\n",
            "    A       1  ASN H1     H        -3.957   -8.330    0.261\n",
            "    A       1  ASN H2     H        -5.068   -8.740   -0.889\n",
            "    A       1  ASN H3     H        -4.041   -9.877   -0.293\n",
            "    A       1  ASN HA     H        -2.162   -8.930   -1.239\n",
            "    A       1  ASN HB2    H        -4.417   -9.310   -3.193\n",
            "    A       1  ASN HB3    H        -2.719   -9.108   -3.679\n",
            "    A       1  ASN HD21   H        -3.791  -11.572   -4.444\n",
            "    A       1  ASN HD22   H        -3.183  -12.757   -3.294\n"
          ]
        }
      ]
    },
    {
      "cell_type": "markdown",
      "source": [
        "For a complete list of transformation functions have a look in the API reference.\n",
        "\n",
        "####**Structure analysis**\n",
        "\n",
        "Biotite functions enable us to analyse stucture, such as simple bond angles and length measurements to more complex characteristics, like accessible surface area and secondary structure. The following section outlines some of these functions, which should be applied to the TC5b structure.\n",
        "\n",
        "The examples shown in this section are only a small glimpse into the structure analysis toolset. Look into the API reference for more information.\n",
        "\n",
        "#####**1. Geometry measures**\n",
        "\n",
        "In this example we measure geometric characteristics: atom distances of CA atoms."
      ],
      "metadata": {
        "id": "fDYu7SqZm8vb"
      }
    },
    {
      "cell_type": "code",
      "source": [
        "from tempfile import gettempdir\n",
        "import biotite.structure as struc\n",
        "import biotite.structure.io as strucio\n",
        "\n",
        "file_path = rcsb.fetch(\"1l2y\", \"mmtf\", gettempdir())\n",
        "stack = strucio.load_structure(file_path)\n",
        "# Filter only CA atoms\n",
        "stack = stack[:, stack.atom_name == \"CA\"]\n",
        "\n",
        "# Calculate distance between first and second CA in first frame\n",
        "array = stack[0]\n",
        "print(\"Atom to atom:\", struc.distance(array[0], array[1]))\n",
        "# Calculate distance between the first atom\n",
        "# and all other CA atoms in the array\n",
        "print(\"Array to atom:\")\n",
        "array = stack[0]\n",
        "print(struc.distance(array[0], array))\n",
        "# Calculate pairwise distances between the CA atoms in the first frame\n",
        "# and the CA atoms in the second frame\n",
        "print(\"Array to array:\")\n",
        "print(struc.distance(stack[0], stack[1]))\n",
        "# Calculate the distances between all CA atoms in the stack\n",
        "# and the first CA atom in the first frame\n",
        "# The resulting array is too large, therefore only the shape is printed\n",
        "print(\"Stack to atom:\")\n",
        "print(struc.distance(stack, stack[0,0]).shape)\n",
        "# And finally distances between two adjacent CA in the first frame\n",
        "array = stack[0]\n",
        "print(\"Adjacent CA distances\")\n",
        "print(struc.distance(array[:-1], array[1:]))"
      ],
      "metadata": {
        "colab": {
          "base_uri": "https://localhost:8080/"
        },
        "id": "Ugu-8ysPnI7-",
        "outputId": "cc280616-962d-4de7-aec1-4431b427337a"
      },
      "execution_count": 111,
      "outputs": [
        {
          "output_type": "stream",
          "name": "stdout",
          "text": [
            "Atom to atom: 3.876399\n",
            "Array to atom:\n",
            "[ 0.         3.876399   5.5766597  5.038891   6.316409   8.766815\n",
            "  9.908135  10.614817  12.890331  14.806679  13.5011635 16.87541\n",
            " 18.723566  17.224289  19.111933  16.193     15.514756  12.377812\n",
            " 10.445933  12.058967 ]\n",
            "Array to array:\n",
            "[3.4344199  0.37241507 0.22178602 0.10823133 0.15207201 0.17017055\n",
            " 0.22572783 0.47650498 0.29493213 0.1548351  0.2832347  0.40683934\n",
            " 0.1355508  0.3676874  0.46464393 0.57544243 0.33707416 0.25703317\n",
            " 0.34762198 0.38818687]\n",
            "Stack to atom:\n",
            "(38, 20)\n",
            "Adjacent CA distances\n",
            "[3.876399  3.8605015 3.87147   3.8455799 3.8666048 3.8585181 3.8818028\n",
            " 3.860987  3.8909183 3.8635552 3.8862703 3.8756127 3.8746684 3.8655493\n",
            " 3.8662775 3.8776622 3.8603828 3.8582468 3.8642192]\n"
          ]
        }
      ]
    },
    {
      "cell_type": "markdown",
      "source": [
        "Like some other functions in biotite.structure, we are able to pick any combination of an atom, atom array or stack. Alternatively ndarray objects containing the coordinates can be provided.\n",
        "\n",
        "Furthermore, we can measure bond angles and dihedral angles."
      ],
      "metadata": {
        "id": "njNYHA0fnOrd"
      }
    },
    {
      "cell_type": "code",
      "source": [
        "# Calculate angle between first 3 CA atoms in first frame\n",
        "# (in radians)\n",
        "print(\"Angle:\", struc.angle(array[0],array[1],array[2]))\n",
        "# Calculate dihedral angle between first 4 CA atoms in first frame\n",
        "# (in radians)\n",
        "print(\"Dihedral angle:\", struc.dihedral(array[0],array[1],array[2],array[4]))"
      ],
      "metadata": {
        "colab": {
          "base_uri": "https://localhost:8080/"
        },
        "id": "Vgx-6rkBnUtf",
        "outputId": "0a828efd-bcee-450b-a6c5-1a6ca66f40fb"
      },
      "execution_count": 112,
      "outputs": [
        {
          "output_type": "stream",
          "name": "stdout",
          "text": [
            "Angle: 1.6098708\n",
            "Dihedral angle: 1.4903792\n"
          ]
        }
      ]
    },
    {
      "cell_type": "markdown",
      "source": [
        "**Note**: The distance(), angle() and dihedral() functions all have their pair_...() counterparts, that take an atom array (stack) and pairs/triplets/quadruplets of atom indices, of which the distance/angle should be calculated. Both variants can be setup to consider periodic boundary conditions by setting the box or periodic parameter, respectively.\n",
        "\n",
        "In some cases one is interested in the dihedral angles of the peptide backbone,\n",
        ", and . In the following code snippet we measure these angles and create a simple [Ramachandran plot](https://www.sciencedirect.com/topics/biochemistry-genetics-and-molecular-biology/ramachandran-plot) for the first frame of TC5b."
      ],
      "metadata": {
        "id": "akaBbg8xnawQ"
      }
    },
    {
      "cell_type": "code",
      "source": [
        "import matplotlib.pyplot as plt\n",
        "import numpy as np\n",
        "\n",
        "array = strucio.load_structure(file_path)[0]\n",
        "phi, psi, omega = struc.dihedral_backbone(array)\n",
        "plt.plot(phi * 360/(2*np.pi), psi * 360/(2*np.pi),\n",
        "        marker=\"o\", linestyle=\"None\")\n",
        "plt.xlim(-180,180)\n",
        "plt.ylim(-180,180)\n",
        "plt.xlabel(\"$\\phi$\")\n",
        "plt.ylabel(\"$\\psi$\")"
      ],
      "metadata": {
        "colab": {
          "base_uri": "https://localhost:8080/",
          "height": 422
        },
        "id": "e-vEHuDHniba",
        "outputId": "c2d9aa5a-f22f-4dad-fb4b-6c9aa8b1f234"
      },
      "execution_count": 113,
      "outputs": [
        {
          "output_type": "stream",
          "name": "stderr",
          "text": [
            "<input>:10: DeprecationWarning: invalid escape sequence \\p\n",
            "<input>:10: DeprecationWarning: invalid escape sequence \\p\n",
            "<input>:11: DeprecationWarning: invalid escape sequence \\p\n",
            "<ipython-input-113-093e45aaeb98>:10: DeprecationWarning: invalid escape sequence \\p\n",
            "  plt.xlabel(\"$\\phi$\")\n",
            "<ipython-input-113-093e45aaeb98>:11: DeprecationWarning: invalid escape sequence \\p\n",
            "  plt.ylabel(\"$\\psi$\")\n"
          ]
        },
        {
          "output_type": "execute_result",
          "data": {
            "text/plain": [
              "Text(0, 0.5, '$\\\\psi$')"
            ]
          },
          "metadata": {},
          "execution_count": 113
        },
        {
          "output_type": "display_data",
          "data": {
            "text/plain": [
              "<Figure size 432x288 with 1 Axes>"
            ],
            "image/png": "[encoded data removed]"
          },
          "metadata": {
            "needs_background": "light"
          }
        }
      ]
    },
    {
      "cell_type": "markdown",
      "source": [
        "####**Comparing structures**\n",
        "\n",
        "Now we want to calculate a measure of flexibility for each residue in TC5b. The root mean square fluctuation (RMSF) is a good value for that. It represents the deviation for each atom in all models relative to a reference model, which is usually the averaged structure. Since we are only interested in the backbone flexibility, we consider only CA atoms. Before we can calculate a reasonable RMSF, we have to superimpose each model on a reference model (we choose the first model), which minimizes the root mean square deviation (RMSD).\n",
        "\n",
        "* **RMSF**: is a measure of the deviation of the position of a particle with respect to a reference position over time. It is the most common measure of the spatial extent of random motion, and can be thought of as measuring the portion of the system \"explored\" by the random walker. It can indicate structurally which amino acids in a protein contribute the most to a molecular motion. \n",
        "\n",
        "* **RMSD**: is the measure of the average distance between the atoms (usually the backbone atoms) of superimposed proteins. Note that RMSD calculation can be applied to other, non-protein molecules, such as small organic molecules [(Wikipedia)](https://en.wikipedia.org/wiki/Root-mean-square_deviation_of_atomic_positions)."
      ],
      "metadata": {
        "id": "-vPOykqjnqwH"
      }
    },
    {
      "cell_type": "code",
      "source": [
        "stack = strucio.load_structure(file_path)\n",
        "# We consider only CA atoms\n",
        "stack = stack[:, stack.atom_name == \"CA\"]\n",
        "# Superimposing all models of the structure onto the first model\n",
        "stack, transformation_tuple = struc.superimpose(stack[0], stack)\n",
        "print(\"RMSD for each model to first model:\")\n",
        "print(struc.rmsd(stack[0], stack))\n",
        "# Calculate the RMSF relative to the average of all models\n",
        "rmsf = struc.rmsf(struc.average(stack), stack)\n",
        "# Plotting stuff\n",
        "plt.plot(np.arange(1,21), rmsf)\n",
        "plt.xlim(0,21)\n",
        "plt.xticks(np.arange(1,21))\n",
        "plt.xlabel(\"Residue\")\n",
        "plt.ylabel(\"RMSF\")"
      ],
      "metadata": {
        "colab": {
          "base_uri": "https://localhost:8080/",
          "height": 435
        },
        "id": "-tQ-yyuBnzHO",
        "outputId": "63e9f432-9268-44ea-becf-19784c05ec19"
      },
      "execution_count": 114,
      "outputs": [
        {
          "output_type": "stream",
          "name": "stdout",
          "text": [
            "RMSD for each model to first model:\n",
            "[0.         0.7842643  1.0075767  0.5518028  0.8066345  1.0606678\n",
            " 0.8738371  0.6260641  1.0057656  0.81440794 0.876283   1.353859\n",
            " 0.93277985 0.8760094  0.99357325 0.40626574 0.31801927 1.1838906\n",
            " 1.2347708  0.89114463 0.5553653  0.73639375 0.7856738  1.1019256\n",
            " 0.67228884 1.1605636  0.98213965 1.2280884  0.79269636 0.8685473\n",
            " 0.9386668  0.8356571  0.61650354 0.97335416 1.0322398  0.5555665\n",
            " 1.1517522  0.8558534 ]\n"
          ]
        },
        {
          "output_type": "execute_result",
          "data": {
            "text/plain": [
              "Text(0, 0.5, 'RMSF')"
            ]
          },
          "metadata": {},
          "execution_count": 114
        },
        {
          "output_type": "display_data",
          "data": {
            "text/plain": [
              "<Figure size 432x288 with 1 Axes>"
            ],
            "image/png": "[encoded data removed]"
          },
          "metadata": {
            "needs_background": "light"
          }
        }
      ]
    },
    {
      "cell_type": "markdown",
      "source": [
        "As we see, both terminal residues are most flexible.\n",
        "\n",
        "####**Calculating accessible surface area**\n",
        "\n",
        "Another interesting value for a protein structure is the **solvent accessible surface area (SASA)** that indicates whether an atom or residue is on the protein surface or buried inside the protein. The function sasa() approximates the SASA for each atom. Then we sum up the values for each residue, to get the residue-wise SASA.\n",
        "\n",
        "**SASA**: is the surface area of a biomolecule that is accessible to a solvent. Measurement of SASA is usually described in units of square Ångstroms, a standard unit of measurement in molecular biology [(Wikipedia)](https://en.wikipedia.org/wiki/Accessible_surface_area). \n",
        "\n",
        "Besides other parameters, we can choose between different Van-der-Waals radii sets: Prot0r, the default set, is a set that defines radii for non-hydrogen atoms, but determines the radius of an atom based on the assumed amount of hydrogen atoms connected to it. Therefore, ProtOr is suitable for structures with missing hydrogen atoms, like crystal structures. Since the structure of TC5b was elucidated via NMR, we can assign a radius to every single atom (including hydrogens), hence we use the Single set."
      ],
      "metadata": {
        "id": "djb9BdEIn4nI"
      }
    },
    {
      "cell_type": "code",
      "source": [
        "array = strucio.load_structure(file_path)[0]\n",
        "# The following line calculates the atom-wise SASA of the atom array\n",
        "atom_sasa = struc.sasa(array, vdw_radii=\"Single\")\n",
        "# Sum up SASA for each residue in atom array\n",
        "res_sasa = struc.apply_residue_wise(array, atom_sasa, np.sum)\n",
        "# Again plotting stuff\n",
        "plt.plot(np.arange(1,21), res_sasa)\n",
        "plt.xlim(0,21)\n",
        "plt.xticks(np.arange(1,21))\n",
        "plt.xlabel(\"Residue\")\n",
        "plt.ylabel(\"SASA\")"
      ],
      "metadata": {
        "colab": {
          "base_uri": "https://localhost:8080/",
          "height": 296
        },
        "id": "gZ8qlZisoFRH",
        "outputId": "c10abe1f-a55b-46d6-e1f6-adf3ce9b4f2f"
      },
      "execution_count": 115,
      "outputs": [
        {
          "output_type": "execute_result",
          "data": {
            "text/plain": [
              "Text(0, 0.5, 'SASA')"
            ]
          },
          "metadata": {},
          "execution_count": 115
        },
        {
          "output_type": "display_data",
          "data": {
            "text/plain": [
              "<Figure size 432x288 with 1 Axes>"
            ],
            "image/png": "[encoded data removed]"
          },
          "metadata": {
            "needs_background": "light"
          }
        }
      ]
    },
    {
      "cell_type": "markdown",
      "source": [
        "####**Secondary structure determination**\n",
        "\n",
        "Biotite can also be used to assign secondary structure elements (SSE) to a structure with the annotate_sse() function. An 'a' means alpha-helix, 'b' beta-sheet, and 'c' means coil.\n",
        "\n",
        "**Protein Structures**: Primary structure is simply the amino acid sequence, defined by the DNA template. Secondary structure is the physical arrangement of the peptide chains as they fold and bend around the various molecular and steric constraints of the amino acid residues. The secondary structure is of intense interest because the configuration determines the reactivity of the protein and can change under certain conditions. Tertiary and quaternary structures define the 3D arrangement of the peptide chains and are determined by the various ‘weak’ forces and the interaction of the polypeptide units themselves."
      ],
      "metadata": {
        "id": "YRFJ-hZJoH5R"
      }
    },
    {
      "cell_type": "code",
      "source": [
        "array = strucio.load_structure(file_path)[0]\n",
        "# Estimate secondary structure\n",
        "sse = struc.annotate_sse(array, chain_id=\"A\")\n",
        "# Pretty print\n",
        "print(\"\".join(sse))"
      ],
      "metadata": {
        "colab": {
          "base_uri": "https://localhost:8080/"
        },
        "id": "_11JQxWloOyu",
        "outputId": "9baef5d5-dff0-41dd-9200-314cbb3ad11f"
      },
      "execution_count": 116,
      "outputs": [
        {
          "output_type": "stream",
          "name": "stdout",
          "text": [
            "caaaaaaaaccccccccccc\n"
          ]
        }
      ]
    },
    {
      "cell_type": "markdown",
      "source": [
        "###**4. Application Subpackage**\n",
        "\n",
        "The [biotite.application](https://www.biotite-python.org/apidoc/biotite.application.html#module-biotite.application) package compensates for functions which aren't avaiable in Biotite by outsourcing functions to other software, containing interfaces for popular external software - biotite.application functions:\n",
        "\n",
        "* **Application.start()**: after user calls this method, the app state is set to RUNNING and the app performs the calculations. When the application finishes the AppState changes to FINISHED. \n",
        "* **Application.join()**: once application starts, user calls this method, concluding the application in the JOINED state and making the results of the application accessible. Furthermore, this may trigger cleanup actions in some applications. Application.join() can even be called in the RUNNING state: This will constantly check if the application has finished and will directly go into the JOINED state as soon as the application reaches the FINISHED state.\n",
        "* **Application.cancel()** : calling this method while the application is RUNNING or FINISHED leaves the application in the CANCELLED state. This triggers cleanup, too, but there are no accessible results. If a method is called in an unsuitable app state, an AppStateError is called. At each state in the life cycle, Application type specific methods are called, as shown in the following diagram.\n",
        "\n",
        "The following sample code shows how an Application is generally executed. Note the space between the Application.start() and Application.join() method: Since these are separate functions, we can do some other stuff, while the Application runs in the background. Thus, an Application behaves effectively like an additional thread.\n",
        "\n",
        "####**Integrating other software with Biotite**\n",
        "To to use software in biotite.application the **corresponding software must be installed**. We use [bioconda](https://bioconda.github.io/) to install software, a subpackage of Conda, the open source package and environment management system. Biconda is a specialised version of Conda for biomedical research.\n",
        "\n",
        "Biotite uses multiple sequence alignment algorithms **ClustalW, ClustalOmega, and Muscle**, which are integrated into the [**'msa package'**](https://bioconda.github.io/recipes/bioconductor-msa/README.html), which provides a unified R/Bioconductor interface to the multiple sequence alignment algorithms ClustalW, ClustalOmega, and Muscle. The multiple sequence alignment algorithms are complemented by a function for pretty-printing multiple sequence alignments using the LaTeX package TeXshade."
      ],
      "metadata": {
        "id": "jms-APbXojpd"
      }
    },
    {
      "cell_type": "code",
      "source": [
        "# Install bioconductor-msa\n",
        "! conda install -c bioconda bioconductor-msa"
      ],
      "metadata": {
        "colab": {
          "base_uri": "https://localhost:8080/"
        },
        "id": "S2Z2aNTXnKIe",
        "outputId": "731ffc2c-dfe5-47c1-c5c0-f974649e246f"
      },
      "execution_count": 127,
      "outputs": [
        {
          "output_type": "stream",
          "name": "stdout",
          "text": [
            "Collecting package metadata (current_repodata.json): - \b\b\\ \b\b| \b\b/ \b\b- \b\b\\ \b\b| \b\b/ \b\b- \b\b\\ \b\b| \b\b/ \b\b- \b\b\\ \b\b| \b\b/ \b\b- \b\b\\ \b\b| \b\b/ \b\b- \b\bdone\n",
            "Solving environment: | \b\b/ \b\b- \b\b\\ \b\b| \b\b/ \b\b- \b\b\\ \b\b| \b\b/ \b\b- \b\b\\ \b\b| \b\b/ \b\b- \b\b\\ \b\b| \b\b/ \b\b- \b\b\\ \b\b| \b\b/ \b\b- \b\b\\ \b\bdone\n",
            "\n",
            "## Package Plan ##\n",
            "\n",
            "  environment location: /usr/local\n",
            "\n",
            "  added / updated specs:\n",
            "    - bioconductor-msa\n",
            "\n",
            "\n",
            "The following packages will be downloaded:\n",
            "\n",
            "    package                    |            build\n",
            "    ---------------------------|-----------------\n",
            "    conda-4.13.0               |   py37h89c1867_1         989 KB  conda-forge\n",
            "    ------------------------------------------------------------\n",
            "                                           Total:         989 KB\n",
            "\n",
            "The following packages will be UPDATED:\n",
            "\n",
            "  conda                               4.12.0-py37h89c1867_0 --> 4.13.0-py37h89c1867_1\n",
            "\n",
            "\n",
            "\n",
            "Downloading and Extracting Packages\n",
            "conda-4.13.0         | 989 KB    | : 100% 1.0/1 [00:00<00:00,  2.19it/s]\n",
            "Preparing transaction: / \b\bdone\n",
            "Verifying transaction: \\ \b\bdone\n",
            "Executing transaction: / \b\bdone\n"
          ]
        }
      ]
    },
    {
      "cell_type": "code",
      "source": [
        "from biotite.application import Application\n",
        "\n",
        "# Create a dummy Application subclass\n",
        "class MyApplication(Application):\n",
        "    def __init__(self, param): super().__init__()\n",
        "    def run(self): pass\n",
        "    def is_finished(self): return True\n",
        "    def wait_interval(self): return 0.1\n",
        "    def evaluate(self): pass\n",
        "    def clean_up(self): pass\n",
        "    def set_some_other_input(self, param): pass\n",
        "    def get_some_data(self): return \"some data\"\n",
        "\n",
        "param = \"foo\"\n",
        "param2 = \"bar\"\n",
        "app = MyApplication(param)\n",
        "app.set_some_other_input(param2)\n",
        "app.start()\n",
        "# Time to do other stuff\n",
        "app.join()\n",
        "results = app.get_some_data()"
      ],
      "metadata": {
        "id": "ofmkigwNpu5l"
      },
      "execution_count": 117,
      "outputs": []
    },
    {
      "cell_type": "markdown",
      "source": [
        "The following subsections will dive into the available Application classes in depth.\n",
        "\n",
        "**Basic Local Alignment Search Tool** [(BLAST)](https://blast.ncbi.nlm.nih.gov/Blast.cgi): finds regions of similarity between biological sequences. The program compares nucleotide or protein sequences to sequence databases and calculates the statistical significance. BLAST can be used to infer functional and evolutionary relationships between sequences as well as help identify members of gene families. \n",
        "\n",
        "####**Finding homologous sequences with BLAST**\n",
        "\n",
        "the [biotite.application.blast](https://www.biotite-python.org/apidoc/biotite.application.blast.html#module-biotite.application.blast) subpackage provides an interface to [NCBI BLAST](https://blast.ncbi.nlm.nih.gov/Blast.cgi): the [BlastWebApp](https://www.biotite-python.org/apidoc/biotite.application.blast.BlastWebApp.html#biotite.application.blast.BlastWebApp) class. Let’s dive directly into the code, we try to find homologous sequences to the miniprotein TC5b:"
      ],
      "metadata": {
        "id": "Zx1hBl3UpzXN"
      }
    },
    {
      "cell_type": "code",
      "source": [
        "import biotite.application.blast as blast\n",
        "import biotite.sequence as seq\n",
        "\n",
        "tc5b_seq = seq.ProteinSequence(\"NLYIQWLKDGGPSSGRPPPS\")\n",
        "app = blast.BlastWebApp(\"blastp\", tc5b_seq)\n",
        "app.start()\n",
        "app.join()\n",
        "alignments = app.get_alignments()\n",
        "best_ali = alignments[0]\n",
        "print(best_ali)\n",
        "print()\n",
        "print(\"HSP position in query: \", best_ali.query_interval)\n",
        "print(\"HSP position in hit: \", best_ali.hit_interval)\n",
        "print(\"Score: \", best_ali.score)\n",
        "print(\"E-value: \", best_ali.e_value)\n",
        "print(\"Hit UID: \", best_ali.hit_id)\n",
        "print(\"Hit name: \", best_ali.hit_definition)"
      ],
      "metadata": {
        "colab": {
          "base_uri": "https://localhost:8080/"
        },
        "id": "EpFoV3KRp6RA",
        "outputId": "e73b7704-3779-4f01-b549-798cb1a950c8"
      },
      "execution_count": 118,
      "outputs": [
        {
          "output_type": "stream",
          "name": "stdout",
          "text": [
            "NLYIQWLKDGGPSSGRPPPS\n",
            "NLYIQWLKDGGPSSGRPPPS\n",
            "\n",
            "HSP position in query:  (1, 20)\n",
            "HSP position in hit:  (1, 20)\n",
            "Score:  101\n",
            "E-value:  0.000110301\n",
            "Hit UID:  1L2Y_A\n",
            "Hit name:  NMR Structure of Trp-Cage Miniprotein Construct TC5b [synthetic construct]\n"
          ]
        }
      ]
    },
    {
      "cell_type": "markdown",
      "source": [
        "That was a simple task for BLAST. \n",
        "\n",
        "As best hit, it just found the query sequence itself in the PDB. However, it gives an idea about how this Application works. Besides some optional parameters, the BlastWebApp requires the BLAST program and the query sequence. After the app has finished, we get a list of alignments with descending score. An **alignment is an instance of BlastAlignment, a subclass of biotite.sequence.align.Alignment**. It contains some additional information as shown above. The hit UID can be used to obtain the complete hit sequence via **biotite.database.entrez**.\n",
        "\n",
        "The next alignment is more challenging. We take a random part of the E. coli BL21 genome and distort it a little bit. Since we still expect a high similarity to the original sequence, we decrease the E-value threshold.\n",
        "\n",
        "**E-value**: the Expect value (E) is a parameter that describes the number of hits one can \"expect\" to see by chance when searching a database of a particular size. It decreases exponentially as the Score (S) of the match increases. Essentially, the E value describes the random background noise. For example, an E value of 1 assigned to a hit can be interpreted as meaning that in a database of the current size one might expect to see 1 match with a similar score simply by chance. The lower the E-value, or the closer it is to zero, the more \"significant\" the match is [NIH BLAST FAQs](https://blast.ncbi.nlm.nih.gov/Blast.cgi?CMD=Web&PAGE_TYPE=BlastDocs&DOC_TYPE=FAQ). "
      ],
      "metadata": {
        "id": "pEjloWKTqGb-"
      }
    },
    {
      "cell_type": "code",
      "source": [
        "distorted_bl21_excerpt = seq.NucleotideSequence(\n",
        "    \"CGGAAGCGCTCGGTCTCCTGGCCTTATCAGCCACTGCGCGACGATATGCTCGTCCGTTTCGAAGA\"\n",
        ")\n",
        "app = blast.BlastWebApp(\"blastn\", distorted_bl21_excerpt, obey_rules=False)\n",
        "app.set_max_expect_value(0.1)\n",
        "app.start()\n",
        "app.join()\n",
        "alignments = app.get_alignments()\n",
        "best_ali = alignments[0]\n",
        "print(best_ali)\n",
        "print()\n",
        "print(\"HSP position in query: \", best_ali.query_interval)\n",
        "print(\"HSP position in hit: \", best_ali.hit_interval)\n",
        "print(\"Score: \", best_ali.score)\n",
        "print(\"E-value: \", best_ali.e_value)\n",
        "print(\"Hit UID: \", best_ali.hit_id)\n",
        "print(\"Hit name: \", best_ali.hit_definition)"
      ],
      "metadata": {
        "colab": {
          "base_uri": "https://localhost:8080/"
        },
        "id": "MEMx8sGlqI6v",
        "outputId": "44ddf8a5-d8b9-4f8c-e454-e90662bafde3"
      },
      "execution_count": 119,
      "outputs": [
        {
          "output_type": "stream",
          "name": "stdout",
          "text": [
            "CGGAAGCGCTCGGTCTCCTGGCC---TTATCAGCCACTGCGCGACGATATGCTCGTCCGTTTCGAAGA\n",
            "CGGAAGCGCT-GGTC-CCTGCCCGCTTTATCAGGGAATGCGCGACGGCAAAATCGTCCGTTTCGAAGA\n",
            "\n",
            "HSP position in query:  (1, 65)\n",
            "HSP position in hit:  (4656858, 4656923)\n",
            "Score:  56\n",
            "E-value:  0.00600056\n",
            "Hit UID:  CP026845\n",
            "Hit name:  Shigella boydii strain NCTC 9733 chromosome, complete genome\n"
          ]
        }
      ]
    },
    {
      "cell_type": "markdown",
      "source": [
        "In this code we have set obey_rules to false in the BlastWebApp constructor, if we omitted this parameter and we started the last two code snippets in quick succession, a RuleViolationError would be raised. This is because normally the BlastWebApp respects NCBI’s code of conduct and prevents you from submitting two queries within one minute. If you want to be rude to the NCBI server, create the instance with obey_rules set to false.\n",
        "\n",
        "####**Multiple Sequence Alignments Software**\n",
        "\n",
        "For **multiple sequence alignments (MSAs)** biotite.application offers several interfaces to MSA software. For our example Biotite choose the software MUSCLE: The subpackage **biotite.application.muscle** contains the **class MuscleApp** that does the job. We simply input the sequences we want to have aligned, run the application and get the resulting Alignment object."
      ],
      "metadata": {
        "id": "nPcmHrGSrDtQ"
      }
    },
    {
      "cell_type": "code",
      "source": [
        " # Install Muscle\n",
        " ! conda install -c bioconda muscle"
      ],
      "metadata": {
        "colab": {
          "base_uri": "https://localhost:8080/"
        },
        "id": "ZC3PdV4n35U_",
        "outputId": "8b2051a4-d43f-4c70-b2ff-0ae5df7ba5f9"
      },
      "execution_count": 137,
      "outputs": [
        {
          "output_type": "stream",
          "name": "stdout",
          "text": [
            "Collecting package metadata (current_repodata.json): - \b\b\\ \b\b| \b\b/ \b\b- \b\b\\ \b\b| \b\b/ \b\b- \b\b\\ \b\b| \b\b/ \b\b- \b\b\\ \b\b| \b\b/ \b\b- \b\b\\ \b\b| \b\b/ \b\b- \b\b\\ \b\b| \b\bdone\n",
            "Solving environment: - \b\b\\ \b\b| \b\b/ \b\b- \b\b\\ \b\b| \b\b/ \b\b- \b\b\\ \b\b| \b\b/ \b\b- \b\b\\ \b\b| \b\b/ \b\b- \b\b\\ \b\b| \b\b/ \b\b- \b\bdone\n",
            "\n",
            "## Package Plan ##\n",
            "\n",
            "  environment location: /usr/local\n",
            "\n",
            "  added / updated specs:\n",
            "    - muscle\n",
            "\n",
            "\n",
            "The following packages will be downloaded:\n",
            "\n",
            "    package                    |            build\n",
            "    ---------------------------|-----------------\n",
            "    muscle-3.8.1551            |       h7d875b9_6         262 KB  bioconda\n",
            "    ------------------------------------------------------------\n",
            "                                           Total:         262 KB\n",
            "\n",
            "The following NEW packages will be INSTALLED:\n",
            "\n",
            "  muscle             bioconda/linux-64::muscle-3.8.1551-h7d875b9_6\n",
            "\n",
            "\n",
            "\n",
            "Downloading and Extracting Packages\n",
            "muscle-3.8.1551      | 262 KB    | : 100% 1.0/1 [00:00<00:00,  4.80it/s]                 \n",
            "Preparing transaction: | \b\bdone\n",
            "Verifying transaction: - \b\bdone\n",
            "Executing transaction: | \b\bdone\n"
          ]
        }
      ]
    },
    {
      "cell_type": "markdown",
      "source": [
        "####**MUltiple Sequence Comparison by Log- Expectation (MUSCLE)** \n",
        "\n",
        "MUSCLE is widely-used software [(GitHub)](https://github.com/rcedgar/muscle) for making multiple alignments of biological sequences. Version 5 of MUSCLE achieves highest scores on Balibase, Bralibase and Balifam benchmark tests and scales to thousands of sequences on a commodity desktop computer.\n",
        "\n",
        "This version supports generating an ensemble of alternative alignments with the same high accuracy obtained with default parameters. By comparing downstream predictions from different alignments, such as trees, a biologist can evaluation the robustness of conclusions against alignment errors.\n",
        "\n",
        "**References:**\n",
        "\n",
        "* Edgar, R.C. MUSCLE: a multiple sequence alignment method with reduced time and space complexity. BMC Bioinformatics 5, 113 (2004). https://doi.org/10.1186/1471-2105-5-113"
      ],
      "metadata": {
        "id": "m-RAx0gwvYdl"
      }
    },
    {
      "cell_type": "code",
      "source": [
        "import biotite.application.muscle as muscle\n",
        "import biotite.sequence as seq"
      ],
      "metadata": {
        "id": "AFVvCKL6rMOc"
      },
      "execution_count": 138,
      "outputs": []
    },
    {
      "cell_type": "code",
      "source": [
        "seq1 = seq.ProteinSequence(\"BIQTITE\")\n",
        "seq2 = seq.ProteinSequence(\"TITANITE\")\n",
        "seq3 = seq.ProteinSequence(\"BISMITE\")\n",
        "seq4 = seq.ProteinSequence(\"IQLITE\")\n",
        "app = muscle.MuscleApp([seq1, seq2, seq3, seq4])\n",
        "app.start()\n",
        "app.join()\n",
        "alignment = app.get_alignment()\n",
        "print(alignment)"
      ],
      "metadata": {
        "colab": {
          "base_uri": "https://localhost:8080/"
        },
        "id": "1tjndfY34NNY",
        "outputId": "a0762649-274a-4cf6-a50d-4557bec09b99"
      },
      "execution_count": 139,
      "outputs": [
        {
          "output_type": "stream",
          "name": "stdout",
          "text": [
            "BIQT-ITE\n",
            "TITANITE\n",
            "BISM-ITE\n",
            "-IQL-ITE\n"
          ]
        }
      ]
    },
    {
      "cell_type": "markdown",
      "source": [
        "In most MSA software even more information than the mere alignment can be extracted. For instance the guide tree, that was used for the alignment, can be obtained from the MUSCLE output."
      ],
      "metadata": {
        "id": "ps6NBmO8qQg4"
      }
    },
    {
      "cell_type": "code",
      "source": [
        "import biotite.sequence.graphics as graphics\n",
        "\n",
        "tree = app.get_guide_tree()\n",
        "fig, ax = plt.subplots()\n",
        "graphics.plot_dendrogram(\n",
        "    ax, tree, labels=[str(sequence) for sequence in [seq1, seq2, seq3, seq4]]\n",
        ")\n",
        "ax.set_xlabel(\"Distance\")\n",
        "fig.tight_layout()"
      ],
      "metadata": {
        "colab": {
          "base_uri": "https://localhost:8080/",
          "height": 297
        },
        "id": "25pOblHlqLoy",
        "outputId": "5b3cf5c7-ff96-4a49-d685-a1fbae65adda"
      },
      "execution_count": 140,
      "outputs": [
        {
          "output_type": "display_data",
          "data": {
            "text/plain": [
              "<Figure size 432x288 with 1 Axes>"
            ],
            "image/png": "[encoded data removed]"
          },
          "metadata": {
            "needs_background": "light"
          }
        }
      ]
    },
    {
      "cell_type": "markdown",
      "source": [
        "The alternatives to MUSCLE are Clustal-Omega and MAFFT. To use them, simply replace MuscleApp with ClustalOmegaApp or MafftApp."
      ],
      "metadata": {
        "id": "QSi6yT-4qVj7"
      }
    },
    {
      "cell_type": "code",
      "source": [
        " ! conda install -c bioconda clustalo "
      ],
      "metadata": {
        "colab": {
          "base_uri": "https://localhost:8080/"
        },
        "id": "o5PyImAO2_aw",
        "outputId": "8300f993-e612-4f70-e313-925c08317983"
      },
      "execution_count": 136,
      "outputs": [
        {
          "output_type": "stream",
          "name": "stdout",
          "text": [
            "Collecting package metadata (current_repodata.json): - \b\b\\ \b\b| \b\b/ \b\b- \b\b\\ \b\b| \b\b/ \b\b- \b\b\\ \b\b| \b\b/ \b\b- \b\b\\ \b\b| \b\b/ \b\b- \b\b\\ \b\b| \b\b/ \b\b- \b\b\\ \b\b| \b\b/ \b\b- \b\b\\ \b\bdone\n",
            "Solving environment: / \b\b- \b\b\\ \b\b| \b\b/ \b\b- \b\b\\ \b\b| \b\b/ \b\b- \b\b\\ \b\b| \b\b/ \b\b- \b\b\\ \b\b| \b\b/ \b\b- \b\b\\ \b\b| \b\b/ \b\bdone\n",
            "\n",
            "## Package Plan ##\n",
            "\n",
            "  environment location: /usr/local\n",
            "\n",
            "  added / updated specs:\n",
            "    - clustalo\n",
            "\n",
            "\n",
            "The following packages will be downloaded:\n",
            "\n",
            "    package                    |            build\n",
            "    ---------------------------|-----------------\n",
            "    argtable2-2.13             |    h14c3975_1001         2.7 MB  conda-forge\n",
            "    clustalo-1.2.4             |       h1b792b2_4         313 KB  bioconda\n",
            "    ------------------------------------------------------------\n",
            "                                           Total:         3.0 MB\n",
            "\n",
            "The following NEW packages will be INSTALLED:\n",
            "\n",
            "  argtable2          conda-forge/linux-64::argtable2-2.13-h14c3975_1001\n",
            "  clustalo           bioconda/linux-64::clustalo-1.2.4-h1b792b2_4\n",
            "\n",
            "\n",
            "\n",
            "Downloading and Extracting Packages\n",
            "argtable2-2.13       | 2.7 MB    | : 100% 1.0/1 [00:00<00:00,  1.55it/s]\n",
            "clustalo-1.2.4       | 313 KB    | : 100% 1.0/1 [00:00<00:00,  8.08it/s]\n",
            "Preparing transaction: \\ \b\bdone\n",
            "Verifying transaction: / \b\bdone\n",
            "Executing transaction: \\ \b\bdone\n"
          ]
        }
      ]
    },
    {
      "cell_type": "markdown",
      "source": [
        "####**CLUSTAL-OMEGA** \n",
        "\n",
        "[CLUSTAL-OMEGA](http://www.clustal.org/) is a general purpose multiple sequence alignment program for protein and DNA/RNA.\n",
        "\n",
        "**References:**\n",
        "* Sievers F, Wilm A, Dineen D, Gibson TJ, Karplus K, Li W, Lopez R, McWilliam H, Remmert M, Söding J, Thompson JD, Higgins DG.  Fast, scalable generation of high-quality protein multiple sequence alignments using Clustal Omega.  Mol Syst Biol. 2011 Oct 11;7:539. doi: 10.1038/msb.2011.75. PMID: 21988835."
      ],
      "metadata": {
        "id": "_YzJIevAxD21"
      }
    },
    {
      "cell_type": "code",
      "source": [
        "import biotite.application.clustalo as clustalo\n",
        "\n",
        "alignment = clustalo.ClustalOmegaApp.align([seq1, seq2, seq3, seq4])\n",
        "print(alignment)"
      ],
      "metadata": {
        "colab": {
          "base_uri": "https://localhost:8080/"
        },
        "id": "WMRzfvzWqU_n",
        "outputId": "fb5f9c15-24fc-43b4-bea2-f3bfabc8dc76"
      },
      "execution_count": 141,
      "outputs": [
        {
          "output_type": "stream",
          "name": "stdout",
          "text": [
            "-BIQTITE\n",
            "TITANITE\n",
            "-BISMITE\n",
            "--IQLITE\n"
          ]
        }
      ]
    },
    {
      "cell_type": "markdown",
      "source": [
        "As shown in the output, the alignment with Clustal-Omega slightly differs from the one performed with MUSCLE.\n",
        "\n",
        "If the MSA software supports protein sequence alignment AND custom substitution matrices, e.g. MUSCLE and MAFFT, almost any type of sequence can be aligned: Internally the sequences and the matrix are converted into protein sequences/matrix. Then the masquerading sequences are aligned via the software and finally the sequences are mapped back into the original sequence type. Let’s show this on the example of a nonsense alphabet."
      ],
      "metadata": {
        "id": "kqUAslzmuvvN"
      }
    },
    {
      "cell_type": "code",
      "source": [
        " ! conda install -c bioconda mafft"
      ],
      "metadata": {
        "colab": {
          "base_uri": "https://localhost:8080/"
        },
        "id": "l55kkQaqyMQM",
        "outputId": "5f4c952d-7ea0-45d3-bb36-82aebe3f87c6"
      },
      "execution_count": 144,
      "outputs": [
        {
          "output_type": "stream",
          "name": "stdout",
          "text": [
            "Collecting package metadata (current_repodata.json): - \b\b\\ \b\b| \b\b/ \b\b- \b\b\\ \b\b| \b\b/ \b\b- \b\b\\ \b\b| \b\b/ \b\b- \b\b\\ \b\b| \b\b/ \b\b- \b\b\\ \b\b| \b\b/ \b\b- \b\b\\ \b\b| \b\b/ \b\b- \b\b\\ \b\b| \b\b/ \b\b- \b\b\\ \b\b| \b\b/ \b\b- \b\b\\ \b\b| \b\b/ \b\b- \b\b\\ \b\b| \b\b/ \b\b- \b\b\\ \b\b| \b\b/ \b\b- \b\b\\ \b\b| \b\b/ \b\b- \b\b\\ \b\b| \b\b/ \b\b- \b\b\\ \b\b| \b\b/ \b\b- \b\b\\ \b\b| \b\b/ \b\b- \b\b\\ \b\b| \b\b/ \b\b- \b\b\\ \b\b| \b\b/ \b\b- \b\b\\ \b\b| \b\b/ \b\b- \b\b\\ \b\b| \b\b/ \b\b- \b\b\\ \b\b| \b\b/ \b\b- \b\b\\ \b\b| \b\b/ \b\b- \b\b\\ \b\b| \b\b/ \b\b- \b\b\\ \b\b| \b\b/ \b\b- \b\b\\ \b\b| \b\b/ \b\b- \b\b\\ \b\b| \b\b/ \b\b- \b\b\\ \b\b| \b\b/ \b\b- \b\b\\ \b\b| \b\b/ \b\b- \b\b\\ \b\b| \b\b/ \b\b- \b\b\\ \b\b| \b\b/ \b\b- \b\b\\ \b\b| \b\b/ \b\b- \b\b\\ \b\b| \b\b/ \b\b- \b\b\\ \b\b| \b\b/ \b\b- \b\b\\ \b\b| \b\b/ \b\b- \b\b\\ \b\b| \b\b/ \b\b- \b\b\\ \b\b| \b\b/ \b\b- \b\b\\ \b\b| \b\b/ \b\b- \b\b\\ \b\b| \b\b/ \b\b- \b\b\\ \b\b| \b\b/ \b\b- \b\b\\ \b\b| \b\b/ \b\b- \b\b\\ \b\b| \b\b/ \b\b- \b\b\\ \b\b| \b\b/ \b\b- \b\b\\ \b\b| \b\b/ \b\b- \b\b\\ \b\b| \b\b/ \b\b- \b\b\\ \b\bdone\n",
            "Solving environment: / \b\b- \b\b\\ \b\b| \b\b/ \b\b- \b\b\\ \b\b| \b\b/ \b\b- \b\b\\ \b\b| \b\b/ \b\b- \b\b\\ \b\b| \b\b/ \b\b- \b\b\\ \b\b| \b\b/ \b\b- \b\b\\ \b\bdone\n",
            "\n",
            "## Package Plan ##\n",
            "\n",
            "  environment location: /usr/local\n",
            "\n",
            "  added / updated specs:\n",
            "    - mafft\n",
            "\n",
            "\n",
            "The following packages will be downloaded:\n",
            "\n",
            "    package                    |            build\n",
            "    ---------------------------|-----------------\n",
            "    mafft-7.310                |       h1b792b2_4         2.7 MB  bioconda\n",
            "    ------------------------------------------------------------\n",
            "                                           Total:         2.7 MB\n",
            "\n",
            "The following NEW packages will be INSTALLED:\n",
            "\n",
            "  mafft              bioconda/linux-64::mafft-7.310-h1b792b2_4\n",
            "\n",
            "\n",
            "\n",
            "Downloading and Extracting Packages\n",
            "mafft-7.310          | 2.7 MB    | : 100% 1.0/1 [00:01<00:00,  1.00s/it]\n",
            "Preparing transaction: / \b\bdone\n",
            "Verifying transaction: \\ \b\bdone\n",
            "Executing transaction: / \b\bdone\n"
          ]
        }
      ]
    },
    {
      "cell_type": "markdown",
      "source": [
        "####**Multiple Alignment using Fast Fourier Transform (MAFFT)**  \n",
        "\n",
        "[MAFFT](https://github.com/GSLBiotech/mafft) is used to create high speed multiple sequence alignments of amino acid or nucleotide sequences. Published in 2002, the first version of MAFFT used an algorithm based on progressive alignment, in which the sequences were clustered with the help of the Fast Fourier Transform. Subsequent versions of MAFFT have added other algorithms and modes of operation, including options for faster alignment of large numbers of sequences, higher accuracy alignments, alignment of non-coding RNA sequences, and the addition of new sequences to existing alignments.\n",
        "\n",
        "**References:**\n",
        "* Kazutaka Katoh, Kazuharu Misawa, Kei‐ichi Kuma, Takashi Miyata, MAFFT: a novel method for rapid multiple sequence alignment based on fast Fourier transform, Nucleic Acids Research, Volume 30, Issue 14, 15 July 2002, Pages 3059–3066, https://doi.org/10.1093/nar/gkf436 "
      ],
      "metadata": {
        "id": "_DIGbjAMynRg"
      }
    },
    {
      "cell_type": "code",
      "source": [
        "import biotite.application.mafft as mafft"
      ],
      "metadata": {
        "id": "oeP_jLh8yB7Q"
      },
      "execution_count": 145,
      "outputs": []
    },
    {
      "cell_type": "code",
      "source": [
        "import biotite.sequence.align as align\n",
        "\n",
        "alphabet = seq.Alphabet((\"foo\", \"bar\", 42))\n",
        "sequences = [seq.GeneralSequence(alphabet, sequence) for sequence in [\n",
        "    [\"foo\", \"bar\", 42, \"foo\", \"foo\", 42, 42],\n",
        "    [\"foo\", 42, \"foo\", \"bar\", \"foo\", 42, 42],\n",
        "]]\n",
        "matrix = align.SubstitutionMatrix(\n",
        "    alphabet, alphabet, np.array([\n",
        "        [ 100, -100, -100],\n",
        "        [-100,  100, -100],\n",
        "        [-100, -100,  100]\n",
        "    ])\n",
        ")\n",
        "alignment = mafft.MafftApp.align(sequences, matrix=matrix)\n",
        "# As the alphabet do not has characters as symbols\n",
        "# the alignment cannot be directly printed\n",
        "# However, we can print the trace\n",
        "print(alignment.trace)"
      ],
      "metadata": {
        "colab": {
          "base_uri": "https://localhost:8080/"
        },
        "id": "McQaC98QyJ56",
        "outputId": "5a789b61-e69b-4281-f9f2-32cdac29c0fa"
      },
      "execution_count": 146,
      "outputs": [
        {
          "output_type": "stream",
          "name": "stdout",
          "text": [
            "[[ 0  0]\n",
            " [ 1 -1]\n",
            " [ 2  1]\n",
            " [ 3  2]\n",
            " [-1  3]\n",
            " [ 4  4]\n",
            " [ 5  5]\n",
            " [ 6  6]]\n"
          ]
        }
      ]
    },
    {
      "cell_type": "markdown",
      "source": [
        "###**Secondary structure annotation**\n",
        "\n",
        "Althogh biotite.structure offers the function annotate_sse() to assign secondary structure elements based on the P-SEA algorithm, DSSP can also be used via the biotite.application.dssp subpackage (provided that DSSP is installed). Let us demonstrate this on the example of miniprotein TC5b.\n",
        "\n",
        "####**DSSP**\n",
        "\n",
        "DSSP standardises secondary structure assignment. DSSP defines secondary structure, geometrical features and solvent exposure of proteins, given atomic coordinates in Protein Data Bank format (PDB) or macromolecular Crystallographic Information File format (mmCIF).  \n",
        "\n",
        "It is a database of secondary structure assignments (and much more) for all protein entries in the Protein Data Bank (PDB). DSSP is also the name of the program that calculates DSSP entries from PDB entries. It means there are actually two ways of looking at DSSP. First of all there are the precalculated DSSP files for each PDB entry, and then there's the application called DSSP that can create these files.\n",
        "\n",
        "**Theory**: DSSP program works by calculating the most likely secondary structure assignment given the 3D structure of a protein. It does this by reading the position of the atoms in a protein followed by calculation of the H-bond energy between all atoms. \n",
        "\n",
        "The algorithm will discard any hydrogens present in the input structure and calculates the optimal hydrogen positions by placing them at 1.000 Å from the backbone N in the opposite direction from the backbone C=O bond. The best two H-bonds for each atom are then used to determine the most likely class of secondary structure for each residue in the protein. \n",
        "\n",
        "It means we do need to have a full and valid 3D structure for a protein to be able to calculate the secondary structure. DSSP does not predict secondary structures, it just extracts this information from the 3D coordinates."
      ],
      "metadata": {
        "id": "VBuEUC3q0Wlq"
      }
    },
    {
      "cell_type": "code",
      "source": [
        "! conda install -c salilab dssp"
      ],
      "metadata": {
        "colab": {
          "base_uri": "https://localhost:8080/"
        },
        "id": "VL6_YtBc01U4",
        "outputId": "ae20b032-8198-41ca-c1e8-9568d4660821"
      },
      "execution_count": 158,
      "outputs": [
        {
          "output_type": "stream",
          "name": "stdout",
          "text": [
            "Collecting package metadata (current_repodata.json): - \b\b\\ \b\b| \b\b/ \b\b- \b\b\\ \b\b| \b\b/ \b\b- \b\b\\ \b\b| \b\b/ \b\b- \b\b\\ \b\b| \b\b/ \b\b- \b\b\\ \b\b| \b\b/ \b\b- \b\b\\ \b\b| \b\b/ \b\b- \b\bdone\n",
            "Solving environment: | \b\b/ \b\b- \b\b\\ \b\b| \b\b/ \b\b- \b\b\\ \b\b| \b\b/ \b\b- \b\b\\ \b\b| \b\b/ \b\b- \b\b\\ \b\b| \b\b/ \b\b- \b\b\\ \b\b| \b\b/ \b\b- \b\b\\ \b\b| \b\b/ \b\b- \b\b\\ \b\b| \b\b/ \b\b- \b\b\\ \b\b| \b\b/ \b\b- \b\b\\ \b\b| \b\b/ \b\b- \b\b\\ \b\b| \b\b/ \b\b- \b\b\\ \b\b| \b\b/ \b\b- \b\b\\ \b\b| \b\b/ \b\b- \b\b\\ \b\b| \b\b/ \b\b- \b\b\\ \b\b| \b\b/ \b\b- \b\b\\ \b\b| \b\b/ \b\b- \b\b\\ \b\b| \b\b/ \b\b- \b\b\\ \b\b| \b\b/ \b\b- \b\b\\ \b\b| \b\b/ \b\b- \b\b\\ \b\b| \b\b/ \b\b- \b\b\\ \b\b| \b\b/ \b\b- \b\b\\ \b\b| \b\b/ \b\b- \b\b\\ \b\b| \b\b/ \b\b- \b\b\\ \b\b| \b\b/ \b\b- \b\b\\ \b\b| \b\b/ \b\b- \b\b\\ \b\b| \b\b/ \b\b- \b\b\\ \b\b| \b\b/ \b\b- \b\b\\ \b\b| \b\b/ \b\b- \b\b\\ \b\b| \b\b/ \b\b- \b\b\\ \b\b| \b\b/ \b\b- \b\b\\ \b\b| \b\b/ \b\b- \b\b\\ \b\b| \b\b/ \b\b- \b\b\\ \b\b| \b\b/ \b\b- \b\b\\ \b\b| \b\b/ \b\b- \b\b\\ \b\b| \b\b/ \b\b- \b\b\\ \b\b| \b\b/ \b\b- \b\b\\ \b\bfailed with initial frozen solve. Retrying with flexible solve.\n",
            "Solving environment: / \b\b- \b\b\\ \b\b| \b\b/ \b\b- \b\b\\ \b\b| \b\b/ \b\b- \b\b\\ \b\b| \b\b/ \b\b- \b\b\\ \b\b| \b\b/ \b\b- \b\b\\ \b\b| \b\b/ \b\b- \b\b\\ \b\b| \b\b/ \b\b- \b\b\\ \b\b| \b\b/ \b\b- \b\b\\ \b\b| \b\b/ \b\b- \b\b\\ \b\b| \b\b/ \b\b- \b\b\\ \b\b| \b\b/ \b\b- \b\b\\ \b\b| \b\b/ \b\b- \b\b\\ \b\b| \b\b/ \b\b- \b\b\\ \b\b| \b\b/ \b\b- \b\b\\ \b\b| \b\b/ \b\b- \b\b\\ \b\b| \b\b/ \b\b- \b\b\\ \b\bfailed with repodata from current_repodata.json, will retry with next repodata source.\n",
            "\n",
            "ResolvePackageNotFound: \n",
            "  - conda==4.9.2\n",
            "\n"
          ]
        }
      ]
    }
  ]
}
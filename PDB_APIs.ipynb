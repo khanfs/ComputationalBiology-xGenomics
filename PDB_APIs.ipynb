{
  "nbformat": 4,
  "nbformat_minor": 0,
  "metadata": {
    "colab": {
      "name": "PDB-APIs.ipynb",
      "provenance": [],
      "authorship_tag": "ABX9TyNO/hPU7ofl4KqeHmJJuC/C",
      "include_colab_link": true
    },
    "kernelspec": {
      "name": "python3",
      "display_name": "Python 3"
    },
    "language_info": {
      "name": "python"
    }
  },
  "cells": [
    {
      "cell_type": "markdown",
      "metadata": {
        "id": "view-in-github",
        "colab_type": "text"
      },
      "source": [
        "<a href=\"https://colab.research.google.com/github/khanfs/ComputationalBiology-xGenomics/blob/main/PDB_APIs.ipynb\" target=\"_parent\"><img src=\"https://colab.research.google.com/assets/colab-badge.svg\" alt=\"Open In Colab\"/></a>"
      ]
    },
    {
      "cell_type": "markdown",
      "source": [
        "# **Protein Data Bank APIs**\n",
        "\n",
        "The RCSB Protein Data Bank is a structural biology database consisting of 3D structures of proteins, nucleic acids and complex assemblies. Experiments comprising X-ray crystallography, the most common method, nuclear magnetic resonance (NMR), and cryo-electron microscopy (cryo-EM) generate structural data. Each entry contains:\n",
        "\n",
        "1. the 3D coordinates of the atoms and the bonds connecting these atoms for proteins, ligand, cofactors, water molecules, and ions\n",
        "2. 3D visualisations of the protein structures, with ligand interactions if available\n",
        "3. meta-information on the structural data such as the PDB ID, the authors, the deposition date, the structural determination method used\n",
        "4. structural quality metrics - structural resolution - it measures the collected data quality, which has the unit Å (Angstrom); the lower the value, the higher the quality of the structure.\n",
        "\n",
        "**Resources**\n",
        "* [Primary PyPDB functions](https://academic.oup.com/view-large/35641249)\n",
        "* [Functions for searching the RCSB PDB for lists of PDB IDs](https://github.com/williamgilpin/pypdb/blob/master/pypdb/pypdb.py)\n",
        "\n",
        "**Publications:**\n",
        "\n",
        "*  [PyPDB: a Python API for the Protein Data Bank](https://academic.oup.com/bioinformatics/article/32/1/159/1743800) "
      ],
      "metadata": {
        "id": "cRC8kBlspi5c"
      }
    },
    {
      "cell_type": "code",
      "execution_count": 1,
      "metadata": {
        "colab": {
          "base_uri": "https://localhost:8080/"
        },
        "id": "k0cBHGjcpQJL",
        "outputId": "6ec80a0b-5d5b-4ded-8236-6e8523153256"
      },
      "outputs": [
        {
          "output_type": "stream",
          "name": "stdout",
          "text": [
            "Looking in indexes: https://pypi.org/simple, https://us-python.pkg.dev/colab-wheels/public/simple/\n",
            "Requirement already satisfied: pypdb in /usr/local/lib/python3.7/dist-packages (2.1)\n",
            "Requirement already satisfied: requests in /usr/local/lib/python3.7/dist-packages (from pypdb) (2.23.0)\n",
            "Requirement already satisfied: urllib3!=1.25.0,!=1.25.1,<1.26,>=1.21.1 in /usr/local/lib/python3.7/dist-packages (from requests->pypdb) (1.24.3)\n",
            "Requirement already satisfied: idna<3,>=2.5 in /usr/local/lib/python3.7/dist-packages (from requests->pypdb) (2.10)\n",
            "Requirement already satisfied: chardet<4,>=3.0.2 in /usr/local/lib/python3.7/dist-packages (from requests->pypdb) (3.0.4)\n",
            "Requirement already satisfied: certifi>=2017.4.17 in /usr/local/lib/python3.7/dist-packages (from requests->pypdb) (2022.6.15)\n"
          ]
        }
      ],
      "source": [
        "# Install PDB API\n",
        "! pip install pypdb"
      ]
    },
    {
      "cell_type": "code",
      "source": [
        "! pytest"
      ],
      "metadata": {
        "colab": {
          "base_uri": "https://localhost:8080/"
        },
        "id": "p23Qb-gbpuVW",
        "outputId": "8e063414-e294-40ae-d7eb-f7d7ff542979"
      },
      "execution_count": 2,
      "outputs": [
        {
          "output_type": "stream",
          "name": "stdout",
          "text": [
            "\u001b[1m============================= test session starts ==============================\u001b[0m\n",
            "platform linux -- Python 3.7.13, pytest-3.6.4, py-1.11.0, pluggy-0.7.1\n",
            "rootdir: /content, inifile:\n",
            "plugins: typeguard-2.7.1\n",
            "\u001b[1m\rcollecting 0 items                                                             \u001b[0m\u001b[1m\rcollected 0 items                                                              \u001b[0m\n",
            "\n",
            "\u001b[33m\u001b[1m========================= no tests ran in 0.00 seconds =========================\u001b[0m\n"
          ]
        }
      ]
    },
    {
      "cell_type": "code",
      "source": [
        "from IPython.display import HTML"
      ],
      "metadata": {
        "id": "C-sZP4_OqaTe"
      },
      "execution_count": 3,
      "outputs": []
    },
    {
      "cell_type": "code",
      "source": [
        "# (*) will import every function from the pydb package\n",
        "from pypdb import *"
      ],
      "metadata": {
        "id": "Ue6lEedTqcc5"
      },
      "execution_count": 4,
      "outputs": []
    },
    {
      "cell_type": "code",
      "source": [
        "#Return list of proteins based on search query\n",
        "found_pdbs = Query(\"ribosome\").search()\n",
        "print(found_pdbs[:10])"
      ],
      "metadata": {
        "colab": {
          "base_uri": "https://localhost:8080/"
        },
        "id": "T71AXMfVqprN",
        "outputId": "25792549-4445-4df4-faca-676037b524d9"
      },
      "execution_count": 8,
      "outputs": [
        {
          "output_type": "stream",
          "name": "stdout",
          "text": [
            "['486D', '6C0F', '6CB1', '1T1O', '6EM1', '1T1M', '7OHS', '1QI7', '6YLX', '6EM5']\n"
          ]
        }
      ]
    },
    {
      "cell_type": "code",
      "source": [
        "# Search PDB by PubMed ID Number\n",
        "found_pdbs = Query(27499440, \"PubmedIdQuery\").search()\n",
        "print(found_pdbs[:10])"
      ],
      "metadata": {
        "colab": {
          "base_uri": "https://localhost:8080/"
        },
        "id": "oy3ELlLoq0PL",
        "outputId": "9fe5f868-75ca-4d58-b363-b1bcee657c7f"
      },
      "execution_count": 7,
      "outputs": [
        {
          "output_type": "stream",
          "name": "stdout",
          "text": [
            "['5IMT', '5IMW', '5IMY']\n"
          ]
        }
      ]
    },
    {
      "cell_type": "code",
      "source": [
        ""
      ],
      "metadata": {
        "id": "T96sWNyevBNf"
      },
      "execution_count": null,
      "outputs": []
    }
  ]
}
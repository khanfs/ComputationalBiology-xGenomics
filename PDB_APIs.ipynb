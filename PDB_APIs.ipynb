{
  "nbformat": 4,
  "nbformat_minor": 0,
  "metadata": {
    "colab": {
      "name": "PDB-APIs.ipynb",
      "provenance": [],
      "authorship_tag": "ABX9TyPBhBilN6CNAgLqogC0HQNT",
      "include_colab_link": true
    },
    "kernelspec": {
      "name": "python3",
      "display_name": "Python 3"
    },
    "language_info": {
      "name": "python"
    }
  },
  "cells": [
    {
      "cell_type": "markdown",
      "metadata": {
        "id": "view-in-github",
        "colab_type": "text"
      },
      "source": [
        "<a href=\"https://colab.research.google.com/github/khanfs/ComputationalBiology-xGenomics/blob/main/PDB_APIs.ipynb\" target=\"_parent\"><img src=\"https://colab.research.google.com/assets/colab-badge.svg\" alt=\"Open In Colab\"/></a>"
      ]
    },
    {
      "cell_type": "markdown",
      "source": [
        "# **Protein Data Bank APIs**\n",
        "PyPDB and Biotite packages provide Protein Data Bank (PDB) APIs. Outlined is code to install them and examples of querying the PDB - using Biotite to filter structures by given criteria and PyPDB to download metadata and structural files. \n",
        "### **Research Collaboratory for Structural Bioinformatics PDB**\n",
        "The [RCSB Protein Data Bank](https://www.rcsb.org/) is a structural biology database consisting of 3D structures of proteins, nucleic acids and [complex assemblies](https://www.ebi.ac.uk/QuickGO/term/GO:0034622). Experiments comprising *X-ray crystallography*, the de facto method for decades, *nuclear magnetic resonance (NMR)*, and *cryo-electron microscopy (cryo-EM)* generate structural data. cryo-EM is rapidly replacing X-ray crystallography, which is over a century old. PDB contains over **160,000 protein structures**. Each entry contains:\n",
        "\n",
        "1. 3D coordinates of the atoms and the bonds connecting these atoms for proteins, ligand, cofactors, water molecules, and ions\n",
        "2. 3D visualisations of the protein structures, with ligand interactions if available\n",
        "3. meta-information on the structural data, e.g.'s, the PDB ID, the authors, the deposition date, the structural determination method used\n",
        "4. structural quality metrics - structural resolution - it measures the collected data quality, which has the unit Å (Angstrom); the lower the value, the higher the quality of the structure.\n",
        "\n",
        "**Resources:**\n",
        "* [PDB Meta-information list of fields for chemicals](https://search.rcsb.org/chemical-search-attributes.html)\n",
        "* [PDB Meta-information list of fields for structures](https://search.rcsb.org/structure-search-attributes.html) \n",
        "\n",
        "**References:**\n",
        "* Rose, P. W., Prlić, A., Altunkaya, A., Bi, C., Bradley, A. R., Christie, C. H., Costanzo, L. D., Duarte, J. M., Dutta, S., Feng, Z., Green, R. K., Goodsell, D. S., Hudson, B., Kalro, T., Lowe, R., Peisach, E., Randle, C., Rose, A. S., Shao, C., Tao, Y. P., … Burley, S. K. (2017). The RCSB protein data bank: integrative view of protein, gene and 3D structural information. Nucleic acids research, 45(D1), D271–D281. [https://doi.org/10.1093/nar/gkw1000](https://www.ncbi.nlm.nih.gov/pmc/articles/PMC5210513/)\n",
        "* Berman, H. M., Westbrook, J., Feng, Z., Gilliland, G., Bhat, T. N., Weissig, H., Shindyalov, I. N., & Bourne, P. E. (2000). The Protein Data Bank. Nucleic acids research, 28(1), 235–242. [https://doi.org/10.1093/nar/28.1.235](https://www.ncbi.nlm.nih.gov/pmc/articles/PMC102472/)"
      ],
      "metadata": {
        "id": "RWJUqZSUtn6O"
      }
    },
    {
      "cell_type": "code",
      "execution_count": 1,
      "metadata": {
        "id": "OG803SFstkfe"
      },
      "outputs": [],
      "source": [
        "# Install Conda environment\n",
        "! pip install -q condacolab"
      ]
    },
    {
      "cell_type": "code",
      "source": [
        "import condacolab\n",
        "condacolab.install()"
      ],
      "metadata": {
        "colab": {
          "base_uri": "https://localhost:8080/"
        },
        "id": "ttZwLFwKt6R-",
        "outputId": "9e94c595-74d2-4f83-d7a3-92c4ecd2885c"
      },
      "execution_count": 2,
      "outputs": [
        {
          "output_type": "stream",
          "name": "stdout",
          "text": [
            "✨🍰✨ Everything looks OK!\n"
          ]
        }
      ]
    },
    {
      "cell_type": "code",
      "source": [
        "import pandas as pd\n",
        "import matplotlib as mpl\n",
        "import matplotlib.pyplot as plt\n",
        "import numpy as np"
      ],
      "metadata": {
        "id": "SfHXPEyK4nbh"
      },
      "execution_count": 33,
      "outputs": []
    },
    {
      "cell_type": "markdown",
      "source": [
        "# **1. PyPDB**\n",
        "PyPDB can search the PDB by keyword, author, publication date and experimental method, as well as by specific sequence motifs. For individual PDB IDs, retrievable information ranges from metadata (date of posting, authors, etc.) to the full. pdb data file stored with an entry. Standard information such as gene ontology, ligand information and protein family information can be accessed. PyPDB can also perform BLAST searches (Gilpin, 2016). The Python package pypdb offers an interface for the PDB to not only query for PDB IDs but also to download associated metadata and structural files. \n",
        "\n",
        "**Resources:**\n",
        "\n",
        "* [Primary PyPDB functions](https://academic.oup.com/view-large/35641249)\n",
        "* [Functions for searching the RCSB PDB for lists of PDB IDs](https://github.com/williamgilpin/pypdb/blob/master/pypdb/pypdb.py)\n",
        "\n",
        "**References:**\n",
        "\n",
        "*  William Gilpin, PyPDB: a Python API for the Protein Data Bank, Bioinformatics, Volume 32, Issue 1, 1 January 2016, Pages 159–160, [https://doi.org/10.1093/bioinformatics/btv543](https://academic.oup.com/bioinformatics/article/32/1/159/1743800) "
      ],
      "metadata": {
        "id": "VLykQL8uuOfF"
      }
    },
    {
      "cell_type": "code",
      "source": [
        "# Install PyPDB \n",
        "! pip install pypdb"
      ],
      "metadata": {
        "colab": {
          "base_uri": "https://localhost:8080/"
        },
        "id": "ye5F2MdduG-F",
        "outputId": "bed6a4da-203d-4e16-99be-64c4c3861b70"
      },
      "execution_count": 4,
      "outputs": [
        {
          "output_type": "stream",
          "name": "stdout",
          "text": [
            "Looking in indexes: https://pypi.org/simple, https://us-python.pkg.dev/colab-wheels/public/simple/\n",
            "Requirement already satisfied: pypdb in /usr/local/lib/python3.7/site-packages (2.1)\n",
            "Requirement already satisfied: requests in /usr/local/lib/python3.7/site-packages (from pypdb) (2.25.1)\n",
            "Requirement already satisfied: chardet<5,>=3.0.2 in /usr/local/lib/python3.7/site-packages (from requests->pypdb) (4.0.0)\n",
            "Requirement already satisfied: certifi>=2017.4.17 in /usr/local/lib/python3.7/site-packages (from requests->pypdb) (2020.12.5)\n",
            "Requirement already satisfied: idna<3,>=2.5 in /usr/local/lib/python3.7/site-packages (from requests->pypdb) (2.10)\n",
            "Requirement already satisfied: urllib3<1.27,>=1.21.1 in /usr/local/lib/python3.7/site-packages (from requests->pypdb) (1.26.3)\n"
          ]
        }
      ]
    },
    {
      "cell_type": "code",
      "source": [
        "! pytest"
      ],
      "metadata": {
        "colab": {
          "base_uri": "https://localhost:8080/"
        },
        "id": "AAtlJByTuVRh",
        "outputId": "b0afd60e-65f0-44fd-aba8-4fec06556248"
      },
      "execution_count": 5,
      "outputs": [
        {
          "output_type": "stream",
          "name": "stdout",
          "text": [
            "\u001b[1m============================= test session starts ==============================\u001b[0m\n",
            "platform linux -- Python 3.7.13, pytest-3.6.4, py-1.11.0, pluggy-0.7.1\n",
            "rootdir: /content, inifile:\n",
            "plugins: typeguard-2.7.1\n",
            "\u001b[1m\rcollecting 0 items                                                             \u001b[0m\u001b[1m\rcollected 0 items                                                              \u001b[0m\n",
            "\n",
            "\u001b[33m\u001b[1m========================= no tests ran in 0.00 seconds =========================\u001b[0m\n"
          ]
        }
      ]
    },
    {
      "cell_type": "markdown",
      "source": [
        "## **PyPDB Functions**\n",
        "\n",
        "There are generally 3 types of functions:\n",
        "\n",
        "* Functions that perform searches and return lists of PDB IDs\n",
        "* Functions that get information about specific PDB IDs\n",
        "* Other general-purpose lookup functions"
      ],
      "metadata": {
        "id": "7BBWaF6DvIBh"
      }
    },
    {
      "cell_type": "code",
      "source": [
        "# (*) will import every function from the pydb package\n",
        "from pypdb import *"
      ],
      "metadata": {
        "id": "nTiA6iPzubc_"
      },
      "execution_count": 6,
      "outputs": []
    },
    {
      "cell_type": "markdown",
      "source": [
        "### 1. Get a list of PDBs for a specific search term"
      ],
      "metadata": {
        "id": "BLVJhzWivn3K"
      }
    },
    {
      "cell_type": "code",
      "source": [
        "found_pdbs = Query('ACE2').search()\n",
        "print(found_pdbs)"
      ],
      "metadata": {
        "colab": {
          "base_uri": "https://localhost:8080/"
        },
        "id": "KebazqQ9ugFD",
        "outputId": "926128e3-13a1-44c7-a576-987fc260a8af"
      },
      "execution_count": 7,
      "outputs": [
        {
          "output_type": "stream",
          "name": "stdout",
          "text": [
            "['7U0N', '7JVO', '6M1D', '6M18', '1R4L', '1R42', '7RPV', '6M17', '6ACD', '6ACC', '7DK3', '7V61', '7KMB', '7DF4', '6VW1', '7DF3', '6ACK', '6ACJ', '6ACG', '7WRV', '7C8D', '7A93', '7KNI', '7KNH', '7KNE', '7KNB', '7KMZ', '7KMS', '3D0I', '3D0H', '3D0G', '2G75', '7XO5', '7WPC', '7WPB', '7WPA', '7VX5', '7VX4', '7V8A', '7V89', '7V88', '7T9K', '7KJ4', '7KJ3', '7KJ2', '7DMU', '7A98', '7A97', '7A96', '7A95', '7A94', '7A92', '7A91', '6M0J', '6LZG', '7W9I', '7WP9', '7KJ5', '7JWY', '6XM5', '6XM4', '6XM3', '6XM0', '6XLU', '7WPF', '7WPE', '7WPD', '7XOC', '7XOB', '7XOA', '7XO9', '7XO8', '7XO7', '7XO6', '7XO4', '7VXM', '7VXK', '7VXF', '7VXD', '7VXA', '7VX9', '7MJN', '7MJM', '7EFR', '7EFP', '7WEV', '7VXI', '7VXE', '7VX1', '7F5R', '7W9C', '7W9B', '7W99', '7W98', '7E7E', '7XOD', '7T9J', '7E3J', '7W94', '7W92', '2DD8', '7VXC', '7VXB', '7V86', '7V85', '7V83', '7V82', '7V81', '7V7Z', '7TEZ', '7TEW', '7T9L', '7SY8', '7SY6', '7SY4', '7SY2', '7SY0', '7SXY', '7EDJ', '7DX8', '7DX6', '3SCL', '3SCK', '7DDP', '7DDO', '3KBH', '7W9F', '7W9E', '7DX3', '7DHX', '7K8P', '7C8J', '7C8K', '7V8B', '7V87', '7TF0', '7TEX', '7SY7', '7SY5', '7SY3', '7SY1', '7SXZ', '7SXX', '7DX9', '7DX7', '7DX5', '7BH9', '3SCJ', '3SCI', '6ZH9', '7DRV', '7DWX', '7MJI', '7MJG', '7JWB', '7DX1', '7DWZ', '7MJL', '7MJK', '7MJJ', '7MJH', '7K9I', '7K90', '7K8Y', '7K8X', '7K8W', '7K8V', '7K8U', '7K8T', '7K8S', '7K8M', '7FC3', '7DWY', '7WVQ', '7WVP', '7NXC', '2AJF', '7KL9', '7K9J', '7K9H', '7K8Z', '6ZXN', '6CS2', '7FC5', '7TF5', '7TF4', '7TF3', '7TF2', '7TF1', '7TEY', '7SXW', '7SXV', '7SXU', '7SXT', '7SXS', '7SXR', '7KQE', '7EDI', '6XS6', '7ZF7', '7ZDQ', '7WHH', '7WGC', '7WGB', '7WBQ', '7WBP', '7WBL', '7V84', '7TN0', '7LO4', '7FDG', '7CT5', '7W6R', '7VND', '7VNB', '7R40', '7M7B', '7M71', '7KQB', '7EH5', '7EDH', '7EDG', '7EDF', '7VNE', '7VNC', '7K9K', '7BZ5', '7B3O', '7KKJ', '7XBY', '7WK6', '7W6U', '7WVO', '7WVN', '7WSA', '7WS9', '7WS8', '7V80', '7R1A', '7R12', '7R11', '7R10', '7R0Z', '7FDK', '7FDI', '7FDH', '7EKH', '7EKG', '7EKF', '7EKE', '7EKC', '7K8R', '7K8Q', '7K8O', '7K8N', '7WS6', '7WS2', '7WKA', '7WK9', '7WK8', '7WK2', '2GHV', '7WS7', '7WS5', '7WS4', '7WS3', '7WS1', '7WS0', '7E3O', '6ZLR', '6CRV', '2GHW', '7KM5', '7KKL', '7KKK', '7E8M', '7CDJ', '7CDI', '7BWJ', '6CS1', '6CS0', '6CRZ', '6CRX', '6CRW', '7PKI', '7WK5', '7WK4', '7MFV', '7R15', '7SN0', '7L7F', '7FEM', '7DQA', '7WK3', '7QNX', '7NLL', '7KGK', '7KGJ', '7CN8', '5GYQ', '7L0N', '7ZFD', '7ZF8', '7ZF5', '7WSK', '7TLZ', '7TAT', '7TAS', '7S0E', '7S0D', '7S0B', '7RKV', '7RBY', '7R1B', '7R19', '7R18', '7R17', '7R16', '7R14', '7R13', '7KLW', '7FAU', '7DX2', '7DX0', '6ZGH', '6ZGG', '6ZGF', '5XLR', '5WRG', '3BGF', '7ZR9', '7ZR8', '7ZFE', '7ZF9', '7ZF4', '7X08', '7WG9', '7WG8', '7WG7', '7WG6', '7V2A', '7V26', '7TM0', '7TLY', '7S0C', '7RKU', '7RKS', '7N0H', '7N0G', '7MF1', '7LX5', '7KS9', '7JZU', '7JZN', '7JZM', '7JZL', '7CN4', '6ZGI', '6ZGE', '6Z43', '6XF6', '6XF5', '6VYB', '6VXX', '7ZRC', '7ZR7', '7ZFC', '7ZFB', '7NS6', '7MY3', '7MY2', '7A29', '7A25', '7WRI', '7NXB', '7NXA', '7NX9', '7NX6', '7CAN', '7C8W', '7C8V', '7XID', '7NX8', '7NX7', '7JPY', '7ZFF', '7QNY', '7JQ5', '7JQ4', '7JQ3', '7JQ2', '7JQ1', '7JQ0', '7JPZ', '7PHG', '7B3Y', '1Y79', '7ZF6', '7QNW', '7MFU', '7P40', '7JMX', '7BBH', '6XCA', '7F5G', '7D30', '7D2Z', '7M0J', '7BNV', '7B27', '1NCS', '7WLZ', '7WLY', '7P7B', '7NL7', '7NL6', '7M8K', '7LYQ', '7LYP', '7LYO', '7LYN', '7LYM', '7LYL', '7LYK', '7LWW', '7LWV', '7LWU', '7LWT', '7LWS', '7LWQ', '7LWP', '7LWO', '7LWN', '7LWM', '7LWL', '7LWK', '7LWJ', '7LWI', '7L7K', '7KIP', '7DZW', '7BNO', '7BNN', '7BNM', '7WWM', '7WWL', '7UHC', '7U2E', '7TO4', '7TNW', '7RAL', '7RA8', '7R7N', '7R4R', '7R4Q', '7R4I', '7ODL', '7OD3', '7NP1', '7NKT', '7N5H', '7N1Y', '7N1X', '7N1W', '7N1V', '7N1U', '7N1T', '7N1Q', '7LSS', '7LS9', '7LOP', '7L3N', '7KFY', '7KFX', '7KFW', '7KFV', '7E3L', '7E3K', '7E23', '7DZY', '7DZX', '7D0D', '7D0C', '7D0B', '7CYP', '7CHF', '7CHE', '7CHC', '7CH5', '7CH4', '6ZB5', '6ZB4', '6VSB', '7UHB', '7R6X', '7Q0A', '7PQZ', '7PQY', '7P7A', '7P79', '7P78', '7P77', '7OAY', '7OAO', '7OAN', '7NEH', '7M7W', '7M3I', '7K4N', '7K45', '7JMW', '7JMP', '7JMO', '7E5O', '7DPM', '7D00', '7CZS', '7CZR', '7CM4', '7CHS', '7CHP', '7CHO', '7CHH', '7CHB', '7C01', '7BYR', '7AKJ', '7AKD', '6ZFO', '6ZER', '6ZDH', '6ZDG', '6XKQ', '6XKP', '6XE1', '6XCN', '6XCM', '6XC4', '6XC3', '6XC2', '7U2D', '7OAQ', '7OAP', '7K43', '7D03', '7CZW', '7CZQ', '7C2L', '6ZCZ', '6XC7', '7ZF3', '7DX4', '7CZZ', '7CZY', '7CZX', '7CZV', '7CZU', '7CZT', '7CZP', '6ZPU', '6ZPT', '6ZPQ', '2IUX', '2IUL', '7K3Q', '7R6W', '7PR0', '7OAU', '7NEG', '7MSQ']\n"
          ]
        }
      ]
    },
    {
      "cell_type": "markdown",
      "source": [
        "### 2. Search by PubMed ID Number\n"
      ],
      "metadata": {
        "id": "GboI32nEwVbx"
      }
    },
    {
      "cell_type": "code",
      "source": [
        "found_pdbs = Query('34132541', 'PubmedIdQuery').search()\n",
        "print(found_pdbs)"
      ],
      "metadata": {
        "colab": {
          "base_uri": "https://localhost:8080/"
        },
        "id": "FzyKi3ybw6hP",
        "outputId": "e3dda646-a08f-4269-877e-484950b0beb6"
      },
      "execution_count": 8,
      "outputs": [
        {
          "output_type": "stream",
          "name": "stdout",
          "text": [
            "None\n"
          ]
        },
        {
          "output_type": "stream",
          "name": "stderr",
          "text": [
            "/usr/local/lib/python3.7/site-packages/pypdb/util/http_requests.py:65: UserWarning: Too many failures on requests. Exiting...\n",
            "  warnings.warn(\"Too many failures on requests. Exiting...\")\n",
            "/usr/local/lib/python3.7/site-packages/pypdb/pypdb.py:292: UserWarning: Retrieval failed, returning None\n",
            "  warnings.warn(\"Retrieval failed, returning None\")\n"
          ]
        }
      ]
    },
    {
      "cell_type": "markdown",
      "source": [
        "### 3. Search by source organism using NCBI TaxId\n"
      ],
      "metadata": {
        "id": "M9Sr1kP40c4I"
      }
    },
    {
      "cell_type": "code",
      "source": [
        "found_pdbs = Query('6239', 'TreeEntityQuery').search() #TaxID for C elegans\n",
        "print(found_pdbs[:5])"
      ],
      "metadata": {
        "colab": {
          "base_uri": "https://localhost:8080/"
        },
        "id": "ybKyNt_W0k9T",
        "outputId": "5c7f6cfc-8089-424d-d055-8f200fc19b04"
      },
      "execution_count": 9,
      "outputs": [
        {
          "output_type": "stream",
          "name": "stdout",
          "text": [
            "['1D4X', '1DYW', '1E3B', '1E8K', '1EMS']\n"
          ]
        }
      ]
    },
    {
      "cell_type": "markdown",
      "source": [
        "# **2. Biotite**\n",
        "[Biotite](https://www.biotite-python.org/) is an open source comprehensive computational molecular biology framework for analysis of sequence and structure data, where most of the data can be handled internally, without the usage of additional software. It handles the complete bioinformatics workflow, from fetching, reading and writing relevant files to the efficient and intuitive analysis and manipulation of data (Kunzmann, P., Hamacher, K., 2018). Biotite provides read and write capabilities for the FASTA format, hence FASTA files can be used to load and save nucleotide and protein sequences. Biotite makes heavy use of NumPy and some code is written in [Cython](https://cython.org/), resulting in performance comparable to native C code.\n",
        "\n",
        "**Resources:**\n",
        "\n",
        "* [API Reference](https://www.biotite-python.org/apidoc/index.html)\n",
        "\n",
        "**References:**\n",
        "\n",
        "* Kunzmann, P., Hamacher, K. Biotite: a unifying open source computational biology framework in Python. BMC Bioinformatics 19, 346 (2018). [https://doi.org/10.1186/s12859-018-2367-z](https://bmcbioinformatics.biomedcentral.com/articles/10.1186/s12859-018-2367-z#citeas)"
      ],
      "metadata": {
        "id": "42zcba_d2Qxq"
      }
    },
    {
      "cell_type": "code",
      "source": [
        "# Install Biotite\n",
        "! pip install biotite"
      ],
      "metadata": {
        "colab": {
          "base_uri": "https://localhost:8080/"
        },
        "id": "rmpPsRcz2YL8",
        "outputId": "f095248c-7f98-43ff-803b-59505abeca94"
      },
      "execution_count": 10,
      "outputs": [
        {
          "output_type": "stream",
          "name": "stdout",
          "text": [
            "Looking in indexes: https://pypi.org/simple, https://us-python.pkg.dev/colab-wheels/public/simple/\n",
            "Requirement already satisfied: biotite in /usr/local/lib/python3.7/site-packages (0.33.0)\n",
            "Requirement already satisfied: msgpack>=0.5.6 in /usr/local/lib/python3.7/site-packages (from biotite) (1.0.4)\n",
            "Requirement already satisfied: numpy>=1.19 in /usr/local/lib/python3.7/site-packages (from biotite) (1.21.6)\n",
            "Requirement already satisfied: networkx>=2.0 in /usr/local/lib/python3.7/site-packages (from biotite) (2.6.3)\n",
            "Requirement already satisfied: requests>=2.12 in /usr/local/lib/python3.7/site-packages (from biotite) (2.25.1)\n",
            "Requirement already satisfied: chardet<5,>=3.0.2 in /usr/local/lib/python3.7/site-packages (from requests>=2.12->biotite) (4.0.0)\n",
            "Requirement already satisfied: certifi>=2017.4.17 in /usr/local/lib/python3.7/site-packages (from requests>=2.12->biotite) (2020.12.5)\n",
            "Requirement already satisfied: idna<3,>=2.5 in /usr/local/lib/python3.7/site-packages (from requests>=2.12->biotite) (2.10)\n",
            "Requirement already satisfied: urllib3<1.27,>=1.21.1 in /usr/local/lib/python3.7/site-packages (from requests>=2.12->biotite) (1.26.3)\n"
          ]
        }
      ]
    },
    {
      "cell_type": "markdown",
      "source": [
        "## **Biotite Functions**\n",
        "\n",
        "**Biotite is divided into four subpackages**: sequence and structure provide tools for handling sequences or biomolecular structures, respectively. database is used for fetching files from biological databases and application offers interfaces for external software. \n",
        "\n",
        "1. **Sequence subpackage:** contains functionality for working with sequence information of any kind. The package contains by default sequence types for nucleotides and proteins.\n",
        "\n",
        "2. **Structure subpackage:** enables handling of 3D structures of biomolecules. Simplified, a structure is represented by a list of atoms and their properties, based on ndarray objects. Optionally, this representation can be enriched with chemical bond information. Biotite supports different structure formats, including the ones provided by the RCSB and Gromacs trajectory formats. The subpackage offers a wide range of functions for atom filtering, coordinate transformations, angle and bond measurements, accessible surface area calculation, structure superimposition and more.\n",
        "\n",
        "3. **Application subpackage:** provides interfaces for external software, in case Biotite’s integrated functionality is not sufficient for your tasks. These interfaces range from locally installed software (e.g. MSA software) to web services (e.g. BLAST). The speciality is that the interfaces are seamless: You do not have to write input files and read output files, you only have to input Python objects and you get Python objects. It is basically very similar to using normal Python functions.\n",
        "\n",
        "4. **Database subpackage:** is all about searching and downloading data from biological databases, including the arguably most important ones: the RCSB PDB and the NCBI Entrez database.\n"
      ],
      "metadata": {
        "id": "_r4FuyhoK_NU"
      }
    },
    {
      "cell_type": "code",
      "source": [
        "# Import Biotite PDB API\n",
        "import biotite.database.rcsb as rcsb"
      ],
      "metadata": {
        "id": "8xdxIOo63fT_"
      },
      "execution_count": 11,
      "outputs": []
    },
    {
      "cell_type": "markdown",
      "source": [
        "**Tempfile:** is a Python module used in a situation, where we need to read multiple files, change or access the data in the file, and gives output files based on the result of processed data."
      ],
      "metadata": {
        "id": "lNdXwCZdOIbO"
      }
    },
    {
      "cell_type": "code",
      "source": [
        "import tempfile\n",
        "from tempfile import gettempdir"
      ],
      "metadata": {
        "id": "f-K5bZo3IwbF"
      },
      "execution_count": 45,
      "outputs": []
    },
    {
      "cell_type": "markdown",
      "source": [
        "### 1. Database Subpackage\n",
        "biotite.database subpackage provides interfaces for RCSB PDB and the NCBI Entrez database.\n",
        "\n",
        "Specify the PDB ID, the file format and the target directory for the fetch() function. The function returns the path to the downloaded file, so can load the file via the other Biotite subpackages. "
      ],
      "metadata": {
        "id": "4nBUTYXmNGBA"
      }
    },
    {
      "cell_type": "code",
      "source": [
        "# Example: download protein structure of the miniprotein TC5b (PDB: 1L2Y) into a temporary directory\n",
        "file_path = rcsb.fetch(\"1l2y\", \"pdb\", gettempdir())\n",
        "print(file_path)"
      ],
      "metadata": {
        "colab": {
          "base_uri": "https://localhost:8080/"
        },
        "id": "r1N_cy3DKBMQ",
        "outputId": "4d39182b-344b-46fb-af00-d41d21cc0785"
      },
      "execution_count": 50,
      "outputs": [
        {
          "output_type": "stream",
          "name": "stdout",
          "text": [
            "/tmp/1l2y.pdb\n"
          ]
        }
      ]
    },
    {
      "cell_type": "markdown",
      "source": [
        "If want to download multiple files, we're able to specify a list of PDB IDs, which in return gives a list of file paths.\n",
        "\n",
        "[mmCIF](https://www.ebi.ac.uk/pdbe/docs/documentation/mmcif.html) is a flexible and extensible tag-value format for representing macromolecular structural data."
      ],
      "metadata": {
        "id": "DUqnFByHQKvd"
      }
    },
    {
      "cell_type": "code",
      "source": [
        "# Download files in the more modern mmCIF format\n",
        "file_paths = rcsb.fetch([\"1l2y\", \"1aki\"], \"cif\", gettempdir())\n",
        "print([file_path for file_path in file_paths])"
      ],
      "metadata": {
        "colab": {
          "base_uri": "https://localhost:8080/"
        },
        "id": "d_KVIdeWQXvd",
        "outputId": "fe7e1118-0f0f-44f1-db10-6a6fd92b68a8"
      },
      "execution_count": 51,
      "outputs": [
        {
          "output_type": "stream",
          "name": "stdout",
          "text": [
            "['/tmp/1l2y.cif', '/tmp/1aki.cif']\n"
          ]
        }
      ]
    },
    {
      "cell_type": "markdown",
      "source": [
        "By default fetch() checks whether the file to be fetched already exists in the directory and downloads it, if it does not exist yet. If want to download files irrespectively, set overwrite to true."
      ],
      "metadata": {
        "id": "Mm2YRTU_RLev"
      }
    },
    {
      "cell_type": "code",
      "source": [
        "# Download file in the fast and small binary MMTF format\n",
        "file_path = rcsb.fetch(\"1l2y\", \"mmtf\", gettempdir(), overwrite=True)"
      ],
      "metadata": {
        "id": "cEI7ly-zRRTP"
      },
      "execution_count": 52,
      "outputs": []
    }
  ]
}
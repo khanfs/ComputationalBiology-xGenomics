{
  "nbformat": 4,
  "nbformat_minor": 0,
  "metadata": {
    "colab": {
      "name": "PDB-APIs.ipynb",
      "provenance": [],
      "authorship_tag": "ABX9TyO8Si+1XDdUm0B/DLh1cEAd",
      "include_colab_link": true
    },
    "kernelspec": {
      "name": "python3",
      "display_name": "Python 3"
    },
    "language_info": {
      "name": "python"
    }
  },
  "cells": [
    {
      "cell_type": "markdown",
      "metadata": {
        "id": "view-in-github",
        "colab_type": "text"
      },
      "source": [
        "<a href=\"https://colab.research.google.com/github/khanfs/ComputationalBiology-xGenomics/blob/main/PDB_APIs.ipynb\" target=\"_parent\"><img src=\"https://colab.research.google.com/assets/colab-badge.svg\" alt=\"Open In Colab\"/></a>"
      ]
    },
    {
      "cell_type": "markdown",
      "source": [
        "# **Protein Data Bank APIs**\n",
        "PyPDB and Biotite packages provide Protein Data Bank (PDB) APIs. Outlined is code to install them and examples of querying the PDB - using Biotite to filter structures by given criteria and PyPDB to download metadata and structural files. \n",
        "### **Research Collaboratory for Structural Bioinformatics PDB**\n",
        "The [RCSB Protein Data Bank](https://www.rcsb.org/) is a structural biology database consisting of 3D structures of proteins, nucleic acids and [complex assemblies](https://www.ebi.ac.uk/QuickGO/term/GO:0034622). Experiments comprising *X-ray crystallography*, the de facto method for decades, *nuclear magnetic resonance (NMR)*, and *cryo-electron microscopy (cryo-EM)* generate structural data. cryo-EM is rapidly replacing X-ray crystallography, which is over a century old. PDB contains over **160,000 protein structures**. Each entry contains:\n",
        "\n",
        "1. 3D coordinates of the atoms and the bonds connecting these atoms for proteins, ligand, cofactors, water molecules, and ions\n",
        "2. 3D visualisations of the protein structures, with ligand interactions if available\n",
        "3. meta-information on the structural data, e.g.'s, the PDB ID, the authors, the deposition date, the structural determination method used\n",
        "4. structural quality metrics - structural resolution - it measures the collected data quality, which has the unit Å (Angstrom); the lower the value, the higher the quality of the structure.\n",
        "\n",
        "**Resources:**\n",
        "* [PDB Meta-information list of fields for chemicals](https://search.rcsb.org/chemical-search-attributes.html)\n",
        "* [PDB Meta-information list of fields for structures](https://search.rcsb.org/structure-search-attributes.html) \n",
        "\n",
        "**References:**\n",
        "* Rose, P. W., Prlić, A., Altunkaya, A., Bi, C., Bradley, A. R., Christie, C. H., Costanzo, L. D., Duarte, J. M., Dutta, S., Feng, Z., Green, R. K., Goodsell, D. S., Hudson, B., Kalro, T., Lowe, R., Peisach, E., Randle, C., Rose, A. S., Shao, C., Tao, Y. P., … Burley, S. K. (2017). The RCSB protein data bank: integrative view of protein, gene and 3D structural information. Nucleic acids research, 45(D1), D271–D281. [https://doi.org/10.1093/nar/gkw1000](https://www.ncbi.nlm.nih.gov/pmc/articles/PMC5210513/)\n",
        "* Berman, H. M., Westbrook, J., Feng, Z., Gilliland, G., Bhat, T. N., Weissig, H., Shindyalov, I. N., & Bourne, P. E. (2000). The Protein Data Bank. Nucleic acids research, 28(1), 235–242. [https://doi.org/10.1093/nar/28.1.235](https://www.ncbi.nlm.nih.gov/pmc/articles/PMC102472/)"
      ],
      "metadata": {
        "id": "RWJUqZSUtn6O"
      }
    },
    {
      "cell_type": "code",
      "execution_count": 1,
      "metadata": {
        "id": "OG803SFstkfe"
      },
      "outputs": [],
      "source": [
        "# Install Conda environment\n",
        "! pip install -q condacolab"
      ]
    },
    {
      "cell_type": "code",
      "source": [
        "import condacolab\n",
        "condacolab.install()"
      ],
      "metadata": {
        "colab": {
          "base_uri": "https://localhost:8080/"
        },
        "id": "ttZwLFwKt6R-",
        "outputId": "9e94c595-74d2-4f83-d7a3-92c4ecd2885c"
      },
      "execution_count": 2,
      "outputs": [
        {
          "output_type": "stream",
          "name": "stdout",
          "text": [
            "✨🍰✨ Everything looks OK!\n"
          ]
        }
      ]
    },
    {
      "cell_type": "code",
      "source": [
        "import pandas as pd\n",
        "import matplotlib as mpl\n",
        "import matplotlib.pyplot as plt\n",
        "import numpy as np"
      ],
      "metadata": {
        "id": "SfHXPEyK4nbh"
      },
      "execution_count": 33,
      "outputs": []
    },
    {
      "cell_type": "markdown",
      "source": [
        "# **1. PyPDB**\n",
        "PyPDB can search the PDB by keyword, author, publication date and experimental method, as well as by specific sequence motifs. For individual PDB IDs, retrievable information ranges from metadata (date of posting, authors, etc.) to the full. pdb data file stored with an entry. Standard information such as gene ontology, ligand information and protein family information can be accessed. PyPDB can also perform BLAST searches (Gilpin, 2016). The Python package pypdb offers an interface for the PDB to not only query for PDB IDs but also to download associated metadata and structural files. \n",
        "\n",
        "**Resources:**\n",
        "\n",
        "* [Primary PyPDB functions](https://academic.oup.com/view-large/35641249)\n",
        "* [Functions for searching the RCSB PDB for lists of PDB IDs](https://github.com/williamgilpin/pypdb/blob/master/pypdb/pypdb.py)\n",
        "\n",
        "**References:**\n",
        "\n",
        "*  William Gilpin, PyPDB: a Python API for the Protein Data Bank, Bioinformatics, Volume 32, Issue 1, 1 January 2016, Pages 159–160, [https://doi.org/10.1093/bioinformatics/btv543](https://academic.oup.com/bioinformatics/article/32/1/159/1743800) "
      ],
      "metadata": {
        "id": "VLykQL8uuOfF"
      }
    },
    {
      "cell_type": "code",
      "source": [
        "# Install PyPDB \n",
        "! pip install pypdb"
      ],
      "metadata": {
        "colab": {
          "base_uri": "https://localhost:8080/"
        },
        "id": "ye5F2MdduG-F",
        "outputId": "bed6a4da-203d-4e16-99be-64c4c3861b70"
      },
      "execution_count": 4,
      "outputs": [
        {
          "output_type": "stream",
          "name": "stdout",
          "text": [
            "Looking in indexes: https://pypi.org/simple, https://us-python.pkg.dev/colab-wheels/public/simple/\n",
            "Requirement already satisfied: pypdb in /usr/local/lib/python3.7/site-packages (2.1)\n",
            "Requirement already satisfied: requests in /usr/local/lib/python3.7/site-packages (from pypdb) (2.25.1)\n",
            "Requirement already satisfied: chardet<5,>=3.0.2 in /usr/local/lib/python3.7/site-packages (from requests->pypdb) (4.0.0)\n",
            "Requirement already satisfied: certifi>=2017.4.17 in /usr/local/lib/python3.7/site-packages (from requests->pypdb) (2020.12.5)\n",
            "Requirement already satisfied: idna<3,>=2.5 in /usr/local/lib/python3.7/site-packages (from requests->pypdb) (2.10)\n",
            "Requirement already satisfied: urllib3<1.27,>=1.21.1 in /usr/local/lib/python3.7/site-packages (from requests->pypdb) (1.26.3)\n"
          ]
        }
      ]
    },
    {
      "cell_type": "code",
      "source": [
        "! pytest"
      ],
      "metadata": {
        "colab": {
          "base_uri": "https://localhost:8080/"
        },
        "id": "AAtlJByTuVRh",
        "outputId": "b0afd60e-65f0-44fd-aba8-4fec06556248"
      },
      "execution_count": 5,
      "outputs": [
        {
          "output_type": "stream",
          "name": "stdout",
          "text": [
            "\u001b[1m============================= test session starts ==============================\u001b[0m\n",
            "platform linux -- Python 3.7.13, pytest-3.6.4, py-1.11.0, pluggy-0.7.1\n",
            "rootdir: /content, inifile:\n",
            "plugins: typeguard-2.7.1\n",
            "\u001b[1m\rcollecting 0 items                                                             \u001b[0m\u001b[1m\rcollected 0 items                                                              \u001b[0m\n",
            "\n",
            "\u001b[33m\u001b[1m========================= no tests ran in 0.00 seconds =========================\u001b[0m\n"
          ]
        }
      ]
    },
    {
      "cell_type": "markdown",
      "source": [
        "## **PyPDB Functions**\n",
        "\n",
        "There are generally 3 types of functions:\n",
        "\n",
        "* Functions that perform searches and return lists of PDB IDs\n",
        "* Functions that get information about specific PDB IDs\n",
        "* Other general-purpose lookup functions"
      ],
      "metadata": {
        "id": "7BBWaF6DvIBh"
      }
    },
    {
      "cell_type": "code",
      "source": [
        "# (*) will import every function from the pydb package\n",
        "from pypdb import *"
      ],
      "metadata": {
        "id": "nTiA6iPzubc_"
      },
      "execution_count": 6,
      "outputs": []
    },
    {
      "cell_type": "markdown",
      "source": [
        "### 1. Get a list of PDBs for a specific search term"
      ],
      "metadata": {
        "id": "BLVJhzWivn3K"
      }
    },
    {
      "cell_type": "code",
      "source": [
        "found_pdbs = Query('ACE2').search()\n",
        "print(found_pdbs)"
      ],
      "metadata": {
        "colab": {
          "base_uri": "https://localhost:8080/"
        },
        "id": "KebazqQ9ugFD",
        "outputId": "926128e3-13a1-44c7-a576-987fc260a8af"
      },
      "execution_count": 7,
      "outputs": [
        {
          "output_type": "stream",
          "name": "stdout",
          "text": [
            "['7U0N', '7JVO', '6M1D', '6M18', '1R4L', '1R42', '7RPV', '6M17', '6ACD', '6ACC', '7DK3', '7V61', '7KMB', '7DF4', '6VW1', '7DF3', '6ACK', '6ACJ', '6ACG', '7WRV', '7C8D', '7A93', '7KNI', '7KNH', '7KNE', '7KNB', '7KMZ', '7KMS', '3D0I', '3D0H', '3D0G', '2G75', '7XO5', '7WPC', '7WPB', '7WPA', '7VX5', '7VX4', '7V8A', '7V89', '7V88', '7T9K', '7KJ4', '7KJ3', '7KJ2', '7DMU', '7A98', '7A97', '7A96', '7A95', '7A94', '7A92', '7A91', '6M0J', '6LZG', '7W9I', '7WP9', '7KJ5', '7JWY', '6XM5', '6XM4', '6XM3', '6XM0', '6XLU', '7WPF', '7WPE', '7WPD', '7XOC', '7XOB', '7XOA', '7XO9', '7XO8', '7XO7', '7XO6', '7XO4', '7VXM', '7VXK', '7VXF', '7VXD', '7VXA', '7VX9', '7MJN', '7MJM', '7EFR', '7EFP', '7WEV', '7VXI', '7VXE', '7VX1', '7F5R', '7W9C', '7W9B', '7W99', '7W98', '7E7E', '7XOD', '7T9J', '7E3J', '7W94', '7W92', '2DD8', '7VXC', '7VXB', '7V86', '7V85', '7V83', '7V82', '7V81', '7V7Z', '7TEZ', '7TEW', '7T9L', '7SY8', '7SY6', '7SY4', '7SY2', '7SY0', '7SXY', '7EDJ', '7DX8', '7DX6', '3SCL', '3SCK', '7DDP', '7DDO', '3KBH', '7W9F', '7W9E', '7DX3', '7DHX', '7K8P', '7C8J', '7C8K', '7V8B', '7V87', '7TF0', '7TEX', '7SY7', '7SY5', '7SY3', '7SY1', '7SXZ', '7SXX', '7DX9', '7DX7', '7DX5', '7BH9', '3SCJ', '3SCI', '6ZH9', '7DRV', '7DWX', '7MJI', '7MJG', '7JWB', '7DX1', '7DWZ', '7MJL', '7MJK', '7MJJ', '7MJH', '7K9I', '7K90', '7K8Y', '7K8X', '7K8W', '7K8V', '7K8U', '7K8T', '7K8S', '7K8M', '7FC3', '7DWY', '7WVQ', '7WVP', '7NXC', '2AJF', '7KL9', '7K9J', '7K9H', '7K8Z', '6ZXN', '6CS2', '7FC5', '7TF5', '7TF4', '7TF3', '7TF2', '7TF1', '7TEY', '7SXW', '7SXV', '7SXU', '7SXT', '7SXS', '7SXR', '7KQE', '7EDI', '6XS6', '7ZF7', '7ZDQ', '7WHH', '7WGC', '7WGB', '7WBQ', '7WBP', '7WBL', '7V84', '7TN0', '7LO4', '7FDG', '7CT5', '7W6R', '7VND', '7VNB', '7R40', '7M7B', '7M71', '7KQB', '7EH5', '7EDH', '7EDG', '7EDF', '7VNE', '7VNC', '7K9K', '7BZ5', '7B3O', '7KKJ', '7XBY', '7WK6', '7W6U', '7WVO', '7WVN', '7WSA', '7WS9', '7WS8', '7V80', '7R1A', '7R12', '7R11', '7R10', '7R0Z', '7FDK', '7FDI', '7FDH', '7EKH', '7EKG', '7EKF', '7EKE', '7EKC', '7K8R', '7K8Q', '7K8O', '7K8N', '7WS6', '7WS2', '7WKA', '7WK9', '7WK8', '7WK2', '2GHV', '7WS7', '7WS5', '7WS4', '7WS3', '7WS1', '7WS0', '7E3O', '6ZLR', '6CRV', '2GHW', '7KM5', '7KKL', '7KKK', '7E8M', '7CDJ', '7CDI', '7BWJ', '6CS1', '6CS0', '6CRZ', '6CRX', '6CRW', '7PKI', '7WK5', '7WK4', '7MFV', '7R15', '7SN0', '7L7F', '7FEM', '7DQA', '7WK3', '7QNX', '7NLL', '7KGK', '7KGJ', '7CN8', '5GYQ', '7L0N', '7ZFD', '7ZF8', '7ZF5', '7WSK', '7TLZ', '7TAT', '7TAS', '7S0E', '7S0D', '7S0B', '7RKV', '7RBY', '7R1B', '7R19', '7R18', '7R17', '7R16', '7R14', '7R13', '7KLW', '7FAU', '7DX2', '7DX0', '6ZGH', '6ZGG', '6ZGF', '5XLR', '5WRG', '3BGF', '7ZR9', '7ZR8', '7ZFE', '7ZF9', '7ZF4', '7X08', '7WG9', '7WG8', '7WG7', '7WG6', '7V2A', '7V26', '7TM0', '7TLY', '7S0C', '7RKU', '7RKS', '7N0H', '7N0G', '7MF1', '7LX5', '7KS9', '7JZU', '7JZN', '7JZM', '7JZL', '7CN4', '6ZGI', '6ZGE', '6Z43', '6XF6', '6XF5', '6VYB', '6VXX', '7ZRC', '7ZR7', '7ZFC', '7ZFB', '7NS6', '7MY3', '7MY2', '7A29', '7A25', '7WRI', '7NXB', '7NXA', '7NX9', '7NX6', '7CAN', '7C8W', '7C8V', '7XID', '7NX8', '7NX7', '7JPY', '7ZFF', '7QNY', '7JQ5', '7JQ4', '7JQ3', '7JQ2', '7JQ1', '7JQ0', '7JPZ', '7PHG', '7B3Y', '1Y79', '7ZF6', '7QNW', '7MFU', '7P40', '7JMX', '7BBH', '6XCA', '7F5G', '7D30', '7D2Z', '7M0J', '7BNV', '7B27', '1NCS', '7WLZ', '7WLY', '7P7B', '7NL7', '7NL6', '7M8K', '7LYQ', '7LYP', '7LYO', '7LYN', '7LYM', '7LYL', '7LYK', '7LWW', '7LWV', '7LWU', '7LWT', '7LWS', '7LWQ', '7LWP', '7LWO', '7LWN', '7LWM', '7LWL', '7LWK', '7LWJ', '7LWI', '7L7K', '7KIP', '7DZW', '7BNO', '7BNN', '7BNM', '7WWM', '7WWL', '7UHC', '7U2E', '7TO4', '7TNW', '7RAL', '7RA8', '7R7N', '7R4R', '7R4Q', '7R4I', '7ODL', '7OD3', '7NP1', '7NKT', '7N5H', '7N1Y', '7N1X', '7N1W', '7N1V', '7N1U', '7N1T', '7N1Q', '7LSS', '7LS9', '7LOP', '7L3N', '7KFY', '7KFX', '7KFW', '7KFV', '7E3L', '7E3K', '7E23', '7DZY', '7DZX', '7D0D', '7D0C', '7D0B', '7CYP', '7CHF', '7CHE', '7CHC', '7CH5', '7CH4', '6ZB5', '6ZB4', '6VSB', '7UHB', '7R6X', '7Q0A', '7PQZ', '7PQY', '7P7A', '7P79', '7P78', '7P77', '7OAY', '7OAO', '7OAN', '7NEH', '7M7W', '7M3I', '7K4N', '7K45', '7JMW', '7JMP', '7JMO', '7E5O', '7DPM', '7D00', '7CZS', '7CZR', '7CM4', '7CHS', '7CHP', '7CHO', '7CHH', '7CHB', '7C01', '7BYR', '7AKJ', '7AKD', '6ZFO', '6ZER', '6ZDH', '6ZDG', '6XKQ', '6XKP', '6XE1', '6XCN', '6XCM', '6XC4', '6XC3', '6XC2', '7U2D', '7OAQ', '7OAP', '7K43', '7D03', '7CZW', '7CZQ', '7C2L', '6ZCZ', '6XC7', '7ZF3', '7DX4', '7CZZ', '7CZY', '7CZX', '7CZV', '7CZU', '7CZT', '7CZP', '6ZPU', '6ZPT', '6ZPQ', '2IUX', '2IUL', '7K3Q', '7R6W', '7PR0', '7OAU', '7NEG', '7MSQ']\n"
          ]
        }
      ]
    },
    {
      "cell_type": "markdown",
      "source": [
        "### 2. Search by PubMed ID Number\n"
      ],
      "metadata": {
        "id": "GboI32nEwVbx"
      }
    },
    {
      "cell_type": "code",
      "source": [
        "found_pdbs = Query('34132541', 'PubmedIdQuery').search()\n",
        "print(found_pdbs)"
      ],
      "metadata": {
        "colab": {
          "base_uri": "https://localhost:8080/"
        },
        "id": "FzyKi3ybw6hP",
        "outputId": "e3dda646-a08f-4269-877e-484950b0beb6"
      },
      "execution_count": 8,
      "outputs": [
        {
          "output_type": "stream",
          "name": "stdout",
          "text": [
            "None\n"
          ]
        },
        {
          "output_type": "stream",
          "name": "stderr",
          "text": [
            "/usr/local/lib/python3.7/site-packages/pypdb/util/http_requests.py:65: UserWarning: Too many failures on requests. Exiting...\n",
            "  warnings.warn(\"Too many failures on requests. Exiting...\")\n",
            "/usr/local/lib/python3.7/site-packages/pypdb/pypdb.py:292: UserWarning: Retrieval failed, returning None\n",
            "  warnings.warn(\"Retrieval failed, returning None\")\n"
          ]
        }
      ]
    },
    {
      "cell_type": "markdown",
      "source": [
        "### 3. Search by source organism using NCBI TaxId\n"
      ],
      "metadata": {
        "id": "M9Sr1kP40c4I"
      }
    },
    {
      "cell_type": "code",
      "source": [
        "found_pdbs = Query('6239', 'TreeEntityQuery').search() #TaxID for C elegans\n",
        "print(found_pdbs[:5])"
      ],
      "metadata": {
        "colab": {
          "base_uri": "https://localhost:8080/"
        },
        "id": "ybKyNt_W0k9T",
        "outputId": "5c7f6cfc-8089-424d-d055-8f200fc19b04"
      },
      "execution_count": 9,
      "outputs": [
        {
          "output_type": "stream",
          "name": "stdout",
          "text": [
            "['1D4X', '1DYW', '1E3B', '1E8K', '1EMS']\n"
          ]
        }
      ]
    },
    {
      "cell_type": "markdown",
      "source": [
        "# **2. Biotite**\n",
        "[Biotite](https://www.biotite-python.org/) is an open source comprehensive computational molecular biology framework for analysis of sequence and structure data, where most of the data can be handled internally, without the usage of additional software. It handles the complete bioinformatics workflow, from fetching, reading and writing relevant files to the efficient and intuitive analysis and manipulation of data (Kunzmann, P., Hamacher, K., 2018). Biotite provides read and write capabilities for the FASTA format, hence FASTA files can be used to load and save nucleotide and protein sequences. Biotite makes heavy use of NumPy and some code is written in [Cython](https://cython.org/), resulting in performance comparable to native C code.\n",
        "\n",
        "**Resources:**\n",
        "\n",
        "* [API Reference](https://www.biotite-python.org/apidoc/index.html)\n",
        "\n",
        "**References:**\n",
        "\n",
        "* Kunzmann, P., Hamacher, K. Biotite: a unifying open source computational biology framework in Python. BMC Bioinformatics 19, 346 (2018). [https://doi.org/10.1186/s12859-018-2367-z](https://bmcbioinformatics.biomedcentral.com/articles/10.1186/s12859-018-2367-z#citeas)"
      ],
      "metadata": {
        "id": "42zcba_d2Qxq"
      }
    },
    {
      "cell_type": "code",
      "source": [
        "# Install Biotite\n",
        "! pip install biotite"
      ],
      "metadata": {
        "colab": {
          "base_uri": "https://localhost:8080/"
        },
        "id": "rmpPsRcz2YL8",
        "outputId": "f095248c-7f98-43ff-803b-59505abeca94"
      },
      "execution_count": 10,
      "outputs": [
        {
          "output_type": "stream",
          "name": "stdout",
          "text": [
            "Looking in indexes: https://pypi.org/simple, https://us-python.pkg.dev/colab-wheels/public/simple/\n",
            "Requirement already satisfied: biotite in /usr/local/lib/python3.7/site-packages (0.33.0)\n",
            "Requirement already satisfied: msgpack>=0.5.6 in /usr/local/lib/python3.7/site-packages (from biotite) (1.0.4)\n",
            "Requirement already satisfied: numpy>=1.19 in /usr/local/lib/python3.7/site-packages (from biotite) (1.21.6)\n",
            "Requirement already satisfied: networkx>=2.0 in /usr/local/lib/python3.7/site-packages (from biotite) (2.6.3)\n",
            "Requirement already satisfied: requests>=2.12 in /usr/local/lib/python3.7/site-packages (from biotite) (2.25.1)\n",
            "Requirement already satisfied: chardet<5,>=3.0.2 in /usr/local/lib/python3.7/site-packages (from requests>=2.12->biotite) (4.0.0)\n",
            "Requirement already satisfied: certifi>=2017.4.17 in /usr/local/lib/python3.7/site-packages (from requests>=2.12->biotite) (2020.12.5)\n",
            "Requirement already satisfied: idna<3,>=2.5 in /usr/local/lib/python3.7/site-packages (from requests>=2.12->biotite) (2.10)\n",
            "Requirement already satisfied: urllib3<1.27,>=1.21.1 in /usr/local/lib/python3.7/site-packages (from requests>=2.12->biotite) (1.26.3)\n"
          ]
        }
      ]
    },
    {
      "cell_type": "markdown",
      "source": [
        "## **Biotite Functions**\n",
        "\n",
        "**Biotite is divided into four subpackages**: sequence and structure provide tools for handling sequences or biomolecular structures, respectively. database is used for fetching files from biological databases and application offers interfaces for external software. \n",
        "\n",
        "1. **Sequence subpackage:** contains functionality for working with sequence information of any kind. The package contains by default sequence types for nucleotides and proteins.\n",
        "\n",
        "2. **Structure subpackage:** enables handling of 3D structures of biomolecules. Simplified, a structure is represented by a list of atoms and their properties, based on ndarray objects. Optionally, this representation can be enriched with chemical bond information. Biotite supports different structure formats, including the ones provided by the RCSB and Gromacs trajectory formats. The subpackage offers a wide range of functions for atom filtering, coordinate transformations, angle and bond measurements, accessible surface area calculation, structure superimposition and more.\n",
        "\n",
        "3. **Application subpackage:** provides interfaces for external software, in case Biotite’s integrated functionality is not sufficient for your tasks. These interfaces range from locally installed software (e.g. MSA software) to web services (e.g. BLAST). The speciality is that the interfaces are seamless: You do not have to write input files and read output files, you only have to input Python objects and you get Python objects. It is basically very similar to using normal Python functions.\n",
        "\n",
        "4. **Database subpackage:** is all about searching and downloading data from biological databases, including the arguably most important ones: the RCSB PDB and the NCBI Entrez database.\n"
      ],
      "metadata": {
        "id": "_r4FuyhoK_NU"
      }
    },
    {
      "cell_type": "code",
      "source": [
        "# Import Biotite PDB API\n",
        "import biotite.database.rcsb as rcsb"
      ],
      "metadata": {
        "id": "8xdxIOo63fT_"
      },
      "execution_count": 11,
      "outputs": []
    },
    {
      "cell_type": "markdown",
      "source": [
        "**Tempfile:** is a Python module used in a situation, where we need to read multiple files, change or access the data in the file, and gives output files based on the result of processed data."
      ],
      "metadata": {
        "id": "lNdXwCZdOIbO"
      }
    },
    {
      "cell_type": "code",
      "source": [
        "import tempfile\n",
        "from tempfile import gettempdir"
      ],
      "metadata": {
        "id": "f-K5bZo3IwbF"
      },
      "execution_count": 45,
      "outputs": []
    },
    {
      "cell_type": "markdown",
      "source": [
        "### 1. Database Subpackage\n",
        "biotite.database subpackage provides interfaces for RCSB PDB and the NCBI Entrez database.\n",
        "\n",
        "Specify the PDB ID, the file format and the target directory for the fetch() function. The function returns the path to the downloaded file, so can load the file via the other Biotite subpackages. "
      ],
      "metadata": {
        "id": "4nBUTYXmNGBA"
      }
    },
    {
      "cell_type": "code",
      "source": [
        "# Example: download protein structure of the miniprotein TC5b (PDB: 1L2Y) into a temporary directory\n",
        "file_path = rcsb.fetch(\"1l2y\", \"pdb\", gettempdir())\n",
        "print(file_path)"
      ],
      "metadata": {
        "colab": {
          "base_uri": "https://localhost:8080/"
        },
        "id": "r1N_cy3DKBMQ",
        "outputId": "4d39182b-344b-46fb-af00-d41d21cc0785"
      },
      "execution_count": 50,
      "outputs": [
        {
          "output_type": "stream",
          "name": "stdout",
          "text": [
            "/tmp/1l2y.pdb\n"
          ]
        }
      ]
    },
    {
      "cell_type": "markdown",
      "source": [
        "If want to download multiple files, we're able to specify a list of PDB IDs, which in return gives a list of file paths.\n",
        "\n",
        "**Macromolecular Crystallographic Information File** [(mmCIF)](https://www.ebi.ac.uk/pdbe/docs/documentation/mmcif.html): is a flexible and extensible tag-value format for representing macromolecular structural data.\n",
        "\n",
        "**Resources:**\n",
        "* [Guide to PDB Structures and the PDBx/mmCIF Format](https://www.ebi.ac.uk/pdbe/docs/documentation/mmcif.html)\n",
        "* [PDBx/mmCIF Dictionary](https://mmcif.wwpdb.org/)"
      ],
      "metadata": {
        "id": "DUqnFByHQKvd"
      }
    },
    {
      "cell_type": "code",
      "source": [
        "# Download files in the more modern mmCIF format\n",
        "file_paths = rcsb.fetch([\"1l2y\", \"1aki\"], \"cif\", gettempdir())\n",
        "print([file_path for file_path in file_paths])"
      ],
      "metadata": {
        "colab": {
          "base_uri": "https://localhost:8080/"
        },
        "id": "d_KVIdeWQXvd",
        "outputId": "fe7e1118-0f0f-44f1-db10-6a6fd92b68a8"
      },
      "execution_count": 51,
      "outputs": [
        {
          "output_type": "stream",
          "name": "stdout",
          "text": [
            "['/tmp/1l2y.cif', '/tmp/1aki.cif']\n"
          ]
        }
      ]
    },
    {
      "cell_type": "markdown",
      "source": [
        "By default fetch() checks whether the file to be fetched already exists in the directory and downloads it, if it does not exist yet. If want to download files irrespectively, set overwrite to true.\n",
        "\n",
        "**Macromolecular Transmission Format** [(MMTF)](https://mmtf.rcsb.org/faq.html): is a new compact binary format to transmit and store biomolecular structures for fast 3D visualization and analysis.\n",
        "\n",
        "**Resources:**\n",
        "* [RCSB MMTF](https://mmtf.rcsb.org/)\n",
        "* [MMTF Specification](https://github.com/rcsb/mmtf/blob/v1.0/spec.md)\n"
      ],
      "metadata": {
        "id": "Mm2YRTU_RLev"
      }
    },
    {
      "cell_type": "code",
      "source": [
        "# Download file in the fast and small binary MMTF format\n",
        "file_path = rcsb.fetch(\"1l2y\", \"mmtf\", gettempdir(), overwrite=True)"
      ],
      "metadata": {
        "id": "cEI7ly-zRRTP"
      },
      "execution_count": 52,
      "outputs": []
    },
    {
      "cell_type": "markdown",
      "source": [
        "If omit the file path or set it to None, the downloaded data will be returned directly as a file-like object, without creating a file on disk."
      ],
      "metadata": {
        "id": "CUrJcaQGWfYs"
      }
    },
    {
      "cell_type": "code",
      "source": [
        "file = rcsb.fetch(\"1l2y\", \"pdb\")\n",
        "lines = file.readlines()\n",
        "print(\"\\n\".join(lines[:10] + [\"...\"]))"
      ],
      "metadata": {
        "colab": {
          "base_uri": "https://localhost:8080/"
        },
        "id": "Pzb9GPhXWSso",
        "outputId": "ba622808-19cf-45c4-d343-34cf58baa592"
      },
      "execution_count": 53,
      "outputs": [
        {
          "output_type": "stream",
          "name": "stdout",
          "text": [
            "HEADER    DE NOVO PROTEIN                         25-FEB-02   1L2Y              \n",
            "\n",
            "TITLE     NMR STRUCTURE OF TRP-CAGE MINIPROTEIN CONSTRUCT TC5B                  \n",
            "\n",
            "COMPND    MOL_ID: 1;                                                            \n",
            "\n",
            "COMPND   2 MOLECULE: TC5B;                                                      \n",
            "\n",
            "COMPND   3 CHAIN: A;                                                            \n",
            "\n",
            "COMPND   4 ENGINEERED: YES                                                      \n",
            "\n",
            "SOURCE    MOL_ID: 1;                                                            \n",
            "\n",
            "SOURCE   2 SYNTHETIC: YES;                                                      \n",
            "\n",
            "SOURCE   3 OTHER_DETAILS: THE PROTEIN WAS SYNTHESIZED USING STANDARD FMOC       \n",
            "\n",
            "SOURCE   4 SOLID-PHASE SYNTHESIS METHODS ON AN APPLIED BIOSYSTEMS 433A PEPTIDE  \n",
            "\n",
            "...\n"
          ]
        }
      ]
    },
    {
      "cell_type": "markdown",
      "source": [
        "**RCSB search API:** In many cases we’re not interested in a specific structure, but want a set of structures that fits our desired criteria. For this purpose, the RCSB search API can be used. First,  create a Query object for the property we want to filter. The search() method takes the Query and returns a list of PDB IDs, which itself can be used as input for fetch(). Likewise, count() is used to count the number of matching PDB IDs. "
      ],
      "metadata": {
        "id": "MT-hf2sxXAXZ"
      }
    },
    {
      "cell_type": "code",
      "source": [
        "query = rcsb.BasicQuery(\"HCN1\")\n",
        "pdb_ids = rcsb.search(query)\n",
        "print(pdb_ids)\n",
        "print(rcsb.count(query))\n",
        "files = rcsb.fetch(pdb_ids, \"mmtf\", gettempdir())"
      ],
      "metadata": {
        "colab": {
          "base_uri": "https://localhost:8080/"
        },
        "id": "VLKsNyA7XiLM",
        "outputId": "8d8e36e0-8f31-4182-d5df-e1c8cf5e7ac8"
      },
      "execution_count": 54,
      "outputs": [
        {
          "output_type": "stream",
          "name": "stdout",
          "text": [
            "['2XPI', '3U0Z', '5U6P', '5U6O', '3U10', '6UQG', '6UQF', '3U11', '7NP4', '7NP3', '7NMN', '4NVP', '2MNG']\n",
            "13\n"
          ]
        }
      ]
    },
    {
      "cell_type": "markdown",
      "source": [
        "We can also search for a value in a specific field with a **FieldQuery**. A complete list of the available fields and its supported operators is documented [here](https://search.rcsb.org/chemical-search-attributes.html). "
      ],
      "metadata": {
        "id": "Ibw4BIwBX5_h"
      }
    },
    {
      "cell_type": "code",
      "source": [
        "# Query for 'lacA' gene\n",
        "query1 = rcsb.FieldQuery(\n",
        "    \"rcsb_entity_source_organism.rcsb_gene_name.value\",\n",
        "    exact_match=\"lacA\"\n",
        ")\n",
        "# Query for resolution below 1.5 Å\n",
        "query2 = rcsb.FieldQuery(\"reflns.d_resolution_high\", less=1.5)"
      ],
      "metadata": {
        "id": "VPFP4HCRYXc3"
      },
      "execution_count": 55,
      "outputs": []
    },
    {
      "cell_type": "markdown",
      "source": [
        "RCSB search API allows even more complex queries, e.g. for sequence or structure similarity. Refer to API reference of biotite.database.rcsb.\n",
        "\n",
        "**Multiple Query objects can be combined** using the **| (or) or & (and)** operator for a more fine-grained selection. A FieldQuery is negated with **~**."
      ],
      "metadata": {
        "id": "KJCh3CV1Yg3x"
      }
    },
    {
      "cell_type": "code",
      "source": [
        "composite_query = query1 & ~query2\n",
        "print(rcsb.search(composite_query))"
      ],
      "metadata": {
        "colab": {
          "base_uri": "https://localhost:8080/"
        },
        "id": "iUW1_h5gZGcj",
        "outputId": "03969e21-fe2f-42ce-c05d-49bd7b3a7b20"
      },
      "execution_count": 56,
      "outputs": [
        {
          "output_type": "stream",
          "name": "stdout",
          "text": [
            "['1KQA', '1KRR', '1KRU', '1KRV', '1TG7', '1XC6', '3U7V', '4DUW', '4IUG', '4LFK', '4LFL', '4LFM', '4LFN', '5IFP', '5IFT', '5IHR', '5JUV', '5MGC', '5MGD']\n"
          ]
        }
      ]
    },
    {
      "cell_type": "markdown",
      "source": [
        "## **Fetching files from the NCBI Entrez database**\n",
        "\n",
        "[NCBI Entrez database](https://www.ncbi.nlm.nih.gov/search/) provides a myriad of information, ranging from sequences and sequence features to scientific articles. Fetching files from NCBI works analogously to the RCSB interface. This time we have to provide the UIDs (Accession or GI) instead of PDB IDs to the fetch() function. Furthermore, we need to specify the database to retrieve the data from and the retrieval type."
      ],
      "metadata": {
        "id": "tx17HGWCZIEC"
      }
    },
    {
      "cell_type": "code",
      "source": [
        "from tempfile import gettempdir, NamedTemporaryFile\n",
        "import biotite.database.entrez as entrez\n",
        "\n",
        "# Fetch a single UID ...\n",
        "file_path = entrez.fetch(\n",
        "    \"NC_001416\", gettempdir(), suffix=\"fa\",\n",
        "    db_name=\"nuccore\", ret_type=\"fasta\"\n",
        ")\n",
        "print(file_path)\n",
        "# ... or multiple UIDs\n",
        "file_paths = entrez.fetch(\n",
        "    [\"1L2Y_A\",\"1AKI_A\"], gettempdir(), suffix=\"fa\",\n",
        "    db_name=\"protein\", ret_type=\"fasta\"\n",
        ")\n",
        "print([file_path for file_path in file_paths])"
      ],
      "metadata": {
        "colab": {
          "base_uri": "https://localhost:8080/"
        },
        "id": "Qz7KgAodZvZe",
        "outputId": "9d981559-5920-42ec-86f2-25ccecf2f916"
      },
      "execution_count": 57,
      "outputs": [
        {
          "output_type": "stream",
          "name": "stdout",
          "text": [
            "/tmp/NC_001416.fa\n",
            "['/tmp/1L2Y_A.fa', '/tmp/1AKI_A.fa']\n"
          ]
        }
      ]
    },
    {
      "cell_type": "markdown",
      "source": [
        "### **NCBI Databases**\n",
        "NCBI provides a [list](https://www.ncbi.nlm.nih.gov/books/NBK25499/table/chapter4.T._valid_values_of__retmode_and/?report=objectonly) of valid databases, retrieval type and mode combinations. Furthermore, get_database_name() can be helpful to get the required database name by the more commonly known names."
      ],
      "metadata": {
        "id": "Yh6UlO0JZ7IE"
      }
    },
    {
      "cell_type": "code",
      "source": [
        "print(entrez.get_database_name(\"Nucleotide\"))"
      ],
      "metadata": {
        "colab": {
          "base_uri": "https://localhost:8080/"
        },
        "id": "NNaykTQIajC5",
        "outputId": "82fb402e-0952-49e5-a83b-ad2f0dd57423"
      },
      "execution_count": 58,
      "outputs": [
        {
          "output_type": "stream",
          "name": "stdout",
          "text": [
            "nuccore\n"
          ]
        }
      ]
    },
    {
      "cell_type": "markdown",
      "source": [
        "The Entrez database allows for packing data for multiple UIDs into a single file. This is achieved with the fetch_single_file() function."
      ],
      "metadata": {
        "id": "l7YzECMtau-q"
      }
    },
    {
      "cell_type": "code",
      "source": [
        "temp_file = NamedTemporaryFile(suffix=\".fasta\", delete=False)\n",
        "file_path = entrez.fetch_single_file(\n",
        "    [\"1L2Y_A\",\"1AKI_A\"], temp_file.name, db_name=\"protein\", ret_type=\"fasta\"\n",
        ")\n",
        "print(file_path)\n",
        "temp_file.close()"
      ],
      "metadata": {
        "colab": {
          "base_uri": "https://localhost:8080/"
        },
        "id": "6hHztkDdayBJ",
        "outputId": "12f5f3a6-ccd2-4b4c-831f-ffe30b43bd58"
      },
      "execution_count": 59,
      "outputs": [
        {
          "output_type": "stream",
          "name": "stdout",
          "text": [
            "/tmp/tmpbp8clr4o.fasta\n"
          ]
        }
      ]
    },
    {
      "cell_type": "markdown",
      "source": [
        "Similar to the RCSB PDB, we can also search every field of the NCBI Entrez database."
      ],
      "metadata": {
        "id": "dlPhe40La19i"
      }
    },
    {
      "cell_type": "code",
      "source": [
        "# Search in all fields\n",
        "print(entrez.SimpleQuery(\"BL21 genome\"))\n",
        "# Search in the 'Organism' field\n",
        "print(entrez.SimpleQuery(\"Escherichia coli\", field=\"Organism\"))"
      ],
      "metadata": {
        "colab": {
          "base_uri": "https://localhost:8080/"
        },
        "id": "lKwpQqGpa6hr",
        "outputId": "78700310-e502-4ab8-efe0-15cd6d8e0631"
      },
      "execution_count": 60,
      "outputs": [
        {
          "output_type": "stream",
          "name": "stdout",
          "text": [
            "\"BL21 genome\"\n",
            "\"Escherichia coli\"[Organism]\n"
          ]
        }
      ]
    },
    {
      "cell_type": "markdown",
      "source": [
        "We can also combine multiple Query objects in any way we like using the binary operators **|**, **&** and **^**, that represent **OR**, **AND** and **NOT** linkage, respectively."
      ],
      "metadata": {
        "id": "1nztb1m7a-Pl"
      }
    },
    {
      "cell_type": "code",
      "source": [
        "composite_query = (\n",
        "    entrez.SimpleQuery(\"50:100\", field=\"Sequence Length\") &\n",
        "    (\n",
        "        entrez.SimpleQuery(\"Escherichia coli\", field=\"Organism\") |\n",
        "        entrez.SimpleQuery(\"Bacillus subtilis\", field=\"Organism\")\n",
        "    )\n",
        ")\n",
        "print(composite_query)"
      ],
      "metadata": {
        "colab": {
          "base_uri": "https://localhost:8080/"
        },
        "id": "nfF0j2bjbkpx",
        "outputId": "5582779c-ba43-402b-ddab-1f66dbf9b939"
      },
      "execution_count": 61,
      "outputs": [
        {
          "output_type": "stream",
          "name": "stdout",
          "text": [
            "(50:100[Sequence Length]) AND ((\"Escherichia coli\"[Organism]) OR (\"Bacillus subtilis\"[Organism]))\n"
          ]
        }
      ]
    },
    {
      "cell_type": "markdown",
      "source": [
        "Finally, the query is given to the search() function to obtain the GIs, that can be used as input for fetch()."
      ],
      "metadata": {
        "id": "EiellsBLbmg8"
      }
    },
    {
      "cell_type": "code",
      "source": [
        "# Return a maximum number of 10 entries\n",
        "gis = entrez.search(composite_query, \"protein\", number=10)\n",
        "print(gis)"
      ],
      "metadata": {
        "colab": {
          "base_uri": "https://localhost:8080/"
        },
        "id": "ebWgGrNSbrki",
        "outputId": "b0a8da3b-fd9a-4c4b-dae5-612092b6ef62"
      },
      "execution_count": 62,
      "outputs": [
        {
          "output_type": "stream",
          "name": "stdout",
          "text": [
            "['2258716175', '2258716164', '2258716157', '2258716150', '2258716147', '2258716133', '2258716094', '2258716084', '2258716083', '2258716078']\n"
          ]
        }
      ]
    },
    {
      "cell_type": "markdown",
      "source": [
        "### 2. Sequence Subpackage"
      ],
      "metadata": {
        "id": "MIv53b4Nbv5v"
      }
    },
    {
      "cell_type": "code",
      "source": [
        "import biotite.sequence as seq\n",
        "from biotite.sequence.align.matrix import SubstitutionMatrix"
      ],
      "metadata": {
        "id": "AwPB7wfBcXvx"
      },
      "execution_count": 63,
      "outputs": []
    },
    {
      "cell_type": "markdown",
      "source": [
        "Following example shows NucleotideSequence which is a subclass of the abstract base class Sequence. A NucleotideSequence accepts an iterable object of strings, where each string can be 'A', 'C', 'G' or 'T'. Each of these letters is called a symbol."
      ],
      "metadata": {
        "id": "VRGBSENBdRL7"
      }
    },
    {
      "cell_type": "code",
      "source": [
        "dna = seq.NucleotideSequence(\"AACTGCTA\")\n",
        "print(dna)"
      ],
      "metadata": {
        "colab": {
          "base_uri": "https://localhost:8080/"
        },
        "id": "U5MUJWMtcZbq",
        "outputId": "151cf5b5-8363-4c1d-e0cd-af7988c4d0e8"
      },
      "execution_count": 64,
      "outputs": [
        {
          "output_type": "stream",
          "name": "stdout",
          "text": [
            "AACTGCTA\n"
          ]
        }
      ]
    },
    {
      "cell_type": "markdown",
      "source": [
        "###**From DNA to Protein**\n",
        "\n",
        "**Biotite offers two prominent Sequence sublasses:** \n",
        "\n",
        "1. NucleotideSequence\n",
        "2. ProteinSequence \n",
        "\n",
        "The NucleotideSequence represents DNA. It may use two different alphabets - an unambiguous alphabet containing the letters 'A', 'C', 'G' and 'T' and an ambiguous alphabet containing additionally the standard letters for ambiguous nucleic bases. A NucleotideSequence determines automatically which alphabet is required, unless an alphabet is specified. Ifwe want to work with RNA sequences we can use this class, too, we just need to replace the 'U' with 'T'.\n",
        "\n",
        "### 1. NucleotideSequence"
      ],
      "metadata": {
        "id": "RwHsJECldz4I"
      }
    },
    {
      "cell_type": "code",
      "source": [
        "import biotite.sequence as seq\n",
        "\n",
        "# Create a nucleotide sequence using a string\n",
        "# The constructor can take any iterable object (e.g. a list of symbols)\n",
        "seq1 = seq.NucleotideSequence(\"ACCGTATCAAG\")\n",
        "print(seq1.get_alphabet())\n",
        "# Constructing a sequence with ambiguous nucleic bases\n",
        "seq2 = seq.NucleotideSequence(\"TANNCGNGG\")\n",
        "print(seq2.get_alphabet())"
      ],
      "metadata": {
        "colab": {
          "base_uri": "https://localhost:8080/"
        },
        "id": "kD5gm8aAdq_z",
        "outputId": "a8454070-af73-4c11-d906-48055a625e57"
      },
      "execution_count": 65,
      "outputs": [
        {
          "output_type": "stream",
          "name": "stdout",
          "text": [
            "['A', 'C', 'G', 'T']\n",
            "['A', 'C', 'G', 'T', 'R', 'Y', 'W', 'S', 'M', 'K', 'H', 'B', 'V', 'D', 'N']\n"
          ]
        }
      ]
    },
    {
      "cell_type": "markdown",
      "source": [
        "The reverse complement of a DNA sequence is created by chaining the Sequence.reverse() and the NucleotideSequence.complement() method."
      ],
      "metadata": {
        "id": "KX78ech9erLv"
      }
    },
    {
      "cell_type": "code",
      "source": [
        "# Lower case characters are automatically capitalized\n",
        "seq1 = seq.NucleotideSequence(\"tacagtt\")\n",
        "print(\"Original:\", seq1)\n",
        "seq2 = seq1.reverse().complement()\n",
        "print(\"Reverse complement:\", seq2)"
      ],
      "metadata": {
        "colab": {
          "base_uri": "https://localhost:8080/"
        },
        "id": "NmPdHd7MesaS",
        "outputId": "63692186-e628-4d13-8d11-b531773d9f65"
      },
      "execution_count": 66,
      "outputs": [
        {
          "output_type": "stream",
          "name": "stdout",
          "text": [
            "Original: TACAGTT\n",
            "Reverse complement: AACTGTA\n"
          ]
        }
      ]
    },
    {
      "cell_type": "markdown",
      "source": [
        "### 2. ProteinSequence\n",
        "ProteinSequence supports the letters for the 20 standard amino acids plus some letters for ambiguous amino acids and a letter for a stop signal. Furthermore, this class provides some utilities like 3-letter to 1-letter translation (and vice versa)"
      ],
      "metadata": {
        "id": "JNc7wY9pewy0"
      }
    },
    {
      "cell_type": "code",
      "source": [
        "prot_seq = seq.ProteinSequence(\"BIQTITE\")\n",
        "print(\"-\".join([seq.ProteinSequence.convert_letter_1to3(symbol)\n",
        "                for symbol in prot_seq]))"
      ],
      "metadata": {
        "colab": {
          "base_uri": "https://localhost:8080/"
        },
        "id": "E2-Ajk1Pfcbh",
        "outputId": "6c5b7cb0-dfbf-4150-eb44-b835bc064bf8"
      },
      "execution_count": 67,
      "outputs": [
        {
          "output_type": "stream",
          "name": "stdout",
          "text": [
            "ASX-ILE-GLN-THR-ILE-THR-GLU\n"
          ]
        }
      ]
    },
    {
      "cell_type": "markdown",
      "source": [
        "A **NucleotideSequence can be translated into a ProteinSequence** via the **NucleotideSequence.translate() method**. By default, the method searches for open reading frames (ORFs) in the 3 frames of the sequence. A 6-frame ORF search requires an additional call of NucleotideSequence.translate() with the reverse complement of the sequence. If we want to conduct a complete 1-frame translation of the sequence, irrespective of any start and stop codons, set the parameter complete to true."
      ],
      "metadata": {
        "id": "uQVDTu1gfeEx"
      }
    },
    {
      "cell_type": "code",
      "source": [
        "dna = seq.NucleotideSequence(\"CATATGATGTATGCAATAGGGTGAATG\")\n",
        "proteins, pos = dna.translate()\n",
        "for i in range(len(proteins)):\n",
        "    print(\n",
        "        f\"Protein sequence {str(proteins[i])} \"\n",
        "        f\"from base {pos[i][0]+1} to base {pos[i][1]}\"\n",
        "    )\n",
        "protein = dna.translate(complete=True)\n",
        "print(\"Complete translation:\", str(protein))"
      ],
      "metadata": {
        "colab": {
          "base_uri": "https://localhost:8080/"
        },
        "id": "zP_gCTi_flTl",
        "outputId": "800a011b-7831-409a-d004-6679379641d0"
      },
      "execution_count": 68,
      "outputs": [
        {
          "output_type": "stream",
          "name": "stdout",
          "text": [
            "Protein sequence MMYAIG* from base 4 to base 24\n",
            "Protein sequence MYAIG* from base 7 to base 24\n",
            "Protein sequence MQ* from base 11 to base 19\n",
            "Protein sequence M from base 25 to base 27\n",
            "Complete translation: HMMYAIG*M\n"
          ]
        }
      ]
    },
    {
      "cell_type": "markdown",
      "source": [
        "The upper example uses the default CodonTable instance. This can be changed with the **codon_table parameter**. A **CodonTable** maps codons to amino acids and defines start codons (both in symbol and code form). A *CodonTable is mainly used in the NucleotideSequence.translate() method*, but can also be used to find the corresponding amino acid for a codon and vice versa."
      ],
      "metadata": {
        "id": "tC_ZEVqYf07T"
      }
    },
    {
      "cell_type": "code",
      "source": [
        "table = seq.CodonTable.default_table()\n",
        "# Find the amino acid encoded by a given codon\n",
        "print(table[\"TAC\"])\n",
        "# Find the codons encoding a given amino acid\n",
        "print(table[\"Y\"])\n",
        "# Works also for codes instead of symbols\n",
        "print(table[(1,2,3)])\n",
        "print(table[14])"
      ],
      "metadata": {
        "colab": {
          "base_uri": "https://localhost:8080/"
        },
        "id": "ZfPpHUG-f_Ae",
        "outputId": "3fef6890-a202-4618-ed33-43dedfa1716e"
      },
      "execution_count": 69,
      "outputs": [
        {
          "output_type": "stream",
          "name": "stdout",
          "text": [
            "Y\n",
            "('TAC', 'TAT')\n",
            "14\n",
            "((0, 2, 0), (0, 2, 2), (1, 2, 0), (1, 2, 1), (1, 2, 2), (1, 2, 3))\n"
          ]
        }
      ]
    },
    {
      "cell_type": "markdown",
      "source": [
        "The default CodonTable is equal to the NCBI “Standard” table, with the small difference that only 'ATG' qualifies as start codon. You can also use any other official NCBI table via **CodonTable.load()**."
      ],
      "metadata": {
        "id": "Kgy-uo7zgDjx"
      }
    },
    {
      "cell_type": "code",
      "source": [
        "# Use the official NCBI table name\n",
        "table = seq.CodonTable.load(\"Yeast Mitochondrial\")\n",
        "print(\"Yeast Mitochondrial:\")\n",
        "print(table)\n",
        "print()\n",
        "# Use the official NCBI table ID\n",
        "table = seq.CodonTable.load(11)\n",
        "print(\"Bacterial:\")\n",
        "print(table)"
      ],
      "metadata": {
        "colab": {
          "base_uri": "https://localhost:8080/"
        },
        "id": "pbnynkqCgM4q",
        "outputId": "af6576f0-b530-4d9e-a24e-9356f5aa363d"
      },
      "execution_count": 70,
      "outputs": [
        {
          "output_type": "stream",
          "name": "stdout",
          "text": [
            "Yeast Mitochondrial:\n",
            "AAA K      AAC N      AAG K      AAT N\n",
            "ACA T      ACC T      ACG T      ACT T\n",
            "AGA R      AGC S      AGG R      AGT S\n",
            "ATA M i    ATC I      ATG M i    ATT I\n",
            "\n",
            "CAA Q      CAC H      CAG Q      CAT H\n",
            "CCA P      CCC P      CCG P      CCT P\n",
            "CGA R      CGC R      CGG R      CGT R\n",
            "CTA T      CTC T      CTG T      CTT T\n",
            "\n",
            "GAA E      GAC D      GAG E      GAT D\n",
            "GCA A      GCC A      GCG A      GCT A\n",
            "GGA G      GGC G      GGG G      GGT G\n",
            "GTA V      GTC V      GTG V      GTT V\n",
            "\n",
            "TAA *      TAC Y      TAG *      TAT Y\n",
            "TCA S      TCC S      TCG S      TCT S\n",
            "TGA W      TGC C      TGG W      TGT C\n",
            "TTA L      TTC F      TTG L      TTT F\n",
            "\n",
            "Bacterial:\n",
            "AAA K      AAC N      AAG K      AAT N\n",
            "ACA T      ACC T      ACG T      ACT T\n",
            "AGA R      AGC S      AGG R      AGT S\n",
            "ATA I i    ATC I i    ATG M i    ATT I\n",
            "\n",
            "CAA Q      CAC H      CAG Q      CAT H\n",
            "CCA P      CCC P      CCG P      CCT P\n",
            "CGA R      CGC R      CGG R      CGT R\n",
            "CTA L      CTC L      CTG L i    CTT L\n",
            "\n",
            "GAA E      GAC D      GAG E      GAT D\n",
            "GCA A      GCC A      GCG A      GCT A\n",
            "GGA G      GGC G      GGG G      GGT G\n",
            "GTA V      GTC V      GTG V i    GTT V\n",
            "\n",
            "TAA *      TAC Y      TAG *      TAT Y\n",
            "TCA S      TCC S      TCG S      TCT S\n",
            "TGA *      TGC C      TGG W      TGT C\n",
            "TTA L      TTC F      TTG L i    TTT F\n"
          ]
        }
      ]
    },
    {
      "cell_type": "markdown",
      "source": [
        "#### **Loading sequences from files** \n",
        "Biotite enables the user to load and save sequences from/to the popular FASTA format via the FastaFile class. A FASTA file may contain multiple sequences. Each sequence entry starts with a line with a leading '>' and a trailing header name. The corresponding sequence is specified in the following lines until the next header or end of file. \n",
        "\n",
        "Since every sequence has its obligatory header, a FASTA file is predestinated to be implemented as some kind of dictionary. This is exactly what has been done in Biotite: The header strings (without the '>') are used as keys to access the respective sequence strings. Actually you can cast the FastaFile object into a dict. Let’s demonstrate this on the genome of the lambda phage (Accession: NC_001416). After downloading the FASTA file from the NCBI Entrez database, we can load its contents in the following way:"
      ],
      "metadata": {
        "id": "3wV5bXNwgPPC"
      }
    },
    {
      "cell_type": "code",
      "source": [
        "from tempfile import gettempdir, NamedTemporaryFile\n",
        "import biotite.sequence as seq\n",
        "import biotite.sequence.io.fasta as fasta\n",
        "import biotite.database.entrez as entrez\n",
        "\n",
        "file_path = entrez.fetch(\n",
        "    \"NC_001416\", gettempdir(), suffix=\"fa\",\n",
        "    db_name=\"nuccore\", ret_type=\"fasta\"\n",
        ")\n",
        "fasta_file = fasta.FastaFile.read(file_path)\n",
        "for header, string in fasta_file.items():\n",
        "    print(\"Header:\", header)\n",
        "    print(len(string))\n",
        "    print(\"Sequence:\", string[:50], \"...\")\n",
        "    print(\"Sequence length:\", len(string))"
      ],
      "metadata": {
        "colab": {
          "base_uri": "https://localhost:8080/"
        },
        "id": "WCTwztqWgjDF",
        "outputId": "cd00bdbd-e607-432a-e541-9a329e08a610"
      },
      "execution_count": 71,
      "outputs": [
        {
          "output_type": "stream",
          "name": "stdout",
          "text": [
            "Header: NC_001416.1 Enterobacteria phage lambda, complete genome\n",
            "48502\n",
            "Sequence: GGGCGGCGACCTCGCGGGTTTTCGCTATTTATGAAAATTTTCCGGTTTAA ...\n",
            "Sequence length: 48502\n"
          ]
        }
      ]
    },
    {
      "cell_type": "markdown",
      "source": [
        "Since there is only a single sequence in the file, the loop is run only one time. As the sequence string is very long, only the first 50 bp are printed. Now this string could be used as input parameter for creation of a NucleotideSequence. But we want to spare ourselves some unnecessary work, there is already a convenience function for that:"
      ],
      "metadata": {
        "id": "jIW00oUggsSM"
      }
    },
    {
      "cell_type": "code",
      "source": [
        "dna_seq = fasta.get_sequence(fasta_file)\n",
        "print(type(dna_seq).__name__)\n",
        "print(dna_seq[:50])"
      ],
      "metadata": {
        "colab": {
          "base_uri": "https://localhost:8080/"
        },
        "id": "rgn4aHsZgtwf",
        "outputId": "f3b4e019-44d7-45cd-952c-d040008ba4d4"
      },
      "execution_count": 72,
      "outputs": [
        {
          "output_type": "stream",
          "name": "stdout",
          "text": [
            "NucleotideSequence\n",
            "GGGCGGCGACCTCGCGGGTTTTCGCTATTTATGAAAATTTTCCGGTTTAA\n"
          ]
        }
      ]
    },
    {
      "cell_type": "markdown",
      "source": [
        "In this form **get_sequence()** returns the first sequence in the file, which is also the only sequence in most cases. If you want the sequence corresponding to a specific header, you have to specifiy the header parameter. The function even automatically recognizes, if the file contains a DNA or protein sequence and returns a NucleotideSequence or ProteinSequence, instance respectively. Actually, it just tries to create a NucleotideSequence, and if this fails, a ProteinSequence is created instead.\n",
        "\n",
        "Sequences can be written into FASTA files in a similar way: either via dictionary-like access or using the **set_sequence()** convenience function."
      ],
      "metadata": {
        "id": "GyiMdYwsgxPQ"
      }
    },
    {
      "cell_type": "code",
      "source": [
        "# Create new empty FASTA file\n",
        "fasta_file = fasta.FastaFile()\n",
        "# PROTIP: Let your cat walk over the keyboard\n",
        "dna_seq1 = seq.NucleotideSequence(\"ATCGGATCTATCGATGCTAGCTACAGCTAT\")\n",
        "dna_seq2 = seq.NucleotideSequence(\"ACGATCTACTAGCTGATGTCGTGCATGTACG\")\n",
        "# Append entries to file...\n",
        "# ... via set_sequence()\n",
        "fasta.set_sequence(fasta_file, dna_seq1, header=\"gibberish\")\n",
        "# .. or dictionary style\n",
        "fasta_file[\"more gibberish\"] = str(dna_seq2)\n",
        "print(fasta_file)\n",
        "temp_file = NamedTemporaryFile(suffix=\".fasta\", delete=False)\n",
        "fasta_file.write(temp_file.name)\n",
        "temp_file.close()"
      ],
      "metadata": {
        "colab": {
          "base_uri": "https://localhost:8080/"
        },
        "id": "OVMHs_MRhAw8",
        "outputId": "2b4274dc-76dd-4c2b-8d22-2144c6853eee"
      },
      "execution_count": 73,
      "outputs": [
        {
          "output_type": "stream",
          "name": "stdout",
          "text": [
            ">gibberish\n",
            "ATCGGATCTATCGATGCTAGCTACAGCTAT\n",
            ">more gibberish\n",
            "ACGATCTACTAGCTGATGTCGTGCATGTACG\n"
          ]
        }
      ]
    },
    {
      "cell_type": "markdown",
      "source": [
        "As we can see, our file contains our new 'gibberish' and 'more gibberish' sequences now.\n",
        "\n",
        "In a similar manner sequences and sequence quality scores can be read from FASTQ files. For further reference, have a look at the biotite.sequence.io.fastq subpackage.\n",
        "\n",
        "Alternatively, a **sequence can also be loaded from GenBank or GenPept files, using the GenBankFile class**.\n",
        "\n",
        "#### **Sequence Search** \n",
        "A sequence can be searched for the position of a subsequence or a specific symbol:"
      ],
      "metadata": {
        "id": "GSqHR6nZhFB3"
      }
    },
    {
      "cell_type": "code",
      "source": [
        "import biotite.sequence as seq\n",
        "\n",
        "main_seq = seq.NucleotideSequence(\"ACCGTATCAAGTATTG\")\n",
        "sub_seq = seq.NucleotideSequence(\"TAT\")\n",
        "print(\"Occurences of 'TAT':\", seq.find_subsequence(main_seq, sub_seq))\n",
        "print(\"Occurences of 'C':\", seq.find_symbol(main_seq, \"C\"))"
      ],
      "metadata": {
        "colab": {
          "base_uri": "https://localhost:8080/"
        },
        "id": "FgPsTPROh9b_",
        "outputId": "e316d7eb-cc78-4aa4-f623-8b2b3f8e347d"
      },
      "execution_count": 74,
      "outputs": [
        {
          "output_type": "stream",
          "name": "stdout",
          "text": [
            "Occurences of 'TAT': [ 4 11]\n",
            "Occurences of 'C': [1 2 7]\n"
          ]
        }
      ]
    },
    {
      "cell_type": "markdown",
      "source": [
        "####**Sequence alignments**\n",
        "\n",
        "##### **Pairwise alignments**\n",
        "\n",
        "When comparing two (or more) sequences, usually an alignment needs to be performed. Two kinds of algorithms need to be distinguished here: **Heuristic algorithms** do not guarantee to yield the optimal alignment, but instead they are very fast. On the other hand, there are **algorithms that calculate the optimal (maximum similarity score) alignment**, but are quite slow.\n",
        "\n",
        "The biotite.sequence.align package provides the *function* **align_optimal()**, which fits into the latter category. It either performs an optimal global alignment, using the **Needleman-Wunsch algorithm**, or an optimal local alignment, using the **Smith-Waterman algorithm**. By default it uses a linear gap penalty, but an affine gap penalty can be used, too.\n",
        "\n",
        "Most functions in biotite.sequence.align can align any two Sequence objects with each other. In fact the Sequence objects can be instances from different Sequence subclasses and therefore may have different alphabets. The only condition that must be satisfied, is that the SubstitutionMatrix alphabets match the alphabets of the sequences to be aligned.\n",
        "\n",
        "##### **SubstitutionMatrix**\n",
        "\n",
        "This class maps a combination of two symbols, one from the first sequence the other one from the second sequence, to a similarity score. A SubstitutionMatrix object contains two alphabets with length n or m, respectively, and an (n,m)-shaped ndarray storing the similarity scores. We can choose one of many predefined matrices from an internal database or we can create a custom matrix on our own.\n",
        "\n",
        "Let’s start by showing different ways to **construct a SubstitutionMatrix**, in our case for protein sequence alignments:"
      ],
      "metadata": {
        "id": "fguv5S6yiYjs"
      }
    },
    {
      "cell_type": "code",
      "source": [
        "import biotite.sequence as seq\n",
        "import biotite.sequence.align as align\n",
        "import numpy as np\n",
        "\n",
        "alph = seq.ProteinSequence.alphabet\n",
        "# Load the standard protein substitution matrix, which is BLOSUM62\n",
        "matrix = align.SubstitutionMatrix.std_protein_matrix()\n",
        "print(\"\\nBLOSUM62\\n\")\n",
        "print(matrix)\n",
        "# Load another matrix from internal database\n",
        "matrix = align.SubstitutionMatrix(alph, alph, \"BLOSUM50\")\n",
        "# Load a matrix dictionary representation,\n",
        "# modify it, and create the SubstitutionMatrix\n",
        "# (The dictionary could be alternatively loaded from a string containing\n",
        "# the matrix in NCBI format)\n",
        "matrix_dict = align.SubstitutionMatrix.dict_from_db(\"BLOSUM62\")\n",
        "matrix_dict[(\"P\",\"Y\")] = 100\n",
        "matrix = align.SubstitutionMatrix(alph, alph, matrix_dict)\n",
        "# And now create a matrix by directly provding the ndarray\n",
        "# containing the similarity scores\n",
        "# (identity matrix in our case)\n",
        "scores = np.identity(len(alph), dtype=int)\n",
        "matrix = align.SubstitutionMatrix(alph, alph, scores)\n",
        "print(\"\\n\\nIdentity matrix\\n\")\n",
        "print(matrix)"
      ],
      "metadata": {
        "colab": {
          "base_uri": "https://localhost:8080/"
        },
        "id": "33hwTJw8jh_-",
        "outputId": "223ab26c-b3d1-4e05-e628-3764bebcf1ac"
      },
      "execution_count": 75,
      "outputs": [
        {
          "output_type": "stream",
          "name": "stdout",
          "text": [
            "\n",
            "BLOSUM62\n",
            "\n",
            "    A   C   D   E   F   G   H   I   K   L   M   N   P   Q   R   S   T   V   W   Y   B   Z   X   *\n",
            "A   4   0  -2  -1  -2   0  -2  -1  -1  -1  -1  -2  -1  -1  -1   1   0   0  -3  -2  -2  -1   0  -4\n",
            "C   0   9  -3  -4  -2  -3  -3  -1  -3  -1  -1  -3  -3  -3  -3  -1  -1  -1  -2  -2  -3  -3  -2  -4\n",
            "D  -2  -3   6   2  -3  -1  -1  -3  -1  -4  -3   1  -1   0  -2   0  -1  -3  -4  -3   4   1  -1  -4\n",
            "E  -1  -4   2   5  -3  -2   0  -3   1  -3  -2   0  -1   2   0   0  -1  -2  -3  -2   1   4  -1  -4\n",
            "F  -2  -2  -3  -3   6  -3  -1   0  -3   0   0  -3  -4  -3  -3  -2  -2  -1   1   3  -3  -3  -1  -4\n",
            "G   0  -3  -1  -2  -3   6  -2  -4  -2  -4  -3   0  -2  -2  -2   0  -2  -3  -2  -3  -1  -2  -1  -4\n",
            "H  -2  -3  -1   0  -1  -2   8  -3  -1  -3  -2   1  -2   0   0  -1  -2  -3  -2   2   0   0  -1  -4\n",
            "I  -1  -1  -3  -3   0  -4  -3   4  -3   2   1  -3  -3  -3  -3  -2  -1   3  -3  -1  -3  -3  -1  -4\n",
            "K  -1  -3  -1   1  -3  -2  -1  -3   5  -2  -1   0  -1   1   2   0  -1  -2  -3  -2   0   1  -1  -4\n",
            "L  -1  -1  -4  -3   0  -4  -3   2  -2   4   2  -3  -3  -2  -2  -2  -1   1  -2  -1  -4  -3  -1  -4\n",
            "M  -1  -1  -3  -2   0  -3  -2   1  -1   2   5  -2  -2   0  -1  -1  -1   1  -1  -1  -3  -1  -1  -4\n",
            "N  -2  -3   1   0  -3   0   1  -3   0  -3  -2   6  -2   0   0   1   0  -3  -4  -2   3   0  -1  -4\n",
            "P  -1  -3  -1  -1  -4  -2  -2  -3  -1  -3  -2  -2   7  -1  -2  -1  -1  -2  -4  -3  -2  -1  -2  -4\n",
            "Q  -1  -3   0   2  -3  -2   0  -3   1  -2   0   0  -1   5   1   0  -1  -2  -2  -1   0   3  -1  -4\n",
            "R  -1  -3  -2   0  -3  -2   0  -3   2  -2  -1   0  -2   1   5  -1  -1  -3  -3  -2  -1   0  -1  -4\n",
            "S   1  -1   0   0  -2   0  -1  -2   0  -2  -1   1  -1   0  -1   4   1  -2  -3  -2   0   0   0  -4\n",
            "T   0  -1  -1  -1  -2  -2  -2  -1  -1  -1  -1   0  -1  -1  -1   1   5   0  -2  -2  -1  -1   0  -4\n",
            "V   0  -1  -3  -2  -1  -3  -3   3  -2   1   1  -3  -2  -2  -3  -2   0   4  -3  -1  -3  -2  -1  -4\n",
            "W  -3  -2  -4  -3   1  -2  -2  -3  -3  -2  -1  -4  -4  -2  -3  -3  -2  -3  11   2  -4  -3  -2  -4\n",
            "Y  -2  -2  -3  -2   3  -3   2  -1  -2  -1  -1  -2  -3  -1  -2  -2  -2  -1   2   7  -3  -2  -1  -4\n",
            "B  -2  -3   4   1  -3  -1   0  -3   0  -4  -3   3  -2   0  -1   0  -1  -3  -4  -3   4   1  -1  -4\n",
            "Z  -1  -3   1   4  -3  -2   0  -3   1  -3  -1   0  -1   3   0   0  -1  -2  -3  -2   1   4  -1  -4\n",
            "X   0  -2  -1  -1  -1  -1  -1  -1  -1  -1  -1  -1  -2  -1  -1   0   0  -1  -2  -1  -1  -1  -1  -4\n",
            "*  -4  -4  -4  -4  -4  -4  -4  -4  -4  -4  -4  -4  -4  -4  -4  -4  -4  -4  -4  -4  -4  -4  -4   1\n",
            "\n",
            "\n",
            "Identity matrix\n",
            "\n",
            "    A   C   D   E   F   G   H   I   K   L   M   N   P   Q   R   S   T   V   W   Y   B   Z   X   *\n",
            "A   1   0   0   0   0   0   0   0   0   0   0   0   0   0   0   0   0   0   0   0   0   0   0   0\n",
            "C   0   1   0   0   0   0   0   0   0   0   0   0   0   0   0   0   0   0   0   0   0   0   0   0\n",
            "D   0   0   1   0   0   0   0   0   0   0   0   0   0   0   0   0   0   0   0   0   0   0   0   0\n",
            "E   0   0   0   1   0   0   0   0   0   0   0   0   0   0   0   0   0   0   0   0   0   0   0   0\n",
            "F   0   0   0   0   1   0   0   0   0   0   0   0   0   0   0   0   0   0   0   0   0   0   0   0\n",
            "G   0   0   0   0   0   1   0   0   0   0   0   0   0   0   0   0   0   0   0   0   0   0   0   0\n",
            "H   0   0   0   0   0   0   1   0   0   0   0   0   0   0   0   0   0   0   0   0   0   0   0   0\n",
            "I   0   0   0   0   0   0   0   1   0   0   0   0   0   0   0   0   0   0   0   0   0   0   0   0\n",
            "K   0   0   0   0   0   0   0   0   1   0   0   0   0   0   0   0   0   0   0   0   0   0   0   0\n",
            "L   0   0   0   0   0   0   0   0   0   1   0   0   0   0   0   0   0   0   0   0   0   0   0   0\n",
            "M   0   0   0   0   0   0   0   0   0   0   1   0   0   0   0   0   0   0   0   0   0   0   0   0\n",
            "N   0   0   0   0   0   0   0   0   0   0   0   1   0   0   0   0   0   0   0   0   0   0   0   0\n",
            "P   0   0   0   0   0   0   0   0   0   0   0   0   1   0   0   0   0   0   0   0   0   0   0   0\n",
            "Q   0   0   0   0   0   0   0   0   0   0   0   0   0   1   0   0   0   0   0   0   0   0   0   0\n",
            "R   0   0   0   0   0   0   0   0   0   0   0   0   0   0   1   0   0   0   0   0   0   0   0   0\n",
            "S   0   0   0   0   0   0   0   0   0   0   0   0   0   0   0   1   0   0   0   0   0   0   0   0\n",
            "T   0   0   0   0   0   0   0   0   0   0   0   0   0   0   0   0   1   0   0   0   0   0   0   0\n",
            "V   0   0   0   0   0   0   0   0   0   0   0   0   0   0   0   0   0   1   0   0   0   0   0   0\n",
            "W   0   0   0   0   0   0   0   0   0   0   0   0   0   0   0   0   0   0   1   0   0   0   0   0\n",
            "Y   0   0   0   0   0   0   0   0   0   0   0   0   0   0   0   0   0   0   0   1   0   0   0   0\n",
            "B   0   0   0   0   0   0   0   0   0   0   0   0   0   0   0   0   0   0   0   0   1   0   0   0\n",
            "Z   0   0   0   0   0   0   0   0   0   0   0   0   0   0   0   0   0   0   0   0   0   1   0   0\n",
            "X   0   0   0   0   0   0   0   0   0   0   0   0   0   0   0   0   0   0   0   0   0   0   1   0\n",
            "*   0   0   0   0   0   0   0   0   0   0   0   0   0   0   0   0   0   0   0   0   0   0   0   1\n"
          ]
        }
      ]
    },
    {
      "cell_type": "markdown",
      "source": [
        "For our protein alignment we will use the standard BLOSUM62 matrix."
      ],
      "metadata": {
        "id": "zbT47wOxjmns"
      }
    },
    {
      "cell_type": "code",
      "source": [
        "seq1 = seq.ProteinSequence(\"BIQTITE\")\n",
        "seq2 = seq.ProteinSequence(\"IQLITE\")\n",
        "matrix = align.SubstitutionMatrix.std_protein_matrix()\n",
        "print(\"\\nLocal alignment\")\n",
        "alignments = align.align_optimal(seq1, seq2, matrix, local=True)\n",
        "for ali in alignments:\n",
        "    print(ali)\n",
        "print(\"Global alignment\")\n",
        "alignments = align.align_optimal(seq1, seq2, matrix, local=False)\n",
        "for ali in alignments:\n",
        "    print(ali)"
      ],
      "metadata": {
        "colab": {
          "base_uri": "https://localhost:8080/"
        },
        "id": "JYnRKIeLjqN5",
        "outputId": "447923f0-08a2-4454-c6b1-f0548d8a677e"
      },
      "execution_count": 76,
      "outputs": [
        {
          "output_type": "stream",
          "name": "stdout",
          "text": [
            "\n",
            "Local alignment\n",
            "IQTITE\n",
            "IQLITE\n",
            "Global alignment\n",
            "BIQTITE\n",
            "-IQLITE\n"
          ]
        }
      ]
    },
    {
      "cell_type": "markdown",
      "source": [
        "The alignment functions return a list of Alignment objects. This object saves the input sequences together with a so called trace - the indices to symbols in these sequences that are aligned to each other (-1 for a gap). Additionally the alignment score is stored in this object. Furthermore, this object can prettyprint the alignment into a human readable form.\n",
        "\n",
        "For publication purposes we can create an actual figure based on Matplotlib. We can either decide to color the symbols based on the symbol type or based on the similarity within the alignment columns. In this case we will go with the **similarity visualization**."
      ],
      "metadata": {
        "id": "10VZfa-HjucH"
      }
    },
    {
      "cell_type": "code",
      "source": [
        "import matplotlib.pyplot as plt\n",
        "import biotite.sequence.graphics as graphics\n",
        "\n",
        "fig, ax = plt.subplots(figsize=(2.0, 0.8))\n",
        "graphics.plot_alignment_similarity_based(\n",
        "    ax, alignments[0], matrix=matrix, symbols_per_line=len(alignments[0])\n",
        ")\n",
        "fig.tight_layout()"
      ],
      "metadata": {
        "colab": {
          "base_uri": "https://localhost:8080/",
          "height": 67
        },
        "id": "3QxSZbykj5oZ",
        "outputId": "9b3ed700-bbba-4290-f050-14bd07446f3f"
      },
      "execution_count": 77,
      "outputs": [
        {
          "output_type": "display_data",
          "data": {
            "text/plain": [
              "<Figure size 144x57.6 with 2 Axes>"
            ],
            "image/png": "[encoded data removed]"
          },
          "metadata": {
            "needs_background": "light"
          }
        }
      ]
    },
    {
      "cell_type": "markdown",
      "source": [
        "We can also do some simple analysis on these objects, like determining the sequence identity or calculating the score. For further custom analysis, it can be convenient to have directly the aligned symbols codes instead of the trace."
      ],
      "metadata": {
        "id": "nkaXqobgkAvn"
      }
    },
    {
      "cell_type": "code",
      "source": [
        "alignment = alignments[0]\n",
        "print(\"Score: \", alignment.score)\n",
        "print(\"Recalculated score:\", align.score(alignment, matrix=matrix))\n",
        "print(\"Sequence identity:\", align.get_sequence_identity(alignment))\n",
        "print(\"Symbols:\")\n",
        "print(align.get_symbols(alignment))\n",
        "print(\"symbols codes:\")\n",
        "print(align.get_codes(alignment))"
      ],
      "metadata": {
        "colab": {
          "base_uri": "https://localhost:8080/"
        },
        "id": "qsbK2ppekPu5",
        "outputId": "4e474671-e6b2-4353-94d7-00227a5a60cd"
      },
      "execution_count": 78,
      "outputs": [
        {
          "output_type": "stream",
          "name": "stdout",
          "text": [
            "Score:  12\n",
            "Recalculated score: 12\n",
            "Sequence identity: 0.8333333333333334\n",
            "Symbols:\n",
            "[['B', 'I', 'Q', 'T', 'I', 'T', 'E'], [None, 'I', 'Q', 'L', 'I', 'T', 'E']]\n",
            "symbols codes:\n",
            "[[20  7 13 16  7 16  3]\n",
            " [-1  7 13  9  7 16  3]]\n"
          ]
        }
      ]
    },
    {
      "cell_type": "markdown",
      "source": [
        "We might wonder, why we should recalculate the score, when the score has already been directly calculated via align_optimal(). The answer is that we might load an alignment from a FASTA file using get_alignment(), where the score is not provided."
      ],
      "metadata": {
        "id": "f_GIP_PEkToQ"
      }
    },
    {
      "cell_type": "code",
      "source": [
        ""
      ],
      "metadata": {
        "id": "rFcW3YhgkdFI"
      },
      "execution_count": null,
      "outputs": []
    }
  ]
}
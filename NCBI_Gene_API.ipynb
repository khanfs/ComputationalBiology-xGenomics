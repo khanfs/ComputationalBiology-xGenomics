{
  "nbformat": 4,
  "nbformat_minor": 0,
  "metadata": {
    "colab": {
      "name": "NCBI-Gene-API.ipynb",
      "provenance": [],
      "authorship_tag": "ABX9TyMb+xoJhv76caoj/bezTauM",
      "include_colab_link": true
    },
    "kernelspec": {
      "name": "python3",
      "display_name": "Python 3"
    },
    "language_info": {
      "name": "python"
    }
  },
  "cells": [
    {
      "cell_type": "markdown",
      "metadata": {
        "id": "view-in-github",
        "colab_type": "text"
      },
      "source": [
        "<a href=\"https://colab.research.google.com/github/khanfs/ComputationalBiology-xGenomics/blob/main/NCBI_Gene_API.ipynb\" target=\"_parent\"><img src=\"https://colab.research.google.com/assets/colab-badge.svg\" alt=\"Open In Colab\"/></a>"
      ]
    },
    {
      "cell_type": "code",
      "execution_count": 1,
      "metadata": {
        "colab": {
          "base_uri": "https://localhost:8080/"
        },
        "id": "QKqbW2mV4sR-",
        "outputId": "c2e14c60-9ae7-4fe5-e436-8407f3a09df7"
      },
      "outputs": [
        {
          "output_type": "stream",
          "name": "stdout",
          "text": [
            "Looking in indexes: https://pypi.org/simple, https://us-python.pkg.dev/colab-wheels/public/simple/\n",
            "Requirement already satisfied: ncbi-datasets-pylib in /usr/local/lib/python3.7/dist-packages (13.24.3)\n",
            "Requirement already satisfied: jsonlines~=3.0 in /usr/local/lib/python3.7/dist-packages (from ncbi-datasets-pylib) (3.0.0)\n",
            "Requirement already satisfied: gffutils~=0.10 in /usr/local/lib/python3.7/dist-packages (from ncbi-datasets-pylib) (0.11.0)\n",
            "Requirement already satisfied: cachetools~=5.0 in /usr/local/lib/python3.7/dist-packages (from ncbi-datasets-pylib) (5.2.0)\n",
            "Requirement already satisfied: urllib3>=1.25.3 in /usr/local/lib/python3.7/dist-packages (from ncbi-datasets-pylib) (1.26.9)\n",
            "Requirement already satisfied: setuptools>=21.0.0 in /usr/local/lib/python3.7/dist-packages (from ncbi-datasets-pylib) (57.4.0)\n",
            "Requirement already satisfied: protobuf~=3.19 in /usr/local/lib/python3.7/dist-packages (from ncbi-datasets-pylib) (3.20.1)\n",
            "Requirement already satisfied: jinja2~=3.0 in /usr/local/lib/python3.7/dist-packages (from ncbi-datasets-pylib) (3.1.2)\n",
            "Requirement already satisfied: python-dateutil>=2.5.3 in /usr/local/lib/python3.7/dist-packages (from ncbi-datasets-pylib) (2.8.2)\n",
            "Requirement already satisfied: pyfaidx>=0.5.5.2 in /usr/local/lib/python3.7/dist-packages (from gffutils~=0.10->ncbi-datasets-pylib) (0.7.0)\n",
            "Requirement already satisfied: argh>=0.26.2 in /usr/local/lib/python3.7/dist-packages (from gffutils~=0.10->ncbi-datasets-pylib) (0.26.2)\n",
            "Requirement already satisfied: simplejson in /usr/local/lib/python3.7/dist-packages (from gffutils~=0.10->ncbi-datasets-pylib) (3.17.6)\n",
            "Requirement already satisfied: six>=1.12.0 in /usr/local/lib/python3.7/dist-packages (from gffutils~=0.10->ncbi-datasets-pylib) (1.15.0)\n",
            "Requirement already satisfied: argcomplete>=1.9.4 in /usr/local/lib/python3.7/dist-packages (from gffutils~=0.10->ncbi-datasets-pylib) (2.0.0)\n",
            "Requirement already satisfied: importlib-metadata<5,>=0.23 in /usr/local/lib/python3.7/dist-packages (from argcomplete>=1.9.4->gffutils~=0.10->ncbi-datasets-pylib) (4.11.4)\n",
            "Requirement already satisfied: typing-extensions>=3.6.4 in /usr/local/lib/python3.7/dist-packages (from importlib-metadata<5,>=0.23->argcomplete>=1.9.4->gffutils~=0.10->ncbi-datasets-pylib) (4.1.1)\n",
            "Requirement already satisfied: zipp>=0.5 in /usr/local/lib/python3.7/dist-packages (from importlib-metadata<5,>=0.23->argcomplete>=1.9.4->gffutils~=0.10->ncbi-datasets-pylib) (3.8.0)\n",
            "Requirement already satisfied: MarkupSafe>=2.0 in /usr/local/lib/python3.7/dist-packages (from jinja2~=3.0->ncbi-datasets-pylib) (2.0.1)\n",
            "Requirement already satisfied: attrs>=19.2.0 in /usr/local/lib/python3.7/dist-packages (from jsonlines~=3.0->ncbi-datasets-pylib) (21.4.0)\n"
          ]
        }
      ],
      "source": [
        "! pip install ncbi-datasets-pylib"
      ]
    },
    {
      "cell_type": "code",
      "source": [
        "pip install --upgrade ncbi-datasets-pylib"
      ],
      "metadata": {
        "colab": {
          "base_uri": "https://localhost:8080/"
        },
        "id": "zbkEVcLC5oeW",
        "outputId": "83f32fc6-dccf-457b-ec05-f0c4ceaa9bfb"
      },
      "execution_count": 2,
      "outputs": [
        {
          "output_type": "stream",
          "name": "stdout",
          "text": [
            "Looking in indexes: https://pypi.org/simple, https://us-python.pkg.dev/colab-wheels/public/simple/\n",
            "Requirement already satisfied: ncbi-datasets-pylib in /usr/local/lib/python3.7/dist-packages (13.24.3)\n",
            "Requirement already satisfied: setuptools>=21.0.0 in /usr/local/lib/python3.7/dist-packages (from ncbi-datasets-pylib) (57.4.0)\n",
            "Requirement already satisfied: cachetools~=5.0 in /usr/local/lib/python3.7/dist-packages (from ncbi-datasets-pylib) (5.2.0)\n",
            "Requirement already satisfied: python-dateutil~=2.8 in /usr/local/lib/python3.7/dist-packages (from ncbi-datasets-pylib) (2.8.2)\n",
            "Requirement already satisfied: protobuf~=3.19 in /usr/local/lib/python3.7/dist-packages (from ncbi-datasets-pylib) (3.20.1)\n",
            "Requirement already satisfied: jsonlines~=3.0 in /usr/local/lib/python3.7/dist-packages (from ncbi-datasets-pylib) (3.0.0)\n",
            "Requirement already satisfied: jinja2~=3.0 in /usr/local/lib/python3.7/dist-packages (from ncbi-datasets-pylib) (3.1.2)\n",
            "Requirement already satisfied: urllib3>=1.25.3 in /usr/local/lib/python3.7/dist-packages (from ncbi-datasets-pylib) (1.26.9)\n",
            "Requirement already satisfied: gffutils~=0.10 in /usr/local/lib/python3.7/dist-packages (from ncbi-datasets-pylib) (0.11.0)\n",
            "Requirement already satisfied: six>=1.12.0 in /usr/local/lib/python3.7/dist-packages (from gffutils~=0.10->ncbi-datasets-pylib) (1.15.0)\n",
            "Requirement already satisfied: argh>=0.26.2 in /usr/local/lib/python3.7/dist-packages (from gffutils~=0.10->ncbi-datasets-pylib) (0.26.2)\n",
            "Requirement already satisfied: simplejson in /usr/local/lib/python3.7/dist-packages (from gffutils~=0.10->ncbi-datasets-pylib) (3.17.6)\n",
            "Requirement already satisfied: argcomplete>=1.9.4 in /usr/local/lib/python3.7/dist-packages (from gffutils~=0.10->ncbi-datasets-pylib) (2.0.0)\n",
            "Requirement already satisfied: pyfaidx>=0.5.5.2 in /usr/local/lib/python3.7/dist-packages (from gffutils~=0.10->ncbi-datasets-pylib) (0.7.0)\n",
            "Requirement already satisfied: importlib-metadata<5,>=0.23 in /usr/local/lib/python3.7/dist-packages (from argcomplete>=1.9.4->gffutils~=0.10->ncbi-datasets-pylib) (4.11.4)\n",
            "Requirement already satisfied: zipp>=0.5 in /usr/local/lib/python3.7/dist-packages (from importlib-metadata<5,>=0.23->argcomplete>=1.9.4->gffutils~=0.10->ncbi-datasets-pylib) (3.8.0)\n",
            "Requirement already satisfied: typing-extensions>=3.6.4 in /usr/local/lib/python3.7/dist-packages (from importlib-metadata<5,>=0.23->argcomplete>=1.9.4->gffutils~=0.10->ncbi-datasets-pylib) (4.1.1)\n",
            "Requirement already satisfied: MarkupSafe>=2.0 in /usr/local/lib/python3.7/dist-packages (from jinja2~=3.0->ncbi-datasets-pylib) (2.0.1)\n",
            "Requirement already satisfied: attrs>=19.2.0 in /usr/local/lib/python3.7/dist-packages (from jsonlines~=3.0->ncbi-datasets-pylib) (21.4.0)\n"
          ]
        }
      ]
    },
    {
      "cell_type": "code",
      "source": [
        "import ncbi.datasets\n",
        "import json\n",
        "import jsonlines\n",
        "import os\n",
        "import csv\n",
        "import zipfile\n",
        "import pandas as pd\n",
        "from pyfaidx import Fasta\n",
        "from google.protobuf.json_format import ParseDict\n",
        "import ncbi.datasets.v1.reports.virus_pb2 as virus_report_pb2\n",
        "from collections import Counter\n",
        "from datetime import datetime, timezone, timedelta"
      ],
      "metadata": {
        "id": "fVDeNnka5Lnn"
      },
      "execution_count": 3,
      "outputs": []
    },
    {
      "cell_type": "code",
      "source": [
        "# Start a Datasets gene API instance\n",
        "api_client = ncbi.datasets.ApiClient()\n",
        "ds_gene_instance = ncbi.datasets.GeneApi(api_client)\n",
        "\n",
        "# Retrieve gene summaries for the three genes using NCBI Gene IDs\n",
        "gene_summary = ds_gene_instance.gene_metadata_by_id([2798, 114814, 404718])\n",
        "\n",
        "# Look up the symbols, chromosome number and SwissProt accession for each gene\n",
        "def report_on_gene_descriptors(gene_summary, leader='\\t', report_errors=True):\n",
        "    if report_errors:\n",
        "        for message in gene_summary.messages or []:\n",
        "            print(f'{leader}Error for: ({\",\".join(message.error.invalid_identifiers)})')\n",
        "            print(f'{leader}{leader}Reason: ({message.error.reason})')\n",
        "\n",
        "    if not gene_summary.genes:\n",
        "        print(f'{leader}No genes found')\n",
        "        return\n",
        "\n",
        "    for gene in map(lambda g: g.gene, gene_summary.genes):\n",
        "        print(f'{leader}{gene.symbol} (GeneID: {gene.gene_id}), Chromosome: {gene.chromosomes}, SwissProt: {gene.swiss_prot_accessions}')\n",
        "\n",
        "report_on_gene_descriptors(gene_summary)"
      ],
      "metadata": {
        "colab": {
          "base_uri": "https://localhost:8080/"
        },
        "id": "ukiHdicz7MzY",
        "outputId": "6e4a833c-69f3-4cda-b325-bb915e72a52e"
      },
      "execution_count": 4,
      "outputs": [
        {
          "output_type": "stream",
          "name": "stdout",
          "text": [
            "\tGNRHR2 (GeneID: 114814), Chromosome: ['1'], SwissProt: ['Q96P88']\n",
            "\tGNRHR (GeneID: 2798), Chromosome: ['4'], SwissProt: ['P30968']\n",
            "\tGNRHR2P1 (GeneID: 404718), Chromosome: ['14'], SwissProt: None\n"
          ]
        }
      ]
    }
  ]
}